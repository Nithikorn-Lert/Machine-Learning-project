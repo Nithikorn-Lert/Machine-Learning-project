{
  "nbformat": 4,
  "nbformat_minor": 0,
  "metadata": {
    "colab": {
      "name": "Python - Business Interpretation using Principle Component Analysis.ipynb",
      "version": "0.3.2",
      "provenance": [],
      "collapsed_sections": [],
      "include_colab_link": true
    },
    "kernelspec": {
      "name": "python3",
      "display_name": "Python 3"
    }
  },
  "cells": [
    {
      "cell_type": "markdown",
      "metadata": {
        "id": "view-in-github",
        "colab_type": "text"
      },
      "source": [
        "<a href=\"https://colab.research.google.com/github/Nithikorn-Lert/Machine-Learning-project/blob/master/Python_Business_Interpretation_using_Principle_Component_Analysis.ipynb\" target=\"_parent\"><img src=\"https://colab.research.google.com/assets/colab-badge.svg\" alt=\"Open In Colab\"/></a>"
      ]
    },
    {
      "cell_type": "markdown",
      "metadata": {
        "id": "6mKc7NkruMUN",
        "colab_type": "text"
      },
      "source": [
        "Ref: Chapman, Christopher N., McDonnell Feit, Elea - R for Marketing Research and Analytics\n",
        "\n",
        "This notebook was created for self-learning of Business statistics. The main GOAL is to be able to understand and interpret the result from business point of view.\n",
        "In addition, Since I'm learning a japannese language. So, japannese language will also be provided. I would like to greatly appreciate the great effort of Chris Chapman and other authors.\n",
        "\n",
        "このノートブックはビジネス視点で統計を自習するために、作られました。　目的には結果をビジネス的に解ることができて、その点で解釈できます。色々なことを参考になりましたので、著者たちに感謝します。"
      ]
    },
    {
      "cell_type": "code",
      "metadata": {
        "id": "kNSviUxjmG6R",
        "colab_type": "code",
        "colab": {}
      },
      "source": [
        "import pandas as pd\n",
        "import numpy as np\n",
        "\n",
        "from sklearn import preprocessing\n",
        "from sklearn.decomposition import PCA\n",
        "from sklearn.preprocessing import scale\n",
        "import seaborn as sns\n",
        "\n",
        "import matplotlib.pyplot as plt\n",
        "plt.style.use(['dark_background'])\n",
        "\n",
        "scaler = preprocessing.StandardScaler()"
      ],
      "execution_count": 0,
      "outputs": []
    },
    {
      "cell_type": "code",
      "metadata": {
        "id": "8nc3Ffyeonq5",
        "colab_type": "code",
        "colab": {}
      },
      "source": [
        "df = pd.read_csv(\"http://goo.gl/IQl8nc\")"
      ],
      "execution_count": 0,
      "outputs": []
    },
    {
      "cell_type": "code",
      "metadata": {
        "id": "RJ5-W01WooEf",
        "colab_type": "code",
        "outputId": "3bab8461-79bb-46ee-9316-58df2428e6a6",
        "colab": {
          "base_uri": "https://localhost:8080/",
          "height": 286
        }
      },
      "source": [
        "df.describe()"
      ],
      "execution_count": 0,
      "outputs": [
        {
          "output_type": "execute_result",
          "data": {
            "text/html": [
              "<div>\n",
              "<style scoped>\n",
              "    .dataframe tbody tr th:only-of-type {\n",
              "        vertical-align: middle;\n",
              "    }\n",
              "\n",
              "    .dataframe tbody tr th {\n",
              "        vertical-align: top;\n",
              "    }\n",
              "\n",
              "    .dataframe thead th {\n",
              "        text-align: right;\n",
              "    }\n",
              "</style>\n",
              "<table border=\"1\" class=\"dataframe\">\n",
              "  <thead>\n",
              "    <tr style=\"text-align: right;\">\n",
              "      <th></th>\n",
              "      <th>perform</th>\n",
              "      <th>leader</th>\n",
              "      <th>latest</th>\n",
              "      <th>fun</th>\n",
              "      <th>serious</th>\n",
              "      <th>bargain</th>\n",
              "      <th>value</th>\n",
              "      <th>trendy</th>\n",
              "      <th>rebuy</th>\n",
              "    </tr>\n",
              "  </thead>\n",
              "  <tbody>\n",
              "    <tr>\n",
              "      <th>count</th>\n",
              "      <td>1000.000000</td>\n",
              "      <td>1000.000000</td>\n",
              "      <td>1000.000000</td>\n",
              "      <td>1000.00000</td>\n",
              "      <td>1000.000000</td>\n",
              "      <td>1000.000000</td>\n",
              "      <td>1000.00000</td>\n",
              "      <td>1000.000000</td>\n",
              "      <td>1000.000000</td>\n",
              "    </tr>\n",
              "    <tr>\n",
              "      <th>mean</th>\n",
              "      <td>4.488000</td>\n",
              "      <td>4.417000</td>\n",
              "      <td>6.195000</td>\n",
              "      <td>6.06800</td>\n",
              "      <td>4.323000</td>\n",
              "      <td>4.259000</td>\n",
              "      <td>4.33700</td>\n",
              "      <td>5.220000</td>\n",
              "      <td>3.727000</td>\n",
              "    </tr>\n",
              "    <tr>\n",
              "      <th>std</th>\n",
              "      <td>3.203454</td>\n",
              "      <td>2.608432</td>\n",
              "      <td>3.078059</td>\n",
              "      <td>2.74425</td>\n",
              "      <td>2.778199</td>\n",
              "      <td>2.667027</td>\n",
              "      <td>2.39858</td>\n",
              "      <td>2.742101</td>\n",
              "      <td>2.544592</td>\n",
              "    </tr>\n",
              "    <tr>\n",
              "      <th>min</th>\n",
              "      <td>1.000000</td>\n",
              "      <td>1.000000</td>\n",
              "      <td>1.000000</td>\n",
              "      <td>1.00000</td>\n",
              "      <td>1.000000</td>\n",
              "      <td>1.000000</td>\n",
              "      <td>1.00000</td>\n",
              "      <td>1.000000</td>\n",
              "      <td>1.000000</td>\n",
              "    </tr>\n",
              "    <tr>\n",
              "      <th>25%</th>\n",
              "      <td>1.000000</td>\n",
              "      <td>2.000000</td>\n",
              "      <td>4.000000</td>\n",
              "      <td>4.00000</td>\n",
              "      <td>2.000000</td>\n",
              "      <td>2.000000</td>\n",
              "      <td>2.00000</td>\n",
              "      <td>3.000000</td>\n",
              "      <td>1.000000</td>\n",
              "    </tr>\n",
              "    <tr>\n",
              "      <th>50%</th>\n",
              "      <td>4.000000</td>\n",
              "      <td>4.000000</td>\n",
              "      <td>7.000000</td>\n",
              "      <td>6.00000</td>\n",
              "      <td>4.000000</td>\n",
              "      <td>4.000000</td>\n",
              "      <td>4.00000</td>\n",
              "      <td>5.000000</td>\n",
              "      <td>3.000000</td>\n",
              "    </tr>\n",
              "    <tr>\n",
              "      <th>75%</th>\n",
              "      <td>7.000000</td>\n",
              "      <td>6.000000</td>\n",
              "      <td>9.000000</td>\n",
              "      <td>8.00000</td>\n",
              "      <td>6.000000</td>\n",
              "      <td>6.000000</td>\n",
              "      <td>6.00000</td>\n",
              "      <td>7.000000</td>\n",
              "      <td>5.000000</td>\n",
              "    </tr>\n",
              "    <tr>\n",
              "      <th>max</th>\n",
              "      <td>10.000000</td>\n",
              "      <td>10.000000</td>\n",
              "      <td>10.000000</td>\n",
              "      <td>10.00000</td>\n",
              "      <td>10.000000</td>\n",
              "      <td>10.000000</td>\n",
              "      <td>10.00000</td>\n",
              "      <td>10.000000</td>\n",
              "      <td>10.000000</td>\n",
              "    </tr>\n",
              "  </tbody>\n",
              "</table>\n",
              "</div>"
            ],
            "text/plain": [
              "           perform       leader  ...       trendy        rebuy\n",
              "count  1000.000000  1000.000000  ...  1000.000000  1000.000000\n",
              "mean      4.488000     4.417000  ...     5.220000     3.727000\n",
              "std       3.203454     2.608432  ...     2.742101     2.544592\n",
              "min       1.000000     1.000000  ...     1.000000     1.000000\n",
              "25%       1.000000     2.000000  ...     3.000000     1.000000\n",
              "50%       4.000000     4.000000  ...     5.000000     3.000000\n",
              "75%       7.000000     6.000000  ...     7.000000     5.000000\n",
              "max      10.000000    10.000000  ...    10.000000    10.000000\n",
              "\n",
              "[8 rows x 9 columns]"
            ]
          },
          "metadata": {
            "tags": []
          },
          "execution_count": 3
        }
      ]
    },
    {
      "cell_type": "code",
      "metadata": {
        "id": "mQlai8veq1Iu",
        "colab_type": "code",
        "colab": {}
      },
      "source": [
        "df_content = df.loc[:,[\"perform\", \"leader\", \"latest\", \"fun\", \"serious\",\t\"bargain\",\t\"value\", \"trendy\",\t\"rebuy\"]]\n",
        "names = df_content.columns"
      ],
      "execution_count": 0,
      "outputs": []
    },
    {
      "cell_type": "code",
      "metadata": {
        "id": "UdtYEvxMooIL",
        "colab_type": "code",
        "colab": {}
      },
      "source": [
        "scaler = preprocessing.StandardScaler()\n",
        "scaled_df = scaler.fit_transform(df_content)\n",
        "\n",
        "scaled_df = pd.DataFrame(scaled_df, columns=names)"
      ],
      "execution_count": 0,
      "outputs": []
    },
    {
      "cell_type": "code",
      "metadata": {
        "id": "6Y5Np_KPooNN",
        "colab_type": "code",
        "outputId": "fac74332-8dce-4e16-dd51-72510f28f5a1",
        "colab": {
          "base_uri": "https://localhost:8080/",
          "height": 196
        }
      },
      "source": [
        "scaled_df[\"brand\"] = df.brand\n",
        "scaled_df.head()"
      ],
      "execution_count": 0,
      "outputs": [
        {
          "output_type": "execute_result",
          "data": {
            "text/html": [
              "<div>\n",
              "<style scoped>\n",
              "    .dataframe tbody tr th:only-of-type {\n",
              "        vertical-align: middle;\n",
              "    }\n",
              "\n",
              "    .dataframe tbody tr th {\n",
              "        vertical-align: top;\n",
              "    }\n",
              "\n",
              "    .dataframe thead th {\n",
              "        text-align: right;\n",
              "    }\n",
              "</style>\n",
              "<table border=\"1\" class=\"dataframe\">\n",
              "  <thead>\n",
              "    <tr style=\"text-align: right;\">\n",
              "      <th></th>\n",
              "      <th>perform</th>\n",
              "      <th>leader</th>\n",
              "      <th>latest</th>\n",
              "      <th>fun</th>\n",
              "      <th>serious</th>\n",
              "      <th>bargain</th>\n",
              "      <th>value</th>\n",
              "      <th>trendy</th>\n",
              "      <th>rebuy</th>\n",
              "      <th>brand</th>\n",
              "    </tr>\n",
              "  </thead>\n",
              "  <tbody>\n",
              "    <tr>\n",
              "      <th>0</th>\n",
              "      <td>-0.77705</td>\n",
              "      <td>-0.159946</td>\n",
              "      <td>0.586702</td>\n",
              "      <td>0.704370</td>\n",
              "      <td>-0.836572</td>\n",
              "      <td>1.778524</td>\n",
              "      <td>1.110796</td>\n",
              "      <td>-0.445137</td>\n",
              "      <td>0.893714</td>\n",
              "      <td>a</td>\n",
              "    </tr>\n",
              "    <tr>\n",
              "      <th>1</th>\n",
              "      <td>-1.08937</td>\n",
              "      <td>-1.310638</td>\n",
              "      <td>-0.713468</td>\n",
              "      <td>0.339789</td>\n",
              "      <td>-1.196697</td>\n",
              "      <td>-1.222571</td>\n",
              "      <td>-1.391936</td>\n",
              "      <td>-1.174870</td>\n",
              "      <td>-0.679034</td>\n",
              "      <td>a</td>\n",
              "    </tr>\n",
              "    <tr>\n",
              "      <th>2</th>\n",
              "      <td>-0.77705</td>\n",
              "      <td>-0.543510</td>\n",
              "      <td>-0.388426</td>\n",
              "      <td>1.068950</td>\n",
              "      <td>-0.836572</td>\n",
              "      <td>1.778524</td>\n",
              "      <td>0.276552</td>\n",
              "      <td>-1.539736</td>\n",
              "      <td>0.893714</td>\n",
              "      <td>a</td>\n",
              "    </tr>\n",
              "    <tr>\n",
              "      <th>3</th>\n",
              "      <td>-1.08937</td>\n",
              "      <td>0.607182</td>\n",
              "      <td>1.236787</td>\n",
              "      <td>0.704370</td>\n",
              "      <td>-0.476446</td>\n",
              "      <td>-0.097160</td>\n",
              "      <td>0.276552</td>\n",
              "      <td>-1.174870</td>\n",
              "      <td>-1.072221</td>\n",
              "      <td>a</td>\n",
              "    </tr>\n",
              "    <tr>\n",
              "      <th>4</th>\n",
              "      <td>-1.08937</td>\n",
              "      <td>-1.310638</td>\n",
              "      <td>-0.388426</td>\n",
              "      <td>0.704370</td>\n",
              "      <td>-1.196697</td>\n",
              "      <td>1.778524</td>\n",
              "      <td>1.945040</td>\n",
              "      <td>-1.539736</td>\n",
              "      <td>-1.072221</td>\n",
              "      <td>a</td>\n",
              "    </tr>\n",
              "  </tbody>\n",
              "</table>\n",
              "</div>"
            ],
            "text/plain": [
              "   perform    leader    latest       fun  ...     value    trendy     rebuy  brand\n",
              "0 -0.77705 -0.159946  0.586702  0.704370  ...  1.110796 -0.445137  0.893714      a\n",
              "1 -1.08937 -1.310638 -0.713468  0.339789  ... -1.391936 -1.174870 -0.679034      a\n",
              "2 -0.77705 -0.543510 -0.388426  1.068950  ...  0.276552 -1.539736  0.893714      a\n",
              "3 -1.08937  0.607182  1.236787  0.704370  ...  0.276552 -1.174870 -1.072221      a\n",
              "4 -1.08937 -1.310638 -0.388426  0.704370  ...  1.945040 -1.539736 -1.072221      a\n",
              "\n",
              "[5 rows x 10 columns]"
            ]
          },
          "metadata": {
            "tags": []
          },
          "execution_count": 6
        }
      ]
    },
    {
      "cell_type": "code",
      "metadata": {
        "id": "xJJA0IMNX4P2",
        "colab_type": "code",
        "outputId": "a09e2d7c-cb73-4fd0-d444-b5e6755f602a",
        "colab": {
          "base_uri": "https://localhost:8080/",
          "height": 375
        }
      },
      "source": [
        "df_Gby_brand = scaled_df.groupby('brand').mean()\n",
        "df_Gby_brand"
      ],
      "execution_count": 0,
      "outputs": [
        {
          "output_type": "execute_result",
          "data": {
            "text/html": [
              "<div>\n",
              "<style scoped>\n",
              "    .dataframe tbody tr th:only-of-type {\n",
              "        vertical-align: middle;\n",
              "    }\n",
              "\n",
              "    .dataframe tbody tr th {\n",
              "        vertical-align: top;\n",
              "    }\n",
              "\n",
              "    .dataframe thead th {\n",
              "        text-align: right;\n",
              "    }\n",
              "</style>\n",
              "<table border=\"1\" class=\"dataframe\">\n",
              "  <thead>\n",
              "    <tr style=\"text-align: right;\">\n",
              "      <th></th>\n",
              "      <th>perform</th>\n",
              "      <th>leader</th>\n",
              "      <th>latest</th>\n",
              "      <th>fun</th>\n",
              "      <th>serious</th>\n",
              "      <th>bargain</th>\n",
              "      <th>value</th>\n",
              "      <th>trendy</th>\n",
              "      <th>rebuy</th>\n",
              "    </tr>\n",
              "    <tr>\n",
              "      <th>brand</th>\n",
              "      <th></th>\n",
              "      <th></th>\n",
              "      <th></th>\n",
              "      <th></th>\n",
              "      <th></th>\n",
              "      <th></th>\n",
              "      <th></th>\n",
              "      <th></th>\n",
              "      <th></th>\n",
              "    </tr>\n",
              "  </thead>\n",
              "  <tbody>\n",
              "    <tr>\n",
              "      <th>a</th>\n",
              "      <td>-0.886362</td>\n",
              "      <td>-0.528168</td>\n",
              "      <td>0.411179</td>\n",
              "      <td>0.656974</td>\n",
              "      <td>-0.919400</td>\n",
              "      <td>0.214203</td>\n",
              "      <td>0.184785</td>\n",
              "      <td>-0.525407</td>\n",
              "      <td>-0.596465</td>\n",
              "    </tr>\n",
              "    <tr>\n",
              "      <th>b</th>\n",
              "      <td>0.931336</td>\n",
              "      <td>1.071294</td>\n",
              "      <td>0.726470</td>\n",
              "      <td>-0.972701</td>\n",
              "      <td>1.183733</td>\n",
              "      <td>0.041640</td>\n",
              "      <td>0.151415</td>\n",
              "      <td>0.740679</td>\n",
              "      <td>0.237092</td>\n",
              "    </tr>\n",
              "    <tr>\n",
              "      <th>c</th>\n",
              "      <td>0.650249</td>\n",
              "      <td>1.163350</td>\n",
              "      <td>-0.102388</td>\n",
              "      <td>-0.845098</td>\n",
              "      <td>1.223346</td>\n",
              "      <td>-0.607347</td>\n",
              "      <td>-0.440898</td>\n",
              "      <td>0.025541</td>\n",
              "      <td>-0.132504</td>\n",
              "    </tr>\n",
              "    <tr>\n",
              "      <th>d</th>\n",
              "      <td>-0.680231</td>\n",
              "      <td>-0.593373</td>\n",
              "      <td>0.352671</td>\n",
              "      <td>0.186665</td>\n",
              "      <td>-0.692521</td>\n",
              "      <td>-0.881197</td>\n",
              "      <td>-0.933102</td>\n",
              "      <td>0.737030</td>\n",
              "      <td>-0.494236</td>\n",
              "    </tr>\n",
              "    <tr>\n",
              "      <th>e</th>\n",
              "      <td>-0.564673</td>\n",
              "      <td>0.192933</td>\n",
              "      <td>0.456685</td>\n",
              "      <td>0.296039</td>\n",
              "      <td>0.042135</td>\n",
              "      <td>0.551826</td>\n",
              "      <td>0.418373</td>\n",
              "      <td>0.138649</td>\n",
              "      <td>0.036566</td>\n",
              "    </tr>\n",
              "    <tr>\n",
              "      <th>f</th>\n",
              "      <td>-0.058716</td>\n",
              "      <td>0.269645</td>\n",
              "      <td>-1.262790</td>\n",
              "      <td>-0.218019</td>\n",
              "      <td>0.589525</td>\n",
              "      <td>0.874444</td>\n",
              "      <td>1.023200</td>\n",
              "      <td>-0.813652</td>\n",
              "      <td>1.357675</td>\n",
              "    </tr>\n",
              "    <tr>\n",
              "      <th>g</th>\n",
              "      <td>0.918843</td>\n",
              "      <td>-0.167617</td>\n",
              "      <td>-1.285543</td>\n",
              "      <td>-0.516975</td>\n",
              "      <td>-0.534066</td>\n",
              "      <td>0.896953</td>\n",
              "      <td>1.256789</td>\n",
              "      <td>-1.277032</td>\n",
              "      <td>1.361607</td>\n",
              "    </tr>\n",
              "    <tr>\n",
              "      <th>h</th>\n",
              "      <td>-0.014991</td>\n",
              "      <td>-0.298029</td>\n",
              "      <td>0.502191</td>\n",
              "      <td>0.715307</td>\n",
              "      <td>-0.141529</td>\n",
              "      <td>-0.738645</td>\n",
              "      <td>-0.782938</td>\n",
              "      <td>0.864733</td>\n",
              "      <td>-0.604328</td>\n",
              "    </tr>\n",
              "    <tr>\n",
              "      <th>i</th>\n",
              "      <td>0.334806</td>\n",
              "      <td>-0.321043</td>\n",
              "      <td>0.355922</td>\n",
              "      <td>0.412705</td>\n",
              "      <td>-0.148732</td>\n",
              "      <td>-0.254718</td>\n",
              "      <td>-0.803794</td>\n",
              "      <td>0.591083</td>\n",
              "      <td>-0.203278</td>\n",
              "    </tr>\n",
              "    <tr>\n",
              "      <th>j</th>\n",
              "      <td>-0.630260</td>\n",
              "      <td>-0.788991</td>\n",
              "      <td>-0.154395</td>\n",
              "      <td>0.285102</td>\n",
              "      <td>-0.602490</td>\n",
              "      <td>-0.097160</td>\n",
              "      <td>-0.073831</td>\n",
              "      <td>-0.481624</td>\n",
              "      <td>-0.962129</td>\n",
              "    </tr>\n",
              "  </tbody>\n",
              "</table>\n",
              "</div>"
            ],
            "text/plain": [
              "        perform    leader    latest  ...     value    trendy     rebuy\n",
              "brand                                ...                              \n",
              "a     -0.886362 -0.528168  0.411179  ...  0.184785 -0.525407 -0.596465\n",
              "b      0.931336  1.071294  0.726470  ...  0.151415  0.740679  0.237092\n",
              "c      0.650249  1.163350 -0.102388  ... -0.440898  0.025541 -0.132504\n",
              "d     -0.680231 -0.593373  0.352671  ... -0.933102  0.737030 -0.494236\n",
              "e     -0.564673  0.192933  0.456685  ...  0.418373  0.138649  0.036566\n",
              "f     -0.058716  0.269645 -1.262790  ...  1.023200 -0.813652  1.357675\n",
              "g      0.918843 -0.167617 -1.285543  ...  1.256789 -1.277032  1.361607\n",
              "h     -0.014991 -0.298029  0.502191  ... -0.782938  0.864733 -0.604328\n",
              "i      0.334806 -0.321043  0.355922  ... -0.803794  0.591083 -0.203278\n",
              "j     -0.630260 -0.788991 -0.154395  ... -0.073831 -0.481624 -0.962129\n",
              "\n",
              "[10 rows x 9 columns]"
            ]
          },
          "metadata": {
            "tags": []
          },
          "execution_count": 7
        }
      ]
    },
    {
      "cell_type": "code",
      "metadata": {
        "id": "I70WgvfUyvE5",
        "colab_type": "code",
        "outputId": "f3a46663-514f-4361-9806-afb71410db97",
        "colab": {
          "base_uri": "https://localhost:8080/",
          "height": 351
        }
      },
      "source": [
        "df_Gby_brand_sc = scale(df_Gby_brand)\n",
        "df_Gby_brand_sc"
      ],
      "execution_count": 0,
      "outputs": [
        {
          "output_type": "execute_result",
          "data": {
            "text/plain": [
              "array([[-1.36530129, -0.82641971,  0.60039078,  1.14494631, -1.26740088,\n",
              "         0.35278726,  0.25654292, -0.74231932, -0.78971641],\n",
              "       [ 1.43457662,  1.67624564,  1.06076947, -1.69518133,  1.63178484,\n",
              "         0.06858036,  0.21021463,  1.04646405,  0.31390837],\n",
              "       [ 1.00160581,  1.82028393, -0.14950442, -1.47279997,  1.68639279,\n",
              "        -1.00028473, -0.61211256,  0.03608497, -0.17543469],\n",
              "       [-1.04778936, -0.92844683,  0.51495968,  0.32531216, -0.95464626,\n",
              "        -1.45130873, -1.29545487,  1.04130905, -0.6543662 ],\n",
              "       [-0.86979025,  0.30188026,  0.66683719,  0.51592475,  0.058083  ,\n",
              "         0.90884425,  0.58084096,  0.19588982,  0.04841373],\n",
              "       [-0.09044279,  0.42191217, -1.84388788, -0.37995444,  0.81266559,\n",
              "         1.44018759,  1.42054125, -1.14956395,  1.79755488],\n",
              "       [ 1.41533347, -0.26226973, -1.87711108, -0.90096219, -0.73621446,\n",
              "         1.47725805,  1.7448393 , -1.80424836,  1.80276066],\n",
              "       [-0.02309178, -0.46632397,  0.7332836 ,  1.24660636, -0.19509931,\n",
              "        -1.21652911, -1.08697755,  1.22173389, -0.80012796],\n",
              "       [ 0.51571634, -0.50233355,  0.51970585,  0.71924485, -0.20502803,\n",
              "        -0.4195141 , -1.11593273,  0.83510924, -0.26913868],\n",
              "       [-0.97081677, -1.23452821, -0.22544318,  0.49686349, -0.83053728,\n",
              "        -0.16002084, -0.10250135, -0.68045938, -1.27385369]])"
            ]
          },
          "metadata": {
            "tags": []
          },
          "execution_count": 8
        }
      ]
    },
    {
      "cell_type": "code",
      "metadata": {
        "id": "_bWzjGCS7fOX",
        "colab_type": "code",
        "colab": {}
      },
      "source": [
        "array_test_scsc = df_Gby_brand.loc[:,[\"perform\", \"leader\", \"latest\", \"fun\", \"serious\", \"bargain\", \"value\", \"trendy\",\t\"rebuy\"]].values"
      ],
      "execution_count": 0,
      "outputs": []
    },
    {
      "cell_type": "code",
      "metadata": {
        "id": "qC_DhCq4yryb",
        "colab_type": "code",
        "outputId": "bb71c314-ef7b-4604-b039-52e2c66aa4b7",
        "colab": {
          "base_uri": "https://localhost:8080/",
          "height": 50
        }
      },
      "source": [
        "# for non-scale bipot, the graph is werid but the variance are almost the same.\n",
        "array_test = df_Gby_brand.loc[:,[\"perform\", \"leader\", \"latest\", \"fun\", \"serious\", \"bargain\", \"value\", \"trendy\",\t\"rebuy\"]].values \n",
        "pca = PCA(n_components = 9)\n",
        "pca.fit(array_test)"
      ],
      "execution_count": 0,
      "outputs": [
        {
          "output_type": "execute_result",
          "data": {
            "text/plain": [
              "PCA(copy=True, iterated_power='auto', n_components=9, random_state=None,\n",
              "    svd_solver='auto', tol=0.0, whiten=False)"
            ]
          },
          "metadata": {
            "tags": []
          },
          "execution_count": 10
        }
      ]
    },
    {
      "cell_type": "code",
      "metadata": {
        "id": "YeQn6RMazPjW",
        "colab_type": "code",
        "outputId": "84190866-e236-44a2-d250-297fc7e96cd8",
        "colab": {
          "base_uri": "https://localhost:8080/",
          "height": 351
        }
      },
      "source": [
        "pca_sc = PCA(n_components = 9)\n",
        "pca_sc.fit(df_Gby_brand_sc)\n",
        "\n",
        "print(\"NON-SCALED\")\n",
        "print(\"All components: \\n{}\".format(pca.explained_variance_ratio_))\n",
        "print()\n",
        "print(\"SUM First 3 components: \\n{}\".format(pca.explained_variance_ratio_[0:3]))\n",
        "print(np.sum(pca.explained_variance_ratio_[0:3]))\n",
        "print(\"---------------------------------------------------------------------\")\n",
        "print()\n",
        "print(\"SCALED\")\n",
        "print(\"All components: \\n{}\".format(pca_sc.explained_variance_ratio_))\n",
        "print()\n",
        "print(\"SUM First 3 components: \\n{}\".format(pca_sc.explained_variance_ratio_[0:3]))\n",
        "print(np.sum(pca_sc.explained_variance_ratio_[0:3]))"
      ],
      "execution_count": 0,
      "outputs": [
        {
          "output_type": "stream",
          "text": [
            "NON-SCALED\n",
            "All components: \n",
            "[5.17410509e-01 3.26489361e-01 6.28946960e-02 4.29424195e-02\n",
            " 2.93953683e-02 1.32022937e-02 5.02823713e-03 2.36836009e-03\n",
            " 2.68755378e-04]\n",
            "\n",
            "SUM First 3 components: \n",
            "[0.51741051 0.32648936 0.0628947 ]\n",
            "0.9067945659566625\n",
            "---------------------------------------------------------------------\n",
            "\n",
            "SCALED\n",
            "All components: \n",
            "[5.06241983e-01 3.34449128e-01 6.57049238e-02 4.20226493e-02\n",
            " 2.88802997e-02 1.49341239e-02 5.13909447e-03 2.36462907e-03\n",
            " 2.63169167e-04]\n",
            "\n",
            "SUM First 3 components: \n",
            "[0.50624198 0.33444913 0.06570492]\n",
            "0.9063960343864425\n"
          ],
          "name": "stdout"
        }
      ]
    },
    {
      "cell_type": "code",
      "metadata": {
        "id": "KShVrm3e0tfl",
        "colab_type": "code",
        "outputId": "a6bb8d86-f4d4-4316-f655-196ddce73d8c",
        "colab": {
          "base_uri": "https://localhost:8080/",
          "height": 316
        }
      },
      "source": [
        "# this table is incorrect when compare to result of R programming. The correct table is transpose table\n",
        "# REF: https://stackoverflow.com/questions/39216897/plot-pca-loadings-and-loading-in-biplot-in-sklearn-like-rs-autoplot\n",
        "pca_table = pd.DataFrame(pca_sc.components_)\n",
        "pca_table"
      ],
      "execution_count": 0,
      "outputs": [
        {
          "output_type": "execute_result",
          "data": {
            "text/html": [
              "<div>\n",
              "<style scoped>\n",
              "    .dataframe tbody tr th:only-of-type {\n",
              "        vertical-align: middle;\n",
              "    }\n",
              "\n",
              "    .dataframe tbody tr th {\n",
              "        vertical-align: top;\n",
              "    }\n",
              "\n",
              "    .dataframe thead th {\n",
              "        text-align: right;\n",
              "    }\n",
              "</style>\n",
              "<table border=\"1\" class=\"dataframe\">\n",
              "  <thead>\n",
              "    <tr style=\"text-align: right;\">\n",
              "      <th></th>\n",
              "      <th>0</th>\n",
              "      <th>1</th>\n",
              "      <th>2</th>\n",
              "      <th>3</th>\n",
              "      <th>4</th>\n",
              "      <th>5</th>\n",
              "      <th>6</th>\n",
              "      <th>7</th>\n",
              "      <th>8</th>\n",
              "    </tr>\n",
              "  </thead>\n",
              "  <tbody>\n",
              "    <tr>\n",
              "      <th>0</th>\n",
              "      <td>0.285249</td>\n",
              "      <td>0.247367</td>\n",
              "      <td>-0.356299</td>\n",
              "      <td>-0.335515</td>\n",
              "      <td>0.212124</td>\n",
              "      <td>0.361341</td>\n",
              "      <td>0.401078</td>\n",
              "      <td>-0.311440</td>\n",
              "      <td>0.429536</td>\n",
              "    </tr>\n",
              "    <tr>\n",
              "      <th>1</th>\n",
              "      <td>0.337297</td>\n",
              "      <td>0.456546</td>\n",
              "      <td>0.250570</td>\n",
              "      <td>-0.334555</td>\n",
              "      <td>0.474631</td>\n",
              "      <td>-0.277761</td>\n",
              "      <td>-0.240629</td>\n",
              "      <td>0.375216</td>\n",
              "      <td>-0.044383</td>\n",
              "    </tr>\n",
              "    <tr>\n",
              "      <th>2</th>\n",
              "      <td>-0.481214</td>\n",
              "      <td>0.317116</td>\n",
              "      <td>0.495896</td>\n",
              "      <td>0.151675</td>\n",
              "      <td>0.243713</td>\n",
              "      <td>0.459403</td>\n",
              "      <td>0.335761</td>\n",
              "      <td>0.087249</td>\n",
              "      <td>-0.090315</td>\n",
              "    </tr>\n",
              "    <tr>\n",
              "      <th>3</th>\n",
              "      <td>-0.469956</td>\n",
              "      <td>0.190847</td>\n",
              "      <td>-0.274775</td>\n",
              "      <td>-0.323941</td>\n",
              "      <td>0.212294</td>\n",
              "      <td>-0.291204</td>\n",
              "      <td>-0.050524</td>\n",
              "      <td>-0.483930</td>\n",
              "      <td>-0.442347</td>\n",
              "    </tr>\n",
              "    <tr>\n",
              "      <th>4</th>\n",
              "      <td>-0.396238</td>\n",
              "      <td>0.061302</td>\n",
              "      <td>-0.460619</td>\n",
              "      <td>0.387578</td>\n",
              "      <td>0.394281</td>\n",
              "      <td>-0.112484</td>\n",
              "      <td>-0.205812</td>\n",
              "      <td>0.272619</td>\n",
              "      <td>0.438247</td>\n",
              "    </tr>\n",
              "    <tr>\n",
              "      <th>5</th>\n",
              "      <td>-0.434715</td>\n",
              "      <td>-0.118683</td>\n",
              "      <td>0.081733</td>\n",
              "      <td>-0.636097</td>\n",
              "      <td>-0.334372</td>\n",
              "      <td>-0.127163</td>\n",
              "      <td>0.083292</td>\n",
              "      <td>0.339254</td>\n",
              "      <td>0.368281</td>\n",
              "    </tr>\n",
              "    <tr>\n",
              "      <th>6</th>\n",
              "      <td>0.027844</td>\n",
              "      <td>-0.609972</td>\n",
              "      <td>-0.195870</td>\n",
              "      <td>-0.246024</td>\n",
              "      <td>0.438813</td>\n",
              "      <td>0.319052</td>\n",
              "      <td>0.083259</td>\n",
              "      <td>0.321508</td>\n",
              "      <td>-0.351590</td>\n",
              "    </tr>\n",
              "    <tr>\n",
              "      <th>7</th>\n",
              "      <td>-0.074243</td>\n",
              "      <td>-0.021120</td>\n",
              "      <td>0.119316</td>\n",
              "      <td>-0.179248</td>\n",
              "      <td>-0.005157</td>\n",
              "      <td>0.512722</td>\n",
              "      <td>-0.778126</td>\n",
              "      <td>-0.243225</td>\n",
              "      <td>0.141873</td>\n",
              "    </tr>\n",
              "    <tr>\n",
              "      <th>8</th>\n",
              "      <td>0.012985</td>\n",
              "      <td>0.450594</td>\n",
              "      <td>-0.466262</td>\n",
              "      <td>-0.008094</td>\n",
              "      <td>-0.406716</td>\n",
              "      <td>0.320828</td>\n",
              "      <td>-0.065102</td>\n",
              "      <td>0.410460</td>\n",
              "      <td>-0.371842</td>\n",
              "    </tr>\n",
              "  </tbody>\n",
              "</table>\n",
              "</div>"
            ],
            "text/plain": [
              "          0         1         2  ...         6         7         8\n",
              "0  0.285249  0.247367 -0.356299  ...  0.401078 -0.311440  0.429536\n",
              "1  0.337297  0.456546  0.250570  ... -0.240629  0.375216 -0.044383\n",
              "2 -0.481214  0.317116  0.495896  ...  0.335761  0.087249 -0.090315\n",
              "3 -0.469956  0.190847 -0.274775  ... -0.050524 -0.483930 -0.442347\n",
              "4 -0.396238  0.061302 -0.460619  ... -0.205812  0.272619  0.438247\n",
              "5 -0.434715 -0.118683  0.081733  ...  0.083292  0.339254  0.368281\n",
              "6  0.027844 -0.609972 -0.195870  ...  0.083259  0.321508 -0.351590\n",
              "7 -0.074243 -0.021120  0.119316  ... -0.778126 -0.243225  0.141873\n",
              "8  0.012985  0.450594 -0.466262  ... -0.065102  0.410460 -0.371842\n",
              "\n",
              "[9 rows x 9 columns]"
            ]
          },
          "metadata": {
            "tags": []
          },
          "execution_count": 12
        }
      ]
    },
    {
      "cell_type": "code",
      "metadata": {
        "id": "pX0WqIBN0-I3",
        "colab_type": "code",
        "outputId": "275322f4-afa1-4842-e43e-5990fc87cdc2",
        "colab": {
          "base_uri": "https://localhost:8080/",
          "height": 316
        }
      },
      "source": [
        "pca_table = pca_table.transpose()\n",
        "pca_table = pca_table.rename(columns={0: 'PC1', \n",
        "                                      1: 'PC2', \n",
        "                                      2: 'PC3', \n",
        "                                      3: 'PC4', \n",
        "                                      4: 'PC5', \n",
        "                                      5: 'PC6', \n",
        "                                      6: 'PC7', \n",
        "                                      7: 'PC8', \n",
        "                                      8: 'PC9',})\n",
        "\n",
        "pca_table[\"PC2\"] = pca_table[\"PC2\"] * (-1)\n",
        "pca_table"
      ],
      "execution_count": 0,
      "outputs": [
        {
          "output_type": "execute_result",
          "data": {
            "text/html": [
              "<div>\n",
              "<style scoped>\n",
              "    .dataframe tbody tr th:only-of-type {\n",
              "        vertical-align: middle;\n",
              "    }\n",
              "\n",
              "    .dataframe tbody tr th {\n",
              "        vertical-align: top;\n",
              "    }\n",
              "\n",
              "    .dataframe thead th {\n",
              "        text-align: right;\n",
              "    }\n",
              "</style>\n",
              "<table border=\"1\" class=\"dataframe\">\n",
              "  <thead>\n",
              "    <tr style=\"text-align: right;\">\n",
              "      <th></th>\n",
              "      <th>PC1</th>\n",
              "      <th>PC2</th>\n",
              "      <th>PC3</th>\n",
              "      <th>PC4</th>\n",
              "      <th>PC5</th>\n",
              "      <th>PC6</th>\n",
              "      <th>PC7</th>\n",
              "      <th>PC8</th>\n",
              "      <th>PC9</th>\n",
              "    </tr>\n",
              "  </thead>\n",
              "  <tbody>\n",
              "    <tr>\n",
              "      <th>0</th>\n",
              "      <td>0.285249</td>\n",
              "      <td>-0.337297</td>\n",
              "      <td>-0.481214</td>\n",
              "      <td>-0.469956</td>\n",
              "      <td>-0.396238</td>\n",
              "      <td>-0.434715</td>\n",
              "      <td>0.027844</td>\n",
              "      <td>-0.074243</td>\n",
              "      <td>0.012985</td>\n",
              "    </tr>\n",
              "    <tr>\n",
              "      <th>1</th>\n",
              "      <td>0.247367</td>\n",
              "      <td>-0.456546</td>\n",
              "      <td>0.317116</td>\n",
              "      <td>0.190847</td>\n",
              "      <td>0.061302</td>\n",
              "      <td>-0.118683</td>\n",
              "      <td>-0.609972</td>\n",
              "      <td>-0.021120</td>\n",
              "      <td>0.450594</td>\n",
              "    </tr>\n",
              "    <tr>\n",
              "      <th>2</th>\n",
              "      <td>-0.356299</td>\n",
              "      <td>-0.250570</td>\n",
              "      <td>0.495896</td>\n",
              "      <td>-0.274775</td>\n",
              "      <td>-0.460619</td>\n",
              "      <td>0.081733</td>\n",
              "      <td>-0.195870</td>\n",
              "      <td>0.119316</td>\n",
              "      <td>-0.466262</td>\n",
              "    </tr>\n",
              "    <tr>\n",
              "      <th>3</th>\n",
              "      <td>-0.335515</td>\n",
              "      <td>0.334555</td>\n",
              "      <td>0.151675</td>\n",
              "      <td>-0.323941</td>\n",
              "      <td>0.387578</td>\n",
              "      <td>-0.636097</td>\n",
              "      <td>-0.246024</td>\n",
              "      <td>-0.179248</td>\n",
              "      <td>-0.008094</td>\n",
              "    </tr>\n",
              "    <tr>\n",
              "      <th>4</th>\n",
              "      <td>0.212124</td>\n",
              "      <td>-0.474631</td>\n",
              "      <td>0.243713</td>\n",
              "      <td>0.212294</td>\n",
              "      <td>0.394281</td>\n",
              "      <td>-0.334372</td>\n",
              "      <td>0.438813</td>\n",
              "      <td>-0.005157</td>\n",
              "      <td>-0.406716</td>\n",
              "    </tr>\n",
              "    <tr>\n",
              "      <th>5</th>\n",
              "      <td>0.361341</td>\n",
              "      <td>0.277761</td>\n",
              "      <td>0.459403</td>\n",
              "      <td>-0.291204</td>\n",
              "      <td>-0.112484</td>\n",
              "      <td>-0.127163</td>\n",
              "      <td>0.319052</td>\n",
              "      <td>0.512722</td>\n",
              "      <td>0.320828</td>\n",
              "    </tr>\n",
              "    <tr>\n",
              "      <th>6</th>\n",
              "      <td>0.401078</td>\n",
              "      <td>0.240629</td>\n",
              "      <td>0.335761</td>\n",
              "      <td>-0.050524</td>\n",
              "      <td>-0.205812</td>\n",
              "      <td>0.083292</td>\n",
              "      <td>0.083259</td>\n",
              "      <td>-0.778126</td>\n",
              "      <td>-0.065102</td>\n",
              "    </tr>\n",
              "    <tr>\n",
              "      <th>7</th>\n",
              "      <td>-0.311440</td>\n",
              "      <td>-0.375216</td>\n",
              "      <td>0.087249</td>\n",
              "      <td>-0.483930</td>\n",
              "      <td>0.272619</td>\n",
              "      <td>0.339254</td>\n",
              "      <td>0.321508</td>\n",
              "      <td>-0.243225</td>\n",
              "      <td>0.410460</td>\n",
              "    </tr>\n",
              "    <tr>\n",
              "      <th>8</th>\n",
              "      <td>0.429536</td>\n",
              "      <td>0.044383</td>\n",
              "      <td>-0.090315</td>\n",
              "      <td>-0.442347</td>\n",
              "      <td>0.438247</td>\n",
              "      <td>0.368281</td>\n",
              "      <td>-0.351590</td>\n",
              "      <td>0.141873</td>\n",
              "      <td>-0.371842</td>\n",
              "    </tr>\n",
              "  </tbody>\n",
              "</table>\n",
              "</div>"
            ],
            "text/plain": [
              "        PC1       PC2       PC3  ...       PC7       PC8       PC9\n",
              "0  0.285249 -0.337297 -0.481214  ...  0.027844 -0.074243  0.012985\n",
              "1  0.247367 -0.456546  0.317116  ... -0.609972 -0.021120  0.450594\n",
              "2 -0.356299 -0.250570  0.495896  ... -0.195870  0.119316 -0.466262\n",
              "3 -0.335515  0.334555  0.151675  ... -0.246024 -0.179248 -0.008094\n",
              "4  0.212124 -0.474631  0.243713  ...  0.438813 -0.005157 -0.406716\n",
              "5  0.361341  0.277761  0.459403  ...  0.319052  0.512722  0.320828\n",
              "6  0.401078  0.240629  0.335761  ...  0.083259 -0.778126 -0.065102\n",
              "7 -0.311440 -0.375216  0.087249  ...  0.321508 -0.243225  0.410460\n",
              "8  0.429536  0.044383 -0.090315  ... -0.351590  0.141873 -0.371842\n",
              "\n",
              "[9 rows x 9 columns]"
            ]
          },
          "metadata": {
            "tags": []
          },
          "execution_count": 13
        }
      ]
    },
    {
      "cell_type": "markdown",
      "metadata": {
        "id": "Uc3Mm4Xgdaq5",
        "colab_type": "text"
      },
      "source": [
        "Just similir to Elbow method of K-Means clustering, In this case we should consider 3 or 4 PC as a model representative. For an instance, if we choose 3 PC as a model representative, they can represent our model about 94.8 percent  . よく見ると、k平均法のElbow方法と同じです。そのため、モデルの主成分代表を選ぶことには三つでも四つでも十分です。たとえば、3つの主成分を利用して、モデルの全部を94.8％ぐらいで説明できます"
      ]
    },
    {
      "cell_type": "code",
      "metadata": {
        "id": "BxNCl5Zg4dI6",
        "colab_type": "code",
        "outputId": "d83bf4db-26d6-48ba-af89-8163c7c783d6",
        "colab": {
          "base_uri": "https://localhost:8080/",
          "height": 286
        }
      },
      "source": [
        "x_ax = np.arange(1, 10)\n",
        "y_ax = pca_sc.explained_variance_\n",
        "sns.lineplot(x = x_ax, y = y_ax, marker=\"o\")"
      ],
      "execution_count": 0,
      "outputs": [
        {
          "output_type": "execute_result",
          "data": {
            "text/plain": [
              "<matplotlib.axes._subplots.AxesSubplot at 0x7f084f0f6860>"
            ]
          },
          "metadata": {
            "tags": []
          },
          "execution_count": 14
        },
        {
          "output_type": "display_data",
          "data": {
            "image/png": "[encoded data removed]",
            "text/plain": [
              "<Figure size 432x288 with 1 Axes>"
            ]
          },
          "metadata": {
            "tags": []
          }
        }
      ]
    },
    {
      "cell_type": "code",
      "metadata": {
        "id": "SB8KIgWYe_yk",
        "colab_type": "code",
        "outputId": "553ebaf8-b01b-4aae-e977-e12f5101cd2b",
        "colab": {
          "base_uri": "https://localhost:8080/",
          "height": 302
        }
      },
      "source": [
        "cumulative_var = np.cumsum(pca_sc.explained_variance_ratio_)\n",
        "print(cumulative_var)\n",
        "\n",
        "sns.lineplot(x = x_ax, y = cumulative_var, marker=\"o\", color = \"y\");"
      ],
      "execution_count": 0,
      "outputs": [
        {
          "output_type": "stream",
          "text": [
            "[0.50624198 0.84069111 0.90639603 0.94841868 0.97729898 0.99223311\n",
            " 0.9973722  0.99973683 1.        ]\n"
          ],
          "name": "stdout"
        },
        {
          "output_type": "display_data",
          "data": {
            "image/png": "[encoded data removed]",
            "text/plain": [
              "<Figure size 432x288 with 1 Axes>"
            ]
          },
          "metadata": {
            "tags": []
          }
        }
      ]
    },
    {
      "cell_type": "code",
      "metadata": {
        "id": "nAk19P8I3MP2",
        "colab_type": "code",
        "outputId": "cd9aac7d-7577-4361-d5df-9c126954c77a",
        "colab": {
          "base_uri": "https://localhost:8080/",
          "height": 286
        }
      },
      "source": [
        "# Biplot for 2 PC\n",
        "plt.scatter(x = pca_table[\"PC1\"], y = pca_table[\"PC2\"], c=\"yellow\", marker=\"*\", alpha=0.8, linewidths=\"2\", edgecolors=\"orange\")"
      ],
      "execution_count": 0,
      "outputs": [
        {
          "output_type": "execute_result",
          "data": {
            "text/plain": [
              "<matplotlib.collections.PathCollection at 0x7f084b4c7ac8>"
            ]
          },
          "metadata": {
            "tags": []
          },
          "execution_count": 16
        },
        {
          "output_type": "display_data",
          "data": {
            "image/png": "[encoded data removed]",
            "text/plain": [
              "<Figure size 432x288 with 1 Axes>"
            ]
          },
          "metadata": {
            "tags": []
          }
        }
      ]
    },
    {
      "cell_type": "code",
      "metadata": {
        "id": "OJL4lBB8EmNV",
        "colab_type": "code",
        "outputId": "afba5a55-b119-4117-c196-08e296c033f6",
        "colab": {
          "base_uri": "https://localhost:8080/",
          "height": 316
        }
      },
      "source": [
        "pca_table.loc[:,[\"PC1\", \"PC2\"]]"
      ],
      "execution_count": 0,
      "outputs": [
        {
          "output_type": "execute_result",
          "data": {
            "text/html": [
              "<div>\n",
              "<style scoped>\n",
              "    .dataframe tbody tr th:only-of-type {\n",
              "        vertical-align: middle;\n",
              "    }\n",
              "\n",
              "    .dataframe tbody tr th {\n",
              "        vertical-align: top;\n",
              "    }\n",
              "\n",
              "    .dataframe thead th {\n",
              "        text-align: right;\n",
              "    }\n",
              "</style>\n",
              "<table border=\"1\" class=\"dataframe\">\n",
              "  <thead>\n",
              "    <tr style=\"text-align: right;\">\n",
              "      <th></th>\n",
              "      <th>PC1</th>\n",
              "      <th>PC2</th>\n",
              "    </tr>\n",
              "  </thead>\n",
              "  <tbody>\n",
              "    <tr>\n",
              "      <th>0</th>\n",
              "      <td>0.285249</td>\n",
              "      <td>-0.337297</td>\n",
              "    </tr>\n",
              "    <tr>\n",
              "      <th>1</th>\n",
              "      <td>0.247367</td>\n",
              "      <td>-0.456546</td>\n",
              "    </tr>\n",
              "    <tr>\n",
              "      <th>2</th>\n",
              "      <td>-0.356299</td>\n",
              "      <td>-0.250570</td>\n",
              "    </tr>\n",
              "    <tr>\n",
              "      <th>3</th>\n",
              "      <td>-0.335515</td>\n",
              "      <td>0.334555</td>\n",
              "    </tr>\n",
              "    <tr>\n",
              "      <th>4</th>\n",
              "      <td>0.212124</td>\n",
              "      <td>-0.474631</td>\n",
              "    </tr>\n",
              "    <tr>\n",
              "      <th>5</th>\n",
              "      <td>0.361341</td>\n",
              "      <td>0.277761</td>\n",
              "    </tr>\n",
              "    <tr>\n",
              "      <th>6</th>\n",
              "      <td>0.401078</td>\n",
              "      <td>0.240629</td>\n",
              "    </tr>\n",
              "    <tr>\n",
              "      <th>7</th>\n",
              "      <td>-0.311440</td>\n",
              "      <td>-0.375216</td>\n",
              "    </tr>\n",
              "    <tr>\n",
              "      <th>8</th>\n",
              "      <td>0.429536</td>\n",
              "      <td>0.044383</td>\n",
              "    </tr>\n",
              "  </tbody>\n",
              "</table>\n",
              "</div>"
            ],
            "text/plain": [
              "        PC1       PC2\n",
              "0  0.285249 -0.337297\n",
              "1  0.247367 -0.456546\n",
              "2 -0.356299 -0.250570\n",
              "3 -0.335515  0.334555\n",
              "4  0.212124 -0.474631\n",
              "5  0.361341  0.277761\n",
              "6  0.401078  0.240629\n",
              "7 -0.311440 -0.375216\n",
              "8  0.429536  0.044383"
            ]
          },
          "metadata": {
            "tags": []
          },
          "execution_count": 17
        }
      ]
    },
    {
      "cell_type": "markdown",
      "metadata": {
        "id": "1R4exyLOqoc-",
        "colab_type": "text"
      },
      "source": [
        "In this case, we used PC1 and PC2 for easy interpretation. Since we could not find how to plot brand a, b, c and other brands (this is our lacking skill in deep understanding of mathematics). So we approximated them from preceptual map of R programming in the books.\n",
        "\n",
        "この場合、簡単に解釈するために、PC1とPC2を利用されます．私のせいで、ブランドたちのグラフを描くことができない。残念だけど、僕たちの目的はモデルの結果をビジネス的解釈するので、教科書に従って、そのままに、できるだけ教科書の通りにします。"
      ]
    },
    {
      "cell_type": "code",
      "metadata": {
        "id": "BwUq5kUSB3zv",
        "colab_type": "code",
        "outputId": "2f949fb1-33b8-4f84-cbe9-34c3c1c7d336",
        "colab": {
          "base_uri": "https://localhost:8080/",
          "height": 596
        }
      },
      "source": [
        "fig, ax = plt.subplots(figsize=(10,10))\n",
        "ax.axis([-0.6, 0.6, -0.6, 0.6])\n",
        "plt.scatter(x = pca_table[\"PC1\"], y = pca_table[\"PC2\"], c=\"yellow\",\n",
        "            marker=\"*\", alpha=0.8, linewidths=\"2\", edgecolors=\"orange\")\n",
        "\n",
        "features = \"perform\tleader\tlatest\tfun\tserious\tbargain\tvalue\ttrendy\trebuy\".split()\n",
        "col = [\"red\", \"orange\", \"g\", \"w\", \"deepskyblue\", \"pink\", \"c\", \"m\", \"palegreen\"]\n",
        "\n",
        "ax.plot([-0.19],[ 0.37], marker=\"$ a $\",lw=0, markersize=15)\n",
        "ax.plot([ 0.19],[-0.58], marker=\"$ b $\",lw=0, markersize=15)\n",
        "ax.plot([ 0.16],[-0.55], marker=\"$ c $\",lw=0, markersize=15)\n",
        "ax.plot([-0.35],[ 0.01], marker=\"$ d $\",lw=0, markersize=15)\n",
        "ax.plot([ 0.00],[ 0.08], marker=\"$ e $\",lw=0, markersize=15)\n",
        "ax.plot([ 0.48],[ 0.18], marker=\"$ f $\",lw=0, markersize=15)\n",
        "ax.plot([ 0.55],[ 0.31], marker=\"$ g $\",lw=0, markersize=15)\n",
        "ax.plot([-0.32],[-0.10], marker=\"$ h $\",lw=0, markersize=15)\n",
        "ax.plot([-0.20],[-0.08], marker=\"$ i $\",lw=0, markersize=15)\n",
        "ax.plot([-0.19],[ 0.31], marker=\"$ j $\",lw=0, markersize=15)\n",
        "\n",
        "for (x, y, c, f) in zip(PC1 , PC2, col, features):\n",
        "    plt.plot([0., x], [0., y], color = c)\n",
        "    ax.annotate(f, (x+0.01, y), color = c, size = 18)\n",
        "    \n",
        "plt.show()"
      ],
      "execution_count": 0,
      "outputs": [
        {
          "output_type": "display_data",
          "data": {
            "image/png": "[encoded data removed]",
            "text/plain": [
              "<Figure size 720x720 with 1 Axes>"
            ]
          },
          "metadata": {
            "tags": []
          }
        }
      ]
    },
    {
      "cell_type": "markdown",
      "metadata": {
        "id": "inMr20L_rVq0",
        "colab_type": "text"
      },
      "source": [
        "Yellow stars stand for arrow head\n",
        "\n",
        "### Business interpretation of brands:\n",
        "\n",
        "- \"a\" and \"j\" are near fun, they tend to be a good for kid or funny event like cosplay event and halloween event.\n",
        "- \"g\" and \"f\" are likely to be a reasonable price with acceptable quality of item and it would valuable to rebuy.\n",
        "- \"e\" is a general one, \"e\" would be a brand that no any uniqueness.\n",
        "- \"c\" and \"b\" would be a brands for professional customer like CEO, Head of department and so on. For instance, if we are dealing with costume, the goods could be formal clothes such as suit costume.\n",
        "\n",
        "\n",
        "### Business interpretation of features:\n",
        "\n",
        "- It make sense to interpret \"fun\" is too different with \"serious\" and \"leader\". As you can see, they are inverse direction.\n",
        "- \"lastest\" and \"trendy\" would be any hot item for high society (Hi-so in Thai language) and theirs price are high but not necessary and reasonable in a common sense. In contrast, \"bargain\", \"value\" and \"rebuy\" is more reasonable to buy. For instance, we can buy a previous model of mobile rather than a new one. Not fashionable but reasonable. Then, they are inverse direction.\n",
        "\n",
        "!!!! If We are brand manager of \"e\", how can we move our goods to be an unique item ?\n",
        "\n",
        "---------------------------------------------------------------------------------------\n",
        " \n",
        "黄色スターは矢印のマークというものにします。\n",
        "\n",
        "### ブランドでビジネス的に解釈：\n",
        "- \"a\" と \"j\" にはもとも近くて、子供向けでしょう。そのおかげで、ハロウィーンパーティーやコスプレイベントには相応しいでしょう。\n",
        "- \"g\" と \"f\" には許容品質です。適正価格で何かあったらもう一度かわなくてもいいでしょう。\n",
        "- \"e\" の方は他と違いです。自分の目立つことがない。\n",
        "- \"c\" と \"b\" はCEOとか社長にむけでしょう。それに、特別なイベントに参加したい顧客に向けでしょう。例にはスーツでしょう。\n",
        "\n",
        "### 特徴たちでビジネス的に解釈：\n",
        "- 面白いことが真剣なことと合わないので、グラフの方向が１８０角度ぐらいに違うのは一般でしょう。それに真剣なのはリーダ雰囲気を感じますね。\n",
        "目には目を歯には歯をとみたいな感じです。\n",
        "- 新しさと流行には贅沢な人に向けでしょう。常識によって価格が変でしょう。 \"bargain\"、\"value\"と\"rebuy\"に比べて大違いを感じられます。"
      ]
    }
  ]
}