{
 "cells": [
  {
   "cell_type": "code",
   "execution_count": 0,
   "metadata": {
    "colab": {},
    "colab_type": "code",
    "id": "rRIH3g8QP8sf"
   },
   "outputs": [],
   "source": [
    "!apt-get install openjdk-8-jdk-headless -qq > /dev/null\n",
    "!wget -q http://apache.osuosl.org/spark/spark-2.4.3/spark-2.4.3-bin-hadoop2.7.tgz\n",
    "!tar xf spark-2.4.3-bin-hadoop2.7.tgz\n",
    "!pip install -q findspark\n",
    "\n",
    "import os\n",
    "os.environ[\"JAVA_HOME\"] = \"/usr/lib/jvm/java-8-openjdk-amd64\"\n",
    "os.environ[\"SPARK_HOME\"] = \"/content/spark-2.4.3-bin-hadoop2.7\""
   ]
  },
  {
   "cell_type": "code",
   "execution_count": 0,
   "metadata": {
    "colab": {},
    "colab_type": "code",
    "id": "rX3kHMSuZeSs"
   },
   "outputs": [],
   "source": [
    "# # Code to read csv file into Colaboratory:\n",
    "# !pip install -U -q PyDrive\n",
    "# from pydrive.auth import GoogleAuth\n",
    "# from pydrive.drive import GoogleDrive\n",
    "# from google.colab import auth\n",
    "# from oauth2client.client import GoogleCredentials\n",
    "\n",
    "# # Authenticate and create the PyDrive client.\n",
    "# auth.authenticate_user()\n",
    "# gauth = GoogleAuth()\n",
    "# gauth.credentials = GoogleCredentials.get_application_default()\n",
    "# drive = GoogleDrive(gauth)\n",
    "\n",
    "# link = 'https://drive.google.com/open?id=1CY29qnn_GUzk_OPAM1frmi6-e8az3dXr'\n",
    "\n",
    "# fluff, id = link.split('=')\n",
    "# print (id) # Verify that you have everything after '='\n",
    "# downloaded = drive.CreateFile({'id':id}) \n",
    "# downloaded.GetContentFile('Position_Salaries.csv') "
   ]
  },
  {
   "cell_type": "code",
   "execution_count": 3,
   "metadata": {
    "colab": {
     "base_uri": "https://localhost:8080/",
     "height": 118
    },
    "colab_type": "code",
    "executionInfo": {
     "elapsed": 90949,
     "status": "ok",
     "timestamp": 1559979232102,
     "user": {
      "displayName": "Nithikorn Lertchanvuth",
      "photoUrl": "",
      "userId": "04129684781089266387"
     },
     "user_tz": -420
    },
    "id": "VT97411_EJDE",
    "outputId": "847a8851-7d81-4fe8-f3f4-925f9caf0e3c"
   },
   "outputs": [
    {
     "name": "stdout",
     "output_type": "stream",
     "text": [
      "Cloning into 'Spark-The-Definitive-Guide'...\n",
      "remote: Enumerating objects: 2014, done.\u001b[K\n",
      "remote: Total 2014 (delta 0), reused 0 (delta 0), pack-reused 2014\u001b[K\n",
      "Receiving objects: 100% (2014/2014), 523.88 MiB | 36.22 MiB/s, done.\n",
      "Resolving deltas: 100% (291/291), done.\n",
      "Checking out files: 100% (1738/1738), done.\n"
     ]
    }
   ],
   "source": [
    "!git clone https://github.com/databricks/Spark-The-Definitive-Guide.git"
   ]
  },
  {
   "cell_type": "code",
   "execution_count": 0,
   "metadata": {
    "colab": {
     "base_uri": "https://localhost:8080/",
     "height": 34
    },
    "colab_type": "code",
    "executionInfo": {
     "elapsed": 6886,
     "status": "ok",
     "timestamp": 1559892873967,
     "user": {
      "displayName": "Nithikorn Lertchanvuth",
      "photoUrl": "",
      "userId": "04129684781089266387"
     },
     "user_tz": -420
    },
    "id": "Z-3X3aBDHkGo",
    "outputId": "d8672f71-7176-4ee3-f33a-51420e52cd9f"
   },
   "outputs": [
    {
     "name": "stdout",
     "output_type": "stream",
     "text": [
      "fatal: destination path 'Machine-learning-project' already exists and is not an empty directory.\n"
     ]
    }
   ],
   "source": [
    "!git clone https://github.com/asppxq121/Machine-learning-project.git"
   ]
  },
  {
   "cell_type": "code",
   "execution_count": 0,
   "metadata": {
    "colab": {
     "base_uri": "https://localhost:8080/",
     "height": 90
    },
    "colab_type": "code",
    "executionInfo": {
     "elapsed": 24870,
     "status": "ok",
     "timestamp": 1559817364195,
     "user": {
      "displayName": "Nithikorn Lertchanvuth",
      "photoUrl": "",
      "userId": "04129684781089266387"
     },
     "user_tz": -420
    },
    "id": "hXRf-uH4Zq5c",
    "outputId": "258c1c53-c598-4f35-fc04-a8c7dd51ee4a"
   },
   "outputs": [
    {
     "name": "stdout",
     "output_type": "stream",
     "text": [
      "adc.json                    spark-2.4.3-bin-hadoop2.7.tgz\n",
      "Position_Salaries.csv       spark-2.4.3-bin-hadoop2.7.tgz.1\n",
      "\u001b[0m\u001b[01;34msample_data\u001b[0m/                \u001b[01;34mSpark-The-Definitive-Guide\u001b[0m/\n",
      "\u001b[01;34mspark-2.4.3-bin-hadoop2.7\u001b[0m/  \u001b[01;34mspark-warehouse\u001b[0m/\n"
     ]
    }
   ],
   "source": [
    "ls"
   ]
  },
  {
   "cell_type": "code",
   "execution_count": 0,
   "metadata": {
    "colab": {},
    "colab_type": "code",
    "id": "aQyUg6ryP9-t"
   },
   "outputs": [],
   "source": [
    "import findspark\n",
    "findspark.init()\n",
    "\n",
    "from pyspark.sql import SparkSession\n",
    "spark = SparkSession.builder.master(\"local[*]\").getOrCreate()"
   ]
  },
  {
   "cell_type": "code",
   "execution_count": 0,
   "metadata": {
    "colab": {},
    "colab_type": "code",
    "id": "jZWHNkT9b-eB"
   },
   "outputs": [],
   "source": [
    "import pandas as pd\n",
    "import numpy as np\n",
    "from pyspark.sql import functions as F\n",
    "from pyspark.sql import Row\n",
    "from pyspark.sql.types import *\n",
    "\n",
    "\n",
    "# import pyspark as sp\n",
    "# sc = sp.SparkContext(appName = 'myapp') # Execute SparkContext"
   ]
  },
  {
   "cell_type": "markdown",
   "metadata": {
    "colab_type": "text",
    "id": "A7dFymMru5Xd"
   },
   "source": [
    "#### Parallelize"
   ]
  },
  {
   "cell_type": "code",
   "execution_count": 0,
   "metadata": {
    "colab": {
     "base_uri": "https://localhost:8080/",
     "height": 189
    },
    "colab_type": "code",
    "executionInfo": {
     "elapsed": 29337,
     "status": "error",
     "timestamp": 1559817368670,
     "user": {
      "displayName": "Nithikorn Lertchanvuth",
      "photoUrl": "",
      "userId": "04129684781089266387"
     },
     "user_tz": -420
    },
    "id": "SwV_1Q_8bDdC",
    "outputId": "f6e03b86-afe3-4b07-9fed-7bdc4b246878"
   },
   "outputs": [
    {
     "ename": "NameError",
     "evalue": "ignored",
     "output_type": "error",
     "traceback": [
      "\u001b[0;31m---------------------------------------------------------------------------\u001b[0m",
      "\u001b[0;31mNameError\u001b[0m                                 Traceback (most recent call last)",
      "\u001b[0;32m<ipython-input-7-484f141e0ec9>\u001b[0m in \u001b[0;36m<module>\u001b[0;34m()\u001b[0m\n\u001b[1;32m      1\u001b[0m \u001b[0mnum_partitions\u001b[0m \u001b[0;34m=\u001b[0m \u001b[0;36m3\u001b[0m\u001b[0;34m\u001b[0m\u001b[0;34m\u001b[0m\u001b[0m\n\u001b[0;32m----> 2\u001b[0;31m \u001b[0mfileRDD\u001b[0m \u001b[0;34m=\u001b[0m \u001b[0msc\u001b[0m\u001b[0;34m.\u001b[0m\u001b[0mparallelize\u001b[0m\u001b[0;34m(\u001b[0m\u001b[0;34m[\u001b[0m\u001b[0;36m2\u001b[0m\u001b[0;34m,\u001b[0m\u001b[0;36m2\u001b[0m\u001b[0;34m,\u001b[0m\u001b[0;36m3\u001b[0m\u001b[0;34m,\u001b[0m\u001b[0;36m4\u001b[0m\u001b[0;34m]\u001b[0m\u001b[0;34m,\u001b[0m \u001b[0mnum_partitions\u001b[0m\u001b[0;34m)\u001b[0m \u001b[0;31m# transformation\u001b[0m\u001b[0;34m\u001b[0m\u001b[0;34m\u001b[0m\u001b[0m\n\u001b[0m",
      "\u001b[0;31mNameError\u001b[0m: name 'sc' is not defined"
     ]
    }
   ],
   "source": [
    "# Parallelize: using external data to create an RDD \n",
    "num_partitions = 3\n",
    "fileRDD = sc.parallelize([2,2,3,4], num_partitions) # transformation"
   ]
  },
  {
   "cell_type": "code",
   "execution_count": 0,
   "metadata": {
    "colab": {},
    "colab_type": "code",
    "id": "y0Hx52HZvcBY"
   },
   "outputs": [],
   "source": [
    "fileRDD"
   ]
  },
  {
   "cell_type": "code",
   "execution_count": 0,
   "metadata": {
    "colab": {},
    "colab_type": "code",
    "id": "0JQhkfk3qKOv"
   },
   "outputs": [],
   "source": [
    "type(fileRDD)"
   ]
  },
  {
   "cell_type": "code",
   "execution_count": 0,
   "metadata": {
    "colab": {},
    "colab_type": "code",
    "id": "HXOEUYbhvcDz"
   },
   "outputs": [],
   "source": [
    "fileRDD.first()"
   ]
  },
  {
   "cell_type": "code",
   "execution_count": 0,
   "metadata": {
    "colab": {},
    "colab_type": "code",
    "id": "74J6K7OUwFGL"
   },
   "outputs": [],
   "source": [
    "fileRDD.map(lambda x: x+x).collect()"
   ]
  },
  {
   "cell_type": "code",
   "execution_count": 0,
   "metadata": {
    "colab": {},
    "colab_type": "code",
    "id": "Zr97Vdm6wm2v"
   },
   "outputs": [],
   "source": [
    "fileRDD.map(lambda x : x * x).collect()"
   ]
  },
  {
   "cell_type": "code",
   "execution_count": 0,
   "metadata": {
    "colab": {},
    "colab_type": "code",
    "id": "Ha11MXHzwm6G"
   },
   "outputs": [],
   "source": [
    "fileRDD.map(lambda x : x * x).reduce(lambda a, b: a+b)"
   ]
  },
  {
   "cell_type": "markdown",
   "metadata": {
    "colab_type": "text",
    "id": "GGNo2CIewBEE"
   },
   "source": [
    "#### textFile"
   ]
  },
  {
   "cell_type": "code",
   "execution_count": 0,
   "metadata": {
    "colab": {},
    "colab_type": "code",
    "id": "pZ31WE9-XCln"
   },
   "outputs": [],
   "source": [
    "# textFile: using existing data inside environment to create an RDD \n",
    "fileRDD_2 = sc.textFile('carlendar.txt') # transformation"
   ]
  },
  {
   "cell_type": "code",
   "execution_count": 0,
   "metadata": {
    "colab": {},
    "colab_type": "code",
    "id": "3VqvCpilvsMx"
   },
   "outputs": [],
   "source": [
    "fileRDD_2"
   ]
  },
  {
   "cell_type": "code",
   "execution_count": 0,
   "metadata": {
    "colab": {},
    "colab_type": "code",
    "id": "dnuPNoFwetiG"
   },
   "outputs": [],
   "source": [
    "type(fileRDD_2)"
   ]
  },
  {
   "cell_type": "code",
   "execution_count": 0,
   "metadata": {
    "colab": {},
    "colab_type": "code",
    "id": "RVlRVCXtqfLk"
   },
   "outputs": [],
   "source": [
    "fileRDD_2.first() # Action."
   ]
  },
  {
   "cell_type": "code",
   "execution_count": 0,
   "metadata": {
    "colab": {},
    "colab_type": "code",
    "id": "_SzIgnn1uqHz"
   },
   "outputs": [],
   "source": [
    "type(fileRDD_2.first())"
   ]
  },
  {
   "cell_type": "markdown",
   "metadata": {
    "colab_type": "text",
    "id": "4zP-0vDI-v8k"
   },
   "source": [
    "#### RDD Transformation functions"
   ]
  },
  {
   "cell_type": "code",
   "execution_count": 0,
   "metadata": {
    "colab": {},
    "colab_type": "code",
    "id": "XIrTJ_ICu0MJ"
   },
   "outputs": [],
   "source": [
    "# Collect (Action) - Return all the elements of the dataset as an array at the driver program. \n",
    "# This is usually useful after a filter or other operation that returns a sufficiently small subset of the data.\n",
    "a = sc.parallelize([1,2,3,4,5,6], 3)\n",
    "a.filter(lambda x: x % 3 == 0)"
   ]
  },
  {
   "cell_type": "code",
   "execution_count": 0,
   "metadata": {
    "colab": {},
    "colab_type": "code",
    "id": "apVL6TevBvsk"
   },
   "outputs": [],
   "source": [
    "a.filter(lambda x: x % 3 == 0).collect()"
   ]
  },
  {
   "cell_type": "code",
   "execution_count": 0,
   "metadata": {
    "colab": {},
    "colab_type": "code",
    "id": "XOQxm6A8_Ofs"
   },
   "outputs": [],
   "source": [
    "c = sc.parallelize(['ant', 'bird' ,'cat', 'bird'], 2)\n",
    "print(c.distinct().collect())"
   ]
  },
  {
   "cell_type": "code",
   "execution_count": 0,
   "metadata": {
    "colab": {},
    "colab_type": "code",
    "id": "iTt0-SXsBem4"
   },
   "outputs": [],
   "source": [
    "set1 = list(range(1,11)) + ['あ','い','う','え','お']\n",
    "set2 = list(range(0,6))\n",
    "x = sc.parallelize(set1)\n",
    "y = sc.parallelize(set2)\n",
    "\n",
    "print(set1); print(set2); print('')\n",
    "x.intersection(y).collect()"
   ]
  },
  {
   "cell_type": "code",
   "execution_count": 0,
   "metadata": {
    "colab": {},
    "colab_type": "code",
    "id": "ffBf80tqCa7N"
   },
   "outputs": [],
   "source": [
    "x.union(y).collect()"
   ]
  },
  {
   "cell_type": "code",
   "execution_count": 0,
   "metadata": {
    "colab": {},
    "colab_type": "code",
    "id": "nde_ZKRpCFMg"
   },
   "outputs": [],
   "source": [
    "quotes = [\"Nero, go! You're just dead weight.\", \"Don't you dare say it\", \"通りすがりの仮面ライダーだ\"]\n",
    "quotes_rdd = sc.parallelize(quotes)\n",
    "quotes_rdd_len = quotes_rdd.map(lambda x: len(x))\n",
    "\n",
    "quotes_rdd.collect()"
   ]
  },
  {
   "cell_type": "code",
   "execution_count": 0,
   "metadata": {
    "colab": {},
    "colab_type": "code",
    "id": "def06r9EHVBD"
   },
   "outputs": [],
   "source": [
    "quotes_rdd_len.collect()"
   ]
  },
  {
   "cell_type": "code",
   "execution_count": 0,
   "metadata": {
    "colab": {},
    "colab_type": "code",
    "id": "1HDubVPpFK_c"
   },
   "outputs": [],
   "source": [
    "quotes_rdd.zip(quotes_rdd_len).collect()"
   ]
  },
  {
   "cell_type": "code",
   "execution_count": 0,
   "metadata": {
    "colab": {},
    "colab_type": "code",
    "id": "CNiRf8oSYTGJ"
   },
   "outputs": [],
   "source": [
    "x = sc.parallelize([1,2,3])\n",
    "y = sc.parallelize([10,11,12]) \n",
    "x.cartesian(y).collect()"
   ]
  },
  {
   "cell_type": "markdown",
   "metadata": {
    "colab_type": "text",
    "id": "fL6mExL9Z7TA"
   },
   "source": [
    "#### Action"
   ]
  },
  {
   "cell_type": "markdown",
   "metadata": {
    "colab_type": "text",
    "id": "f4zHcvBYCRZG"
   },
   "source": [
    "\n",
    "* The collect() function\n",
    "\n",
    "         The collect() function returns all the results of an RDD operation as an array to the driver program. This is usually useful for operations that produce sufficiently small datasets. Ideally, the result should easily fit in the memory of the system that's hosting the driver program.\n",
    "\n",
    "* The count() function\n",
    "\n",
    "         This returns the number of elements in a dataset or the resulting output of an RDD\n",
    "operation.\n",
    "\n",
    "* The take(n) function\n",
    "\n",
    "          The take(n) function returns the first (n) elements of a dataset or the resulting output of an RDD operation.\n",
    "\n",
    "* The first() function\n",
    "            The first() function returns the first element of the dataset or the resulting output of an RDD operation. It works similarly to the take(1) function.\n",
    "\n",
    "* The takeSample() function\n",
    "\n",
    "            The takeSample(withReplacement, num, [seed]) function returns an array with a random sample of elements from a dataset. It has three arguments as follows: \n",
    "            \n",
    "           1. withReplacement/withoutReplacement: This indicates sampling with or without replacement (while taking multiple samples, it indicates whether to replace the old sample back to the set and then take a fresh sample or sample without replacing). For withReplacement, argument should be True and False otherwise.\n",
    "\n",
    "            2. num: This indicates the number of elements in the sample.\n",
    "            3. Seed: This is a random number generator seed (optional)."
   ]
  },
  {
   "cell_type": "code",
   "execution_count": 0,
   "metadata": {
    "colab": {},
    "colab_type": "code",
    "id": "ab7Ub0vgFphH"
   },
   "outputs": [],
   "source": [
    "test = list(range(1, 11))\n",
    "rdd = sc.parallelize(test)\n",
    "rdd.collect()"
   ]
  },
  {
   "cell_type": "code",
   "execution_count": 0,
   "metadata": {
    "colab": {},
    "colab_type": "code",
    "id": "GQTZ0DWZX98e"
   },
   "outputs": [],
   "source": [
    "rdd.count()"
   ]
  },
  {
   "cell_type": "code",
   "execution_count": 0,
   "metadata": {
    "colab": {},
    "colab_type": "code",
    "id": "wzf-INxNbUGY"
   },
   "outputs": [],
   "source": [
    "rdd.first()"
   ]
  },
  {
   "cell_type": "code",
   "execution_count": 0,
   "metadata": {
    "colab": {},
    "colab_type": "code",
    "id": "LJYO1Y5dbc61"
   },
   "outputs": [],
   "source": [
    "rdd.take(2)"
   ]
  },
  {
   "cell_type": "markdown",
   "metadata": {
    "colab_type": "text",
    "id": "oDF0qGniCVLu"
   },
   "source": [
    "#### core 2"
   ]
  },
  {
   "cell_type": "code",
   "execution_count": 0,
   "metadata": {
    "colab": {},
    "colab_type": "code",
    "id": "Ta3FoblzCUp7"
   },
   "outputs": [],
   "source": [
    "df_pd = pd.read_json(\"Spark-The-Definitive-Guide/data/flight-data/json/2015-summary.json\", lines=True)\n",
    "\n",
    "df = spark.read.format(\"json\").load(\"Spark-The-Definitive-Guide/data/flight-data/json/2015-summary.json\")\n",
    "df.createOrReplaceTempView(\"df_table\") \n",
    "# .createOrReplace: creates the DataFrame as a SQL temporary view\n",
    "# for .createGlobaltempview: are views that are shared among all the sessions"
   ]
  },
  {
   "cell_type": "code",
   "execution_count": 0,
   "metadata": {
    "colab": {
     "base_uri": "https://localhost:8080/",
     "height": 302
    },
    "colab_type": "code",
    "executionInfo": {
     "elapsed": 5890,
     "status": "ok",
     "timestamp": 1559817440520,
     "user": {
      "displayName": "Nithikorn Lertchanvuth",
      "photoUrl": "",
      "userId": "04129684781089266387"
     },
     "user_tz": -420
    },
    "id": "-pYult-ftmyj",
    "outputId": "2afc8021-a051-49ad-82f8-31cd328d4305"
   },
   "outputs": [
    {
     "name": "stdout",
     "output_type": "stream",
     "text": [
      "+-----------------+-------------------+-----+\n",
      "|DEST_COUNTRY_NAME|ORIGIN_COUNTRY_NAME|count|\n",
      "+-----------------+-------------------+-----+\n",
      "|    United States|            Romania|   15|\n",
      "|    United States|            Croatia|    1|\n",
      "|    United States|            Ireland|  344|\n",
      "+-----------------+-------------------+-----+\n",
      "only showing top 3 rows\n",
      "\n"
     ]
    },
    {
     "data": {
      "text/html": [
       "<div>\n",
       "<style scoped>\n",
       "    .dataframe tbody tr th:only-of-type {\n",
       "        vertical-align: middle;\n",
       "    }\n",
       "\n",
       "    .dataframe tbody tr th {\n",
       "        vertical-align: top;\n",
       "    }\n",
       "\n",
       "    .dataframe thead th {\n",
       "        text-align: right;\n",
       "    }\n",
       "</style>\n",
       "<table border=\"1\" class=\"dataframe\">\n",
       "  <thead>\n",
       "    <tr style=\"text-align: right;\">\n",
       "      <th></th>\n",
       "      <th>DEST_COUNTRY_NAME</th>\n",
       "      <th>ORIGIN_COUNTRY_NAME</th>\n",
       "      <th>count</th>\n",
       "    </tr>\n",
       "  </thead>\n",
       "  <tbody>\n",
       "    <tr>\n",
       "      <th>0</th>\n",
       "      <td>United States</td>\n",
       "      <td>Romania</td>\n",
       "      <td>15</td>\n",
       "    </tr>\n",
       "    <tr>\n",
       "      <th>1</th>\n",
       "      <td>United States</td>\n",
       "      <td>Croatia</td>\n",
       "      <td>1</td>\n",
       "    </tr>\n",
       "    <tr>\n",
       "      <th>2</th>\n",
       "      <td>United States</td>\n",
       "      <td>Ireland</td>\n",
       "      <td>344</td>\n",
       "    </tr>\n",
       "  </tbody>\n",
       "</table>\n",
       "</div>"
      ],
      "text/plain": [
       "  DEST_COUNTRY_NAME ORIGIN_COUNTRY_NAME  count\n",
       "0     United States             Romania     15\n",
       "1     United States             Croatia      1\n",
       "2     United States             Ireland    344"
      ]
     },
     "execution_count": 12,
     "metadata": {
      "tags": []
     },
     "output_type": "execute_result"
    }
   ],
   "source": [
    "spark.sql(\"SELECT * FROM df_table\").show(3)\n",
    "\n",
    "df_pd.head(3)"
   ]
  },
  {
   "cell_type": "code",
   "execution_count": 0,
   "metadata": {
    "colab": {
     "base_uri": "https://localhost:8080/",
     "height": 187
    },
    "colab_type": "code",
    "executionInfo": {
     "elapsed": 1518,
     "status": "ok",
     "timestamp": 1559817507215,
     "user": {
      "displayName": "Nithikorn Lertchanvuth",
      "photoUrl": "",
      "userId": "04129684781089266387"
     },
     "user_tz": -420
    },
    "id": "F0_2yUSACUtH",
    "outputId": "af419438-69ca-4c6b-f8c9-53f5ef16cbaa"
   },
   "outputs": [
    {
     "name": "stdout",
     "output_type": "stream",
     "text": [
      "+----+---+-----+\n",
      "|some|col|names|\n",
      "+----+---+-----+\n",
      "|  hi|  2|    1|\n",
      "+----+---+-----+\n",
      "\n"
     ]
    },
    {
     "data": {
      "text/html": [
       "<div>\n",
       "<style scoped>\n",
       "    .dataframe tbody tr th:only-of-type {\n",
       "        vertical-align: middle;\n",
       "    }\n",
       "\n",
       "    .dataframe tbody tr th {\n",
       "        vertical-align: top;\n",
       "    }\n",
       "\n",
       "    .dataframe thead th {\n",
       "        text-align: right;\n",
       "    }\n",
       "</style>\n",
       "<table border=\"1\" class=\"dataframe\">\n",
       "  <thead>\n",
       "    <tr style=\"text-align: right;\">\n",
       "      <th></th>\n",
       "      <th>col</th>\n",
       "      <th>names</th>\n",
       "      <th>some</th>\n",
       "    </tr>\n",
       "  </thead>\n",
       "  <tbody>\n",
       "    <tr>\n",
       "      <th>0</th>\n",
       "      <td>hi</td>\n",
       "      <td>2</td>\n",
       "      <td>1</td>\n",
       "    </tr>\n",
       "  </tbody>\n",
       "</table>\n",
       "</div>"
      ],
      "text/plain": [
       "  col names some\n",
       "0  hi     2    1"
      ]
     },
     "execution_count": 17,
     "metadata": {
      "tags": []
     },
     "output_type": "execute_result"
    }
   ],
   "source": [
    "\n",
    "# StructField( name = \"some\", type = StringType, nullable = true)\n",
    "myManualSchema = StructType([StructField(\"some\", StringType(), True),\n",
    "                             StructField(\"col\", StringType(), True),\n",
    "                             StructField(\"names\", LongType(), False)])\n",
    "myRow = Row('hi', 2, 1)\n",
    "myDF = spark.createDataFrame([myRow], myManualSchema)\n",
    "\n",
    "myDF.show()\n",
    "\n",
    "# pandas \n",
    "myDF_pd = pd.DataFrame(columns = {'some','col','names'})\n",
    "myDF_pd.loc[0] = ['hi',2,1]\n",
    "myDF_pd\n",
    "# We cannot use list(myRow) maybe due to a problem with data type because pyspark is successor feom Scala\n",
    "# StructType as array of columns\n",
    "# StructField as each column"
   ]
  },
  {
   "cell_type": "code",
   "execution_count": 0,
   "metadata": {
    "colab": {},
    "colab_type": "code",
    "id": "RAJCykwAfHYy"
   },
   "outputs": [],
   "source": [
    "print(type(myManualSchema))\n",
    "print(type(Row(\"hi\", 2, 1)))\n",
    "print(type(list(Row(\"hi\", 2, 1))))\n",
    "print(type([Row(\"hi\", 2, 1)])) \n",
    "print(type(myDF))"
   ]
  },
  {
   "cell_type": "code",
   "execution_count": 0,
   "metadata": {
    "colab": {
     "base_uri": "https://localhost:8080/",
     "height": 381
    },
    "colab_type": "code",
    "executionInfo": {
     "elapsed": 1084,
     "status": "ok",
     "timestamp": 1559817515582,
     "user": {
      "displayName": "Nithikorn Lertchanvuth",
      "photoUrl": "",
      "userId": "04129684781089266387"
     },
     "user_tz": -420
    },
    "id": "AmAj66gMfS6C",
    "outputId": "7caa77bf-3da3-4aaf-8c85-e9013fe4e20e"
   },
   "outputs": [
    {
     "name": "stdout",
     "output_type": "stream",
     "text": [
      "+-----------------+-------------------+\n",
      "|DEST_COUNTRY_NAME|ORIGIN_COUNTRY_NAME|\n",
      "+-----------------+-------------------+\n",
      "|    United States|            Romania|\n",
      "|    United States|            Croatia|\n",
      "+-----------------+-------------------+\n",
      "only showing top 2 rows\n",
      "\n",
      "+-----------------+-------------------+\n",
      "|DEST_COUNTRY_NAME|ORIGIN_COUNTRY_NAME|\n",
      "+-----------------+-------------------+\n",
      "|    United States|            Romania|\n",
      "|    United States|            Croatia|\n",
      "+-----------------+-------------------+\n",
      "\n"
     ]
    },
    {
     "data": {
      "text/html": [
       "<div>\n",
       "<style scoped>\n",
       "    .dataframe tbody tr th:only-of-type {\n",
       "        vertical-align: middle;\n",
       "    }\n",
       "\n",
       "    .dataframe tbody tr th {\n",
       "        vertical-align: top;\n",
       "    }\n",
       "\n",
       "    .dataframe thead th {\n",
       "        text-align: right;\n",
       "    }\n",
       "</style>\n",
       "<table border=\"1\" class=\"dataframe\">\n",
       "  <thead>\n",
       "    <tr style=\"text-align: right;\">\n",
       "      <th></th>\n",
       "      <th>DEST_COUNTRY_NAME</th>\n",
       "      <th>ORIGIN_COUNTRY_NAME</th>\n",
       "    </tr>\n",
       "  </thead>\n",
       "  <tbody>\n",
       "    <tr>\n",
       "      <th>0</th>\n",
       "      <td>United States</td>\n",
       "      <td>Romania</td>\n",
       "    </tr>\n",
       "    <tr>\n",
       "      <th>1</th>\n",
       "      <td>United States</td>\n",
       "      <td>Croatia</td>\n",
       "    </tr>\n",
       "  </tbody>\n",
       "</table>\n",
       "</div>"
      ],
      "text/plain": [
       "  DEST_COUNTRY_NAME ORIGIN_COUNTRY_NAME\n",
       "0     United States             Romania\n",
       "1     United States             Croatia"
      ]
     },
     "execution_count": 18,
     "metadata": {
      "tags": []
     },
     "output_type": "execute_result"
    }
   ],
   "source": [
    "df.select(\"DEST_COUNTRY_NAME\", \n",
    "          \"ORIGIN_COUNTRY_NAME\").show(2)\n",
    "\n",
    "spark.sql(\" SELECT DEST_COUNTRY_NAME, ORIGIN_COUNTRY_NAME \\\n",
    "            FROM df_table \\\n",
    "            LIMIT 2\" \\\n",
    "         ).show()\n",
    "\n",
    "df_pd.iloc[0:2,0:2]"
   ]
  },
  {
   "cell_type": "code",
   "execution_count": 0,
   "metadata": {
    "colab": {
     "base_uri": "https://localhost:8080/",
     "height": 163
    },
    "colab_type": "code",
    "executionInfo": {
     "elapsed": 942,
     "status": "ok",
     "timestamp": 1559817518198,
     "user": {
      "displayName": "Nithikorn Lertchanvuth",
      "photoUrl": "",
      "userId": "04129684781089266387"
     },
     "user_tz": -420
    },
    "id": "k0GIQrq0fPQw",
    "outputId": "ef960dc7-3e4b-40ff-da29-8f76790f50d4"
   },
   "outputs": [
    {
     "name": "stdout",
     "output_type": "stream",
     "text": [
      "+-------------+-----------------+-----------------+\n",
      "|           GG|DEST_COUNTRY_NAME|DEST_COUNTRY_NAME|\n",
      "+-------------+-----------------+-----------------+\n",
      "|United States|    United States|    United States|\n",
      "|United States|    United States|    United States|\n",
      "+-------------+-----------------+-----------------+\n",
      "only showing top 2 rows\n",
      "\n"
     ]
    }
   ],
   "source": [
    "df.select(F.expr(\"DEST_COUNTRY_NAME AS GG\"),\n",
    "          F.col(\"DEST_COUNTRY_NAME\"),\n",
    "          F.column(\"DEST_COUNTRY_NAME\")).show(2)"
   ]
  },
  {
   "cell_type": "code",
   "execution_count": 0,
   "metadata": {
    "colab": {
     "base_uri": "https://localhost:8080/",
     "height": 508
    },
    "colab_type": "code",
    "executionInfo": {
     "elapsed": 1170,
     "status": "ok",
     "timestamp": 1559817519593,
     "user": {
      "displayName": "Nithikorn Lertchanvuth",
      "photoUrl": "",
      "userId": "04129684781089266387"
     },
     "user_tz": -420
    },
    "id": "lNLIQ51vei6D",
    "outputId": "d2fd5ea1-a845-4bfe-b5f7-3cb8994fcf2e"
   },
   "outputs": [
    {
     "name": "stdout",
     "output_type": "stream",
     "text": [
      "+-------------+\n",
      "|           GG|\n",
      "+-------------+\n",
      "|United States|\n",
      "|United States|\n",
      "|United States|\n",
      "+-------------+\n",
      "only showing top 3 rows\n",
      "\n",
      "+-------------+\n",
      "|           WP|\n",
      "+-------------+\n",
      "|United States|\n",
      "|United States|\n",
      "|United States|\n",
      "+-------------+\n",
      "only showing top 3 rows\n",
      "\n",
      "+-------------+\n",
      "|           WP|\n",
      "+-------------+\n",
      "|United States|\n",
      "|United States|\n",
      "|United States|\n",
      "+-------------+\n",
      "only showing top 3 rows\n",
      "\n"
     ]
    }
   ],
   "source": [
    "pivot = df.select(F.expr(\"DEST_COUNTRY_NAME AS GG\"))\n",
    "pivot.show(3)\n",
    "\n",
    "pivot_2 = df.select(F.expr(\"DEST_COUNTRY_NAME AS WP\"))\n",
    "pivot_2.show(3)\n",
    "\n",
    "pivot_3 = df.select(F.expr(\"DEST_COUNTRY_NAME AS GG\").alias(\"WP\"))\n",
    "pivot_3.show(3)\n",
    "# alias: sets a new name for a column "
   ]
  },
  {
   "cell_type": "code",
   "execution_count": 0,
   "metadata": {
    "colab": {
     "base_uri": "https://localhost:8080/",
     "height": 254
    },
    "colab_type": "code",
    "executionInfo": {
     "elapsed": 834,
     "status": "ok",
     "timestamp": 1559818829480,
     "user": {
      "displayName": "Nithikorn Lertchanvuth",
      "photoUrl": "",
      "userId": "04129684781089266387"
     },
     "user_tz": -420
    },
    "id": "wr9WGwahCTxT",
    "outputId": "dd8a6e08-16e0-45d3-d45a-223e529d1c1c"
   },
   "outputs": [
    {
     "name": "stdout",
     "output_type": "stream",
     "text": [
      "+-------------+-----------------+\n",
      "|newColumnName|DEST_COUNTRY_NAME|\n",
      "+-------------+-----------------+\n",
      "|United States|    United States|\n",
      "|United States|    United States|\n",
      "+-------------+-----------------+\n",
      "only showing top 2 rows\n",
      "\n"
     ]
    },
    {
     "data": {
      "text/html": [
       "<div>\n",
       "<style scoped>\n",
       "    .dataframe tbody tr th:only-of-type {\n",
       "        vertical-align: middle;\n",
       "    }\n",
       "\n",
       "    .dataframe tbody tr th {\n",
       "        vertical-align: top;\n",
       "    }\n",
       "\n",
       "    .dataframe thead th {\n",
       "        text-align: right;\n",
       "    }\n",
       "</style>\n",
       "<table border=\"1\" class=\"dataframe\">\n",
       "  <thead>\n",
       "    <tr style=\"text-align: right;\">\n",
       "      <th></th>\n",
       "      <th>DEST_COUNTRY_NAME</th>\n",
       "      <th>newColumnName</th>\n",
       "    </tr>\n",
       "  </thead>\n",
       "  <tbody>\n",
       "    <tr>\n",
       "      <th>0</th>\n",
       "      <td>United States</td>\n",
       "      <td>United States</td>\n",
       "    </tr>\n",
       "    <tr>\n",
       "      <th>1</th>\n",
       "      <td>United States</td>\n",
       "      <td>United States</td>\n",
       "    </tr>\n",
       "  </tbody>\n",
       "</table>\n",
       "</div>"
      ],
      "text/plain": [
       "  DEST_COUNTRY_NAME  newColumnName\n",
       "0     United States  United States\n",
       "1     United States  United States"
      ]
     },
     "execution_count": 53,
     "metadata": {
      "tags": []
     },
     "output_type": "execute_result"
    }
   ],
   "source": [
    "df.selectExpr(\"DEST_COUNTRY_NAME as newColumnName\", \"DEST_COUNTRY_NAME\").show(2)\n",
    "\n",
    "\n",
    "df_psTemp = pd.DataFrame(df_pd['DEST_COUNTRY_NAME'])\n",
    "df_psTemp['newColumnName'] = df_pd.iloc[:,0]\n",
    "df_psTemp.head(2)"
   ]
  },
  {
   "cell_type": "code",
   "execution_count": 0,
   "metadata": {
    "colab": {
     "base_uri": "https://localhost:8080/",
     "height": 254
    },
    "colab_type": "code",
    "executionInfo": {
     "elapsed": 908,
     "status": "ok",
     "timestamp": 1559819182164,
     "user": {
      "displayName": "Nithikorn Lertchanvuth",
      "photoUrl": "",
      "userId": "04129684781089266387"
     },
     "user_tz": -420
    },
    "id": "NCNjT_q8eCXj",
    "outputId": "7e617841-7a68-4be6-ac85-b1df60042bf8"
   },
   "outputs": [
    {
     "name": "stdout",
     "output_type": "stream",
     "text": [
      "+-----------------+-------------------+-----+-------------+\n",
      "|DEST_COUNTRY_NAME|ORIGIN_COUNTRY_NAME|count|withinCountry|\n",
      "+-----------------+-------------------+-----+-------------+\n",
      "|    United States|            Romania|   15|        false|\n",
      "|    United States|            Croatia|    1|        false|\n",
      "+-----------------+-------------------+-----+-------------+\n",
      "only showing top 2 rows\n",
      "\n"
     ]
    },
    {
     "data": {
      "text/html": [
       "<div>\n",
       "<style scoped>\n",
       "    .dataframe tbody tr th:only-of-type {\n",
       "        vertical-align: middle;\n",
       "    }\n",
       "\n",
       "    .dataframe tbody tr th {\n",
       "        vertical-align: top;\n",
       "    }\n",
       "\n",
       "    .dataframe thead th {\n",
       "        text-align: right;\n",
       "    }\n",
       "</style>\n",
       "<table border=\"1\" class=\"dataframe\">\n",
       "  <thead>\n",
       "    <tr style=\"text-align: right;\">\n",
       "      <th></th>\n",
       "      <th>DEST_COUNTRY_NAME</th>\n",
       "      <th>ORIGIN_COUNTRY_NAME</th>\n",
       "      <th>count</th>\n",
       "      <th>withinCountry</th>\n",
       "    </tr>\n",
       "  </thead>\n",
       "  <tbody>\n",
       "    <tr>\n",
       "      <th>0</th>\n",
       "      <td>United States</td>\n",
       "      <td>Romania</td>\n",
       "      <td>15</td>\n",
       "      <td>False</td>\n",
       "    </tr>\n",
       "    <tr>\n",
       "      <th>1</th>\n",
       "      <td>United States</td>\n",
       "      <td>Croatia</td>\n",
       "      <td>1</td>\n",
       "      <td>False</td>\n",
       "    </tr>\n",
       "  </tbody>\n",
       "</table>\n",
       "</div>"
      ],
      "text/plain": [
       "  DEST_COUNTRY_NAME ORIGIN_COUNTRY_NAME  count  withinCountry\n",
       "0     United States             Romania     15          False\n",
       "1     United States             Croatia      1          False"
      ]
     },
     "execution_count": 62,
     "metadata": {
      "tags": []
     },
     "output_type": "execute_result"
    }
   ],
   "source": [
    "df.selectExpr(\"*\", \"DEST_COUNTRY_NAME = ORIGIN_COUNTRY_NAME as withinCountry\").show(2)\n",
    "\n",
    "df_pd['withinCountry'] = df_pd.DEST_COUNTRY_NAME == df_pd.ORIGIN_COUNTRY_NAME\n",
    "df_pd.head(2)"
   ]
  },
  {
   "cell_type": "code",
   "execution_count": 0,
   "metadata": {
    "colab": {
     "base_uri": "https://localhost:8080/",
     "height": 163
    },
    "colab_type": "code",
    "executionInfo": {
     "elapsed": 816,
     "status": "ok",
     "timestamp": 1559822268282,
     "user": {
      "displayName": "Nithikorn Lertchanvuth",
      "photoUrl": "",
      "userId": "04129684781089266387"
     },
     "user_tz": -420
    },
    "id": "b-oVaW5vdtad",
    "outputId": "3705fd92-061c-48c6-ee93-99378b35094a"
   },
   "outputs": [
    {
     "name": "stdout",
     "output_type": "stream",
     "text": [
      "+-----------------+-------------------+-----+-------+\n",
      "|DEST_COUNTRY_NAME|ORIGIN_COUNTRY_NAME|count|  Visit|\n",
      "+-----------------+-------------------+-----+-------+\n",
      "|    United States|            Romania|   15|not yet|\n",
      "|    United States|            Croatia|    1|not yet|\n",
      "+-----------------+-------------------+-----+-------+\n",
      "only showing top 2 rows\n",
      "\n"
     ]
    }
   ],
   "source": [
    "df.withColumn('Visit', F.lit('not yet')).show(2)"
   ]
  },
  {
   "cell_type": "code",
   "execution_count": 0,
   "metadata": {
    "colab": {
     "base_uri": "https://localhost:8080/",
     "height": 35
    },
    "colab_type": "code",
    "executionInfo": {
     "elapsed": 962,
     "status": "ok",
     "timestamp": 1559822352252,
     "user": {
      "displayName": "Nithikorn Lertchanvuth",
      "photoUrl": "",
      "userId": "04129684781089266387"
     },
     "user_tz": -420
    },
    "id": "UGVURya8bfpz",
    "outputId": "4d146815-f026-4ea8-bbb5-a3cc4bd5a85b"
   },
   "outputs": [
    {
     "data": {
      "text/plain": [
       "['DEST_COUNTRY_NAME', 'ORIGIN_COUNTRY_NAME', 'count', 'Destination']"
      ]
     },
     "execution_count": 68,
     "metadata": {
      "tags": []
     },
     "output_type": "execute_result"
    }
   ],
   "source": [
    "df.withColumn(\"Destination\", F.expr(\"DEST_COUNTRY_NAME\")).columns"
   ]
  },
  {
   "cell_type": "code",
   "execution_count": 0,
   "metadata": {
    "colab": {
     "base_uri": "https://localhost:8080/",
     "height": 454
    },
    "colab_type": "code",
    "executionInfo": {
     "elapsed": 1314,
     "status": "ok",
     "timestamp": 1559812018931,
     "user": {
      "displayName": "Nithikorn Lertchanvuth",
      "photoUrl": "",
      "userId": "04129684781089266387"
     },
     "user_tz": -420
    },
    "id": "T60WFKc1qCJI",
    "outputId": "37092e18-deae-42a5-e3cb-7bd65bdd90b6"
   },
   "outputs": [
    {
     "name": "stdout",
     "output_type": "stream",
     "text": [
      "+--------------------+-------------------+-----+\n",
      "|   DEST_COUNTRY_NAME|ORIGIN_COUNTRY_NAME|count|\n",
      "+--------------------+-------------------+-----+\n",
      "|       United States|            Romania|   15|\n",
      "|       United States|            Croatia|    1|\n",
      "|       United States|            Ireland|  344|\n",
      "|               Egypt|      United States|   15|\n",
      "|       United States|              India|   62|\n",
      "|       United States|          Singapore|    1|\n",
      "|       United States|            Grenada|   62|\n",
      "|          Costa Rica|      United States|  588|\n",
      "|             Senegal|      United States|   40|\n",
      "|             Moldova|      United States|    1|\n",
      "|       United States|       Sint Maarten|  325|\n",
      "|       United States|   Marshall Islands|   39|\n",
      "|              Guyana|      United States|   64|\n",
      "|               Malta|      United States|    1|\n",
      "|            Anguilla|      United States|   41|\n",
      "|             Bolivia|      United States|   30|\n",
      "|       United States|           Paraguay|    6|\n",
      "|             Algeria|      United States|    4|\n",
      "|Turks and Caicos ...|      United States|  230|\n",
      "|       United States|          Gibraltar|    1|\n",
      "+--------------------+-------------------+-----+\n",
      "only showing top 20 rows\n",
      "\n"
     ]
    }
   ],
   "source": [
    "df.show()"
   ]
  },
  {
   "cell_type": "code",
   "execution_count": 0,
   "metadata": {
    "colab": {
     "base_uri": "https://localhost:8080/",
     "height": 185
    },
    "colab_type": "code",
    "executionInfo": {
     "elapsed": 2040,
     "status": "ok",
     "timestamp": 1559812178674,
     "user": {
      "displayName": "Nithikorn Lertchanvuth",
      "photoUrl": "",
      "userId": "04129684781089266387"
     },
     "user_tz": -420
    },
    "id": "tN_6l18dCJ8C",
    "outputId": "34427bf3-6dcd-45b4-c1b5-65ad1443195a"
   },
   "outputs": [
    {
     "name": "stdout",
     "output_type": "stream",
     "text": [
      "+-------+-----------------+-------------------+------------------+\n",
      "|summary|DEST_COUNTRY_NAME|ORIGIN_COUNTRY_NAME|             count|\n",
      "+-------+-----------------+-------------------+------------------+\n",
      "|  count|              256|                256|               256|\n",
      "|   mean|             null|               null|       1770.765625|\n",
      "| stddev|             null|               null|23126.516918551915|\n",
      "|    min|          Algeria|             Angola|                 1|\n",
      "|    max|           Zambia|            Vietnam|            370002|\n",
      "+-------+-----------------+-------------------+------------------+\n",
      "\n"
     ]
    }
   ],
   "source": [
    "df.describe().show()"
   ]
  },
  {
   "cell_type": "code",
   "execution_count": 0,
   "metadata": {
    "colab": {},
    "colab_type": "code",
    "id": "N4inrLFHCJ_4"
   },
   "outputs": [],
   "source": [
    "mean = df.agg({\"count\":\"mean\"})"
   ]
  },
  {
   "cell_type": "code",
   "execution_count": 0,
   "metadata": {
    "colab": {
     "base_uri": "https://localhost:8080/",
     "height": 34
    },
    "colab_type": "code",
    "executionInfo": {
     "elapsed": 3814,
     "status": "ok",
     "timestamp": 1559812586838,
     "user": {
      "displayName": "Nithikorn Lertchanvuth",
      "photoUrl": "",
      "userId": "04129684781089266387"
     },
     "user_tz": -420
    },
    "id": "EOLLwwO9CKCz",
    "outputId": "5a18f4c0-8836-4afb-db49-e62fcdec6eee"
   },
   "outputs": [
    {
     "data": {
      "text/plain": [
       "DataFrame[avg(count): double]"
      ]
     },
     "execution_count": 28,
     "metadata": {
      "tags": []
     },
     "output_type": "execute_result"
    }
   ],
   "source": [
    "mean"
   ]
  },
  {
   "cell_type": "code",
   "execution_count": 0,
   "metadata": {
    "colab": {
     "base_uri": "https://localhost:8080/",
     "height": 34
    },
    "colab_type": "code",
    "executionInfo": {
     "elapsed": 841,
     "status": "ok",
     "timestamp": 1559812547952,
     "user": {
      "displayName": "Nithikorn Lertchanvuth",
      "photoUrl": "",
      "userId": "04129684781089266387"
     },
     "user_tz": -420
    },
    "id": "yHi_58JGCKF9",
    "outputId": "041e0145-9119-4217-b5f3-21b82120d382"
   },
   "outputs": [
    {
     "data": {
      "text/plain": [
       "Row(avg(count)=1770.765625)"
      ]
     },
     "execution_count": 25,
     "metadata": {
      "tags": []
     },
     "output_type": "execute_result"
    }
   ],
   "source": [
    "mean.first()"
   ]
  },
  {
   "cell_type": "code",
   "execution_count": 0,
   "metadata": {
    "colab": {
     "base_uri": "https://localhost:8080/",
     "height": 34
    },
    "colab_type": "code",
    "executionInfo": {
     "elapsed": 1071,
     "status": "ok",
     "timestamp": 1559812593575,
     "user": {
      "displayName": "Nithikorn Lertchanvuth",
      "photoUrl": "",
      "userId": "04129684781089266387"
     },
     "user_tz": -420
    },
    "id": "6E82oJJuCKIk",
    "outputId": "957f0e73-b171-4b1c-9bb9-2dceca3d4f5f"
   },
   "outputs": [
    {
     "data": {
      "text/plain": [
       "1770.765625"
      ]
     },
     "execution_count": 29,
     "metadata": {
      "tags": []
     },
     "output_type": "execute_result"
    }
   ],
   "source": [
    "mean.first()[0]"
   ]
  },
  {
   "cell_type": "code",
   "execution_count": 0,
   "metadata": {
    "colab": {},
    "colab_type": "code",
    "id": "r_nn4b1UgpDL"
   },
   "outputs": [],
   "source": []
  }
 ],
 "metadata": {
  "accelerator": "GPU",
  "colab": {
   "collapsed_sections": [
    "A7dFymMru5Xd",
    "GGNo2CIewBEE",
    "4zP-0vDI-v8k",
    "fL6mExL9Z7TA"
   ],
   "name": "Core Apache Spark.ipynb",
   "provenance": [],
   "version": "0.3.2"
  },
  "kernelspec": {
   "display_name": "Python 3",
   "language": "python",
   "name": "python3"
  },
  "language_info": {
   "codemirror_mode": {
    "name": "ipython",
    "version": 3
   },
   "file_extension": ".py",
   "mimetype": "text/x-python",
   "name": "python",
   "nbconvert_exporter": "python",
   "pygments_lexer": "ipython3",
   "version": "3.6.8"
  }
 },
 "nbformat": 4,
 "nbformat_minor": 1
}
