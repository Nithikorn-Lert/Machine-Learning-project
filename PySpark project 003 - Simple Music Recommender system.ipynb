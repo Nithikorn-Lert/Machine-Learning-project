{
 "cells": [
  {
   "cell_type": "code",
   "execution_count": 1,
   "metadata": {},
   "outputs": [
    {
     "data": {
      "text/plain": [
       "'\\nThe content in notebook based on Ref but I try to convert them to Pyspark \\nRef: \\n[1] Advanced Analytics with Spark, 2e\\n[2] https://github.com/novelari/advanced-analytics-spark\\n'"
      ]
     },
     "execution_count": 1,
     "metadata": {},
     "output_type": "execute_result"
    }
   ],
   "source": [
    "'''\n",
    "The content in notebook based on Ref but I try to convert them to Pyspark \n",
    "Ref: \n",
    "[1] Advanced Analytics with Spark, 2e\n",
    "[2] https://github.com/novelari/advanced-analytics-spark\n",
    "'''"
   ]
  },
  {
   "cell_type": "code",
   "execution_count": 2,
   "metadata": {},
   "outputs": [],
   "source": [
    "import findspark\n",
    "findspark.init()\n",
    "\n",
    "from pyspark import SparkContext\n",
    "from pyspark import SparkConf\n",
    "from pyspark.sql import SparkSession\n",
    "import pyspark.sql.functions as F\n",
    "from pyspark.sql import types as t\n",
    "from pyspark.sql.types import StringType\n",
    "from pyspark.sql.functions import split"
   ]
  },
  {
   "cell_type": "code",
   "execution_count": 3,
   "metadata": {},
   "outputs": [],
   "source": [
    "config = SparkConf().setAll([('spark.driver.memory','10g'),('spark.executor.memory', '20g'), ('spark.executor.cores', '3'), ('spark.cores.max', '3')])\n",
    "# config.set(\"spark.driver.memory\", \"10g\")\n",
    "# config.set(\"spark.executer.memory\", \"20g\")"
   ]
  },
  {
   "cell_type": "code",
   "execution_count": 4,
   "metadata": {},
   "outputs": [],
   "source": [
    "sc = SparkContext(appName= \"Recommendation_sys\", conf = config)\n",
    "# sc.stop()"
   ]
  },
  {
   "cell_type": "code",
   "execution_count": 5,
   "metadata": {},
   "outputs": [],
   "source": [
    "spark = SparkSession.builder\\\n",
    "                    .master('local')\\\n",
    "                    .appName(\"SparkSession_appName\")\\\n",
    "                    .getOrCreate()"
   ]
  },
  {
   "cell_type": "code",
   "execution_count": 6,
   "metadata": {},
   "outputs": [],
   "source": [
    "main = \"C:/Users/New/Downloads/Data science in Action/Data set for spark/advance analytic with spark/data/chapter 3/\"\n",
    "# Spark.SQL_DF\n",
    "# rawUserArtistData_ss = spark.read.option(\"delimiter\",\" \")\\\n",
    "#                                  .option(\"inferSchema\",\"true\")\\\n",
    "#                                  .option(\"charset\", \"utf-8\")\\\n",
    "#                                  .csv(main + \"user_artist_data.txt\").cache()\n",
    "\n",
    "# rawArtistData_ss = spark.read.option(\"delimiter\",'\\t')\\\n",
    "#                           .option(\"inferSchema\",\"true\")\\\n",
    "#                           .option(\"charset\", \"utf-8\")\\\n",
    "#                           .csv(main + \"artist_data.txt\").cache()\n",
    "\n",
    "# rawArtistAlias_ss = spark.read.option(\"delimiter\",'\\t')\\\n",
    "#                           .option(\"inferSchema\",\"true\")\\\n",
    "#                           .option(\"charset\", \"utf-8\")\\\n",
    "#                           .csv(main + \"artist_alias.txt\").cache()\n",
    "\n",
    "# print(type(rawUserArtistData_ss)) # SPARK_SQL_DF"
   ]
  },
  {
   "cell_type": "code",
   "execution_count": 7,
   "metadata": {},
   "outputs": [
    {
     "name": "stdout",
     "output_type": "stream",
     "text": [
      "<class 'pyspark.rdd.RDD'>\n"
     ]
    }
   ],
   "source": [
    "# call data with SparkContext\n",
    "rawUserArtistData = sc.textFile(main + \"user_artist_data.txt\").cache()\n",
    "rawArtistData = sc.textFile(main + \"artist_data.txt\").cache()\n",
    "rawArtistAlias = sc.textFile(main + \"artist_alias.txt\").cache()\n",
    "\n",
    "print(type(rawUserArtistData)) # RDD"
   ]
  },
  {
   "cell_type": "code",
   "execution_count": 8,
   "metadata": {},
   "outputs": [],
   "source": [
    "UAD = rawUserArtistData \n",
    "AD = rawArtistData\n",
    "AA = rawArtistAlias"
   ]
  },
  {
   "cell_type": "code",
   "execution_count": 9,
   "metadata": {
    "scrolled": true
   },
   "outputs": [],
   "source": [
    "# prevent effect of Null value \n",
    "def Int_checker(s):\n",
    "    try:\n",
    "        int(s)\n",
    "        return True\n",
    "    except ValueError:\n",
    "        return False"
   ]
  },
  {
   "cell_type": "code",
   "execution_count": 10,
   "metadata": {},
   "outputs": [
    {
     "data": {
      "text/plain": [
       "False"
      ]
     },
     "execution_count": 10,
     "metadata": {},
     "output_type": "execute_result"
    }
   ],
   "source": [
    "Int_checker('a')\n",
    "# => when we use with filter the non-INT data will be remove Automatically"
   ]
  },
  {
   "cell_type": "code",
   "execution_count": 12,
   "metadata": {},
   "outputs": [
    {
     "name": "stdout",
     "output_type": "stream",
     "text": [
      "AD\n"
     ]
    },
    {
     "data": {
      "text/plain": [
       "['1134999\\t06Crazy Life',\n",
       " '6821360\\tPang Nakarin',\n",
       " '10113088\\tTerfel, Bartoli- Mozart: Don',\n",
       " '10151459\\tThe Flaming Sidebur',\n",
       " '6826647\\tBodenstandig 3000']"
      ]
     },
     "execution_count": 12,
     "metadata": {},
     "output_type": "execute_result"
    }
   ],
   "source": [
    "print('AD')\n",
    "AD.take(5)"
   ]
  },
  {
   "cell_type": "code",
   "execution_count": 13,
   "metadata": {},
   "outputs": [
    {
     "data": {
      "text/plain": [
       "[(1134999, '06Crazy Life'),\n",
       " (6821360, 'Pang Nakarin'),\n",
       " (10113088, 'Terfel, Bartoli- Mozart: Don'),\n",
       " (10151459, 'The Flaming Sidebur'),\n",
       " (6826647, 'Bodenstandig 3000')]"
      ]
     },
     "execution_count": 13,
     "metadata": {},
     "output_type": "execute_result"
    }
   ],
   "source": [
    "new_AD = AD.map(lambda each_row: each_row.split('\\t'))\\\n",
    "            .filter(lambda x: x[0] and Int_checker(x[0]))\\\n",
    "            .map(lambda x: (int(x[0]), x[1].strip()))\n",
    "\n",
    "# non-INT data will be remove Automatically\n",
    "# remove all the leading and trailing spaces from a string\n",
    "new_AD.take(5)"
   ]
  },
  {
   "cell_type": "code",
   "execution_count": 14,
   "metadata": {},
   "outputs": [
    {
     "name": "stdout",
     "output_type": "stream",
     "text": [
      "AA\n"
     ]
    },
    {
     "data": {
      "text/plain": [
       "['1092764\\t1000311',\n",
       " '1095122\\t1000557',\n",
       " '6708070\\t1007267',\n",
       " '10088054\\t1042317',\n",
       " '1195917\\t1042317']"
      ]
     },
     "execution_count": 14,
     "metadata": {},
     "output_type": "execute_result"
    }
   ],
   "source": [
    "print('AA')\n",
    "AA.take(5)"
   ]
  },
  {
   "cell_type": "code",
   "execution_count": 15,
   "metadata": {},
   "outputs": [
    {
     "data": {
      "text/plain": [
       "1000311"
      ]
     },
     "execution_count": 15,
     "metadata": {},
     "output_type": "execute_result"
    }
   ],
   "source": [
    "'''Mapping badID to goodID'''\n",
    "new_AA = AA.map(lambda a: a.split('\\t'))\\\n",
    "           .filter(lambda a: a[0] and Int_checker(a[0]))\\\n",
    "           .filter(lambda a: a[1] and Int_checker(a[1]))\\\n",
    "           .map(lambda a: (int(a[0]), int(a[1])))\\\n",
    "           .collectAsMap()\n",
    "\n",
    "# Dict for key = 1092764\n",
    "sc.broadcast(new_AA).value[1092764]"
   ]
  },
  {
   "cell_type": "code",
   "execution_count": 16,
   "metadata": {
    "scrolled": true
   },
   "outputs": [
    {
     "name": "stdout",
     "output_type": "stream",
     "text": [
      "UAD\n"
     ]
    },
    {
     "data": {
      "text/plain": [
       "['1000002 1 55',\n",
       " '1000002 1000006 33',\n",
       " '1000002 1000007 8',\n",
       " '1000002 1000009 144',\n",
       " '1000002 1000010 314']"
      ]
     },
     "execution_count": 16,
     "metadata": {},
     "output_type": "execute_result"
    }
   ],
   "source": [
    "print('UAD')\n",
    "UAD.take(5)"
   ]
  },
  {
   "cell_type": "code",
   "execution_count": 17,
   "metadata": {},
   "outputs": [],
   "source": [
    "'''--------------------------------------------------RDD-Based API----------------------------------------------------------'''\n",
    "from pyspark.mllib.recommendation import ALS, Rating\n",
    "\n",
    "def buildRatings(rawUserArtistData, bArtistAlias):\n",
    "    def getArtistRating(line):\n",
    "        (userID, artistID, count) = map(lambda x: int(x), line.split(' '))\n",
    "        try:\n",
    "            finalArtistID = bArtistAlias.value[artistID]\n",
    "        except KeyError:\n",
    "            finalArtistID = artistID\n",
    "        return Rating(userID, finalArtistID, count)\n",
    "\n",
    "    return rawUserArtistData.map(lambda line: getArtistRating(line))"
   ]
  },
  {
   "cell_type": "code",
   "execution_count": 18,
   "metadata": {},
   "outputs": [],
   "source": [
    "artistByID = new_AD\n",
    "artistAlias = new_AA"
   ]
  },
  {
   "cell_type": "code",
   "execution_count": 21,
   "metadata": {},
   "outputs": [
    {
     "data": {
      "text/plain": [
       "[Rating(user=1000002, product=1, rating=55.0),\n",
       " Rating(user=1000002, product=1000006, rating=33.0),\n",
       " Rating(user=1000002, product=1000007, rating=8.0),\n",
       " Rating(user=1000002, product=1000009, rating=144.0),\n",
       " Rating(user=1000002, product=1000010, rating=314.0)]"
      ]
     },
     "execution_count": 21,
     "metadata": {},
     "output_type": "execute_result"
    }
   ],
   "source": [
    "bArtistAlias = sc.broadcast(new_AA)\n",
    "trainData = buildRatings(UAD, bArtistAlias)\n",
    "trainData.take(5)"
   ]
  },
  {
   "cell_type": "code",
   "execution_count": 22,
   "metadata": {},
   "outputs": [],
   "source": [
    "model = ALS.trainImplicit(ratings=trainData, \n",
    "                          rank=50, \n",
    "                          iterations=10, \n",
    "                          lambda_=0.01, \n",
    "                          alpha=40.0)"
   ]
  },
  {
   "cell_type": "code",
   "execution_count": 23,
   "metadata": {},
   "outputs": [
    {
     "data": {
      "text/plain": [
       "pyspark.mllib.recommendation.MatrixFactorizationModel"
      ]
     },
     "execution_count": 23,
     "metadata": {},
     "output_type": "execute_result"
    }
   ],
   "source": [
    "type(model)"
   ]
  },
  {
   "cell_type": "code",
   "execution_count": 24,
   "metadata": {},
   "outputs": [
    {
     "data": {
      "text/plain": [
       "[(120,\n",
       "  '-0.04354475438594818, -0.3437068462371826, 0.08738048374652863, 0.1493648737668991, 0.011952451430261135, -0.09942986071109772, 0.2106037735939026, 0.3627055585384369, 0.1341874897480011, -0.15750350058078766, 0.28746142983436584, 0.2328723520040512, 0.017917631193995476, 0.03436492756009102, -0.07050832360982895, 0.23455484211444855, 0.011516330763697624, -0.056172922253608704, 0.10433101654052734, -0.019960220903158188, -0.07806042581796646, -0.1185324564576149, -0.11629392206668854, -0.03283442556858063, -0.18302929401397705, -0.5033071637153625, 0.07517089694738388, 0.03577866777777672, 0.2592799961566925, -0.08838721364736557, -0.03977544605731964, 0.12299688905477524, 0.005985778756439686, 0.024718027561903, 0.0628739520907402, 0.08207602798938751, -0.005692627746611834, -0.11079041659832001, 0.09192708879709244, 0.056098055094480515, 0.2521832585334778, 0.06714048236608505, 0.03959398716688156, -0.10585267096757889, -0.08365881443023682, 0.1313609480857849, 0.024214962497353554, 0.07844293117523193, -0.29667797684669495, -0.09222514927387238'),\n",
       " (384,\n",
       "  '-0.1348448097705841, -0.7301504611968994, 0.120956189930439, 0.17449665069580078, -0.13684731721878052, -0.14924101531505585, 0.44209226965904236, 0.3344361484050751, 0.15277338027954102, -0.19007445871829987, 0.38688769936561584, 0.010715420357882977, -0.0058138989843428135, -0.005170859396457672, 0.16557547450065613, 0.045604024082422256, 0.2537706792354584, 0.04978976026177406, 0.28934192657470703, -0.03548581153154373, -0.43580034375190735, 0.003834114409983158, -0.09136442840099335, -0.18313372135162354, -0.49632298946380615, -0.7638712525367737, 0.04602593556046486, -0.06504801660776138, 0.11426617205142975, -0.29556599259376526, -0.01773993670940399, -0.18812918663024902, -0.06358622759580612, -0.1648399978876114, 0.1830970048904419, 0.19426298141479492, -0.2519078254699707, -0.10411082953214645, -0.10577321797609329, 0.10210619866847992, -0.08206786215305328, 0.2945132553577423, 0.37689340114593506, -0.14021030068397522, -0.30350103974342346, 0.32194316387176514, 0.05038753151893616, -0.10069543868303299, -0.5699692964553833, -0.2722705602645874'),\n",
       " (828,\n",
       "  '0.019667843356728554, -0.19586272537708282, 0.027854254469275475, 0.03916001692414284, 0.095013327896595, 0.05871836468577385, 0.032504837960004807, 0.19065512716770172, 0.032381556928157806, -0.06871853023767471, 0.08248049020767212, 0.15965628623962402, 0.09312498569488525, -0.006923224311321974, 0.014532573521137238, -0.04092644155025482, 0.032762233167886734, 0.05336012691259384, 0.0076203616335988045, -0.05882471054792404, -0.1455674171447754, -0.03663751482963562, -0.16498331725597382, -0.08320626616477966, -0.14170323312282562, -0.1159784123301506, -0.006812603212893009, 0.09832344949245453, 0.008015747182071209, -0.034529924392700195, -0.07430712878704071, 0.06136830523610115, 0.09419721364974976, 0.11176422983407974, 0.0020090488251298666, 0.07998331636190414, 0.04833316430449486, 0.005661292467266321, 0.006789242383092642, 0.002076759235933423, -0.0011086661834269762, -0.03965336084365845, 0.06535780429840088, 0.075510673224926, -0.12683945894241333, 0.16473859548568726, -0.058547038584947586, 0.005331552121788263, -0.12986907362937927, -0.09235264360904694'),\n",
       " (3048,\n",
       "  '-0.534662127494812, -0.24881242215633392, 0.08515293151140213, 0.2515815496444702, -0.07646586000919342, 0.03872101753950119, -0.020526807755231857, 0.47656792402267456, 0.23558978736400604, 0.2831021249294281, 0.874789834022522, 0.9168023467063904, 0.08190795034170151, -0.14281807839870453, -0.20579208433628082, 0.38395822048187256, -0.06488692760467529, -0.4837736189365387, 0.17987924814224243, 0.27859950065612793, -0.4442441761493683, -0.011896648444235325, -0.12436933815479279, 0.07156773656606674, -0.05155281722545624, -0.26378968358039856, 0.20782390236854553, -0.6814132332801819, 0.12174796313047409, -0.07639162242412567, -0.2458549290895462, -0.05212223902344704, -0.17339900135993958, -0.008564619347453117, 0.4502205550670624, 0.07182475924491882, -0.24073348939418793, -0.08447796106338501, 0.1323712021112442, 0.03929619491100311, 0.3970806896686554, 0.2528854012489319, 0.19541260600090027, -0.4283992648124695, -0.12010262906551361, -0.4947459101676941, 0.29782024025917053, 0.40182915329933167, -0.6403743624687195, -0.3556469976902008'),\n",
       " (3216,\n",
       "  '-0.05653808265924454, -0.35235628485679626, 0.08313878625631332, 0.18146227300167084, -0.019598711282014847, -0.2482142597436905, 0.24812249839305878, 0.46629899740219116, 0.031117470934987068, -0.16378995776176453, 0.4298039674758911, 0.19667910039424896, 0.17372800409793854, 0.0339399017393589, -0.12310059368610382, 0.202755868434906, -0.0004190142499282956, -0.07486658543348312, 0.0375189334154129, -0.1913677304983139, 0.10754711180925369, -0.08417411893606186, -0.22473812103271484, 0.12062917649745941, -0.15027259290218353, -0.6807897090911865, 0.40256404876708984, -0.16487117111682892, 0.24471594393253326, -0.0521283783018589, -0.08779843896627426, -0.08973953127861023, -0.09199758619070053, -0.20286622643470764, 0.054734762758016586, 0.09015026688575745, -0.07007929682731628, -0.3703334629535675, -0.003203170606866479, 0.17612114548683167, 0.3096652328968048, -0.04636933282017708, 0.25240781903266907, 0.0537351556122303, -0.03735274076461792, 0.04845361039042473, 0.003714822232723236, -0.12853652238845825, -0.4632621705532074, -0.09593436121940613')]"
      ]
     },
     "execution_count": 24,
     "metadata": {},
     "output_type": "execute_result"
    }
   ],
   "source": [
    "# trainData.unpersist()\n",
    "# 50 User Features for 5 user\n",
    "model.userFeatures().mapValues(lambda v: \", \".join( map(lambda x: str(x),v) )).take(5)"
   ]
  },
  {
   "cell_type": "code",
   "execution_count": 25,
   "metadata": {},
   "outputs": [
    {
     "data": {
      "text/plain": [
       "[Rating(user=2093760, product=1034510, rating=0.3586525179541827),\n",
       " Rating(user=2093760, product=1008936, rating=0.3566350381522592),\n",
       " Rating(user=2093760, product=2000819, rating=0.3524946926006159),\n",
       " Rating(user=2093760, product=1300642, rating=0.3517005280211512),\n",
       " Rating(user=2093760, product=942, rating=0.35013897434053154)]"
      ]
     },
     "execution_count": 25,
     "metadata": {},
     "output_type": "execute_result"
    }
   ],
   "source": [
    "userID = 2093760 # we named this user Sara\n",
    "recommendations = model.recommendProducts(userID, 5)\n",
    "\n",
    "recommendations"
   ]
  },
  {
   "cell_type": "code",
   "execution_count": 26,
   "metadata": {},
   "outputs": [],
   "source": [
    "recommended_list = [1001819, 1003249, 1300642, 1007614, 892]"
   ]
  },
  {
   "cell_type": "code",
   "execution_count": 27,
   "metadata": {},
   "outputs": [
    {
     "data": {
      "text/plain": [
       "[(1007614, 'Jay-Z'),\n",
       " (1003249, 'Ludacris'),\n",
       " (1001819, '2Pac'),\n",
       " (892, 'Williams Traffic'),\n",
       " (1300642, 'The Game')]"
      ]
     },
     "execution_count": 27,
     "metadata": {},
     "output_type": "execute_result"
    }
   ],
   "source": [
    "recommendedArtists = artistByID.filter(lambda artist: artist[0] in recommended_list).collect()\n",
    "\n",
    "recommendedArtists"
   ]
  },
  {
   "cell_type": "markdown",
   "metadata": {},
   "source": [
    "#### Let's see what artist are Sara prefer"
   ]
  },
  {
   "cell_type": "code",
   "execution_count": 28,
   "metadata": {},
   "outputs": [],
   "source": [
    "rawArtistsForUser = rawUserArtistData.map(lambda x: x.split(' '))\\\n",
    "                                     .filter(lambda x: int(x[0]) == userID)"
   ]
  },
  {
   "cell_type": "code",
   "execution_count": 29,
   "metadata": {},
   "outputs": [
    {
     "data": {
      "text/plain": [
       "[1180, 1255340, 378, 813, 942]"
      ]
     },
     "execution_count": 29,
     "metadata": {},
     "output_type": "execute_result"
    }
   ],
   "source": [
    "existingProducts = rawArtistsForUser.map(lambda x: int(x[1])).collect()\n",
    "existingProducts"
   ]
  },
  {
   "cell_type": "code",
   "execution_count": 30,
   "metadata": {},
   "outputs": [
    {
     "name": "stdout",
     "output_type": "stream",
     "text": [
      "Sara prefers:\n",
      "(1180, 'David Gray')\n",
      "(378, 'Blackalicious')\n",
      "(813, 'Jurassic 5')\n",
      "(1255340, 'The Saw Doctors')\n",
      "(942, 'Xzibit')\n"
     ]
    }
   ],
   "source": [
    "existingArtists = artistByID.filter(lambda artist: artist[0] in existingProducts).collect()\n",
    "print('Sara prefers:')\n",
    "for val in existingArtists:\n",
    "    print(val)\n",
    "    "
   ]
  },
  {
   "cell_type": "markdown",
   "metadata": {},
   "source": [
    "#### Next step we need to analyze what relationship between existingArtists and recommened Artist."
   ]
  },
  {
   "cell_type": "code",
   "execution_count": 31,
   "metadata": {},
   "outputs": [],
   "source": [
    "'''----------------------------------------High level API---------------------------------------'''\n",
    "'''Convert RDD(pipeline) to Spark-DF'''\n",
    "from  pyspark.sql.types import Row\n",
    "\n",
    "def f(x):\n",
    "    d = {}\n",
    "    for i in range(len(x)):\n",
    "        d[str(i)] = x[i]\n",
    "    return d\n",
    "\n",
    "# EX\n",
    "# seq = [['a','b','c'],\n",
    "#        ['d','e','f'] ]\n",
    "# print( f(seq) )\n",
    "# print( Row(**f(seq)) )"
   ]
  },
  {
   "cell_type": "code",
   "execution_count": 32,
   "metadata": {},
   "outputs": [],
   "source": [
    "def buildCount(rawUserArtistData, bArtistAlias):\n",
    "    \n",
    "    def getArtistCount(line):\n",
    "        (userID, artistID, count) = map(lambda x: int(x), line.split(' '))    \n",
    "        try:\n",
    "            CorrectArtistID = bArtistAlias.value[artistID] # to map bad artist id to good artist id\n",
    "        except KeyError:\n",
    "            CorrectArtistID = artistID\n",
    "        return (userID, CorrectArtistID, count)\n",
    "\n",
    "    return rawUserArtistData.map(lambda line: getArtistCount(line))"
   ]
  },
  {
   "cell_type": "code",
   "execution_count": 33,
   "metadata": {},
   "outputs": [],
   "source": [
    "# sc.broadcast use to spread parameter to all excecutor\n",
    "# After we apply sc.broadcast, we can use .value method to see the dict value.\n",
    "bArtistAlias = sc.broadcast(new_AA)\n",
    "# bArtistAlias.value[1092764]\n",
    "trainData_HLV = buildCount(UAD, bArtistAlias)"
   ]
  },
  {
   "cell_type": "code",
   "execution_count": 34,
   "metadata": {},
   "outputs": [
    {
     "name": "stdout",
     "output_type": "stream",
     "text": [
      "+---------+--------------------+\n",
      "|artist_id|         artist_name|\n",
      "+---------+--------------------+\n",
      "|  1134999|        06Crazy Life|\n",
      "|  6821360|        Pang Nakarin|\n",
      "| 10113088|Terfel, Bartoli- ...|\n",
      "| 10151459| The Flaming Sidebur|\n",
      "|  6826647|   Bodenstandig 3000|\n",
      "+---------+--------------------+\n",
      "only showing top 5 rows\n",
      "\n"
     ]
    }
   ],
   "source": [
    "new_AD_df = new_AD.map(lambda x: Row(**f(x))).toDF()\n",
    "mapping = dict(zip(['0', '1'], ['artist_id', 'artist_name']))\n",
    "new_AD_df = new_AD_df.select([F.col(c).alias(mapping.get(c)) for c in new_AD_df.columns])\n",
    "\n",
    "new_AD_df.show(5)"
   ]
  },
  {
   "cell_type": "code",
   "execution_count": 35,
   "metadata": {},
   "outputs": [
    {
     "name": "stdout",
     "output_type": "stream",
     "text": [
      "+-------+---------+---------+\n",
      "|user_id|artist_id|playcount|\n",
      "+-------+---------+---------+\n",
      "|1000002|        1|       55|\n",
      "|1000002|  1000006|       33|\n",
      "|1000002|  1000007|        8|\n",
      "|1000002|  1000009|      144|\n",
      "|1000002|  1000010|      314|\n",
      "+-------+---------+---------+\n",
      "only showing top 5 rows\n",
      "\n"
     ]
    }
   ],
   "source": [
    "trainData_df = trainData_HLV.map(lambda x: Row(**f(x))).toDF()\n",
    "mapping = dict(zip(['0', '1', '2'], ['user_id', 'artist_id', 'playcount']))\n",
    "trainData_df = trainData_df.select([F.col(c).alias(mapping.get(c)) for c in trainData_df.columns]) # get 0,1,2 as Keys\n",
    "\n",
    "trainData_df.show(5)"
   ]
  },
  {
   "cell_type": "markdown",
   "metadata": {},
   "source": [
    "## The ALS Model in Spark contains the following helpful methods:\n",
    "\n",
    "#### recommendForAllItems(int numUsers)\n",
    "Returns top numUsers users recommended for each item, for all items.\n",
    "\n",
    "#### recommendForAllUsers(int numItems)\n",
    "Returns top numItems items recommended for each user, for all users.\n",
    "\n",
    "#### recommendForItemSubset(Dataset<?> dataset, int numUsers)\n",
    "Returns top numUsers users recommended for each item id in the input data set.\n",
    "\n",
    "#### recommendForUserSubset(Dataset<?> dataset, int numItems)\n",
    "Returns top numItems items recommended for each user id in the input data set."
   ]
  },
  {
   "cell_type": "code",
   "execution_count": 36,
   "metadata": {},
   "outputs": [],
   "source": [
    "userID = 2093760\n",
    "from pyspark.ml.evaluation import RegressionEvaluator\n",
    "from pyspark.ml.recommendation import ALS\n",
    "\n",
    "model = ALS(implicitPrefs=True,\n",
    "            rank=50,\n",
    "            regParam=0.01, \n",
    "            alpha=40.0,\n",
    "            maxIter=10,\n",
    "            userCol=\"user_id\", \n",
    "            itemCol=\"artist_id\", \n",
    "            ratingCol=\"playcount\")\n",
    "\n",
    "# rank = number of features.\n",
    "\n",
    "# # OR\n",
    "# model = ALS()\n",
    "# (alsEstimator.setRank(10)\n",
    "#   .setUserCol(\"userid\")\n",
    "#   .setItemCol(\"artistid\")\n",
    "#   .setRatingCol(\"playcount\")\n",
    "#   .setMaxIter(5))"
   ]
  },
  {
   "cell_type": "code",
   "execution_count": 37,
   "metadata": {},
   "outputs": [],
   "source": [
    "model_fit = model.fit(trainData_df)"
   ]
  },
  {
   "cell_type": "code",
   "execution_count": 38,
   "metadata": {},
   "outputs": [
    {
     "name": "stdout",
     "output_type": "stream",
     "text": [
      "+-------+---------+---------+\n",
      "|user_id|artist_id|playcount|\n",
      "+-------+---------+---------+\n",
      "|2093760|     1180|        1|\n",
      "|2093760|  1255340|        3|\n",
      "|2093760|      378|        1|\n",
      "|2093760|      813|        2|\n",
      "|2093760|      942|        7|\n",
      "+-------+---------+---------+\n",
      "\n"
     ]
    }
   ],
   "source": [
    "# What Sara have been listened\n",
    "trainData_df.filter(trainData_df['user_id'] == userID).show()"
   ]
  },
  {
   "cell_type": "code",
   "execution_count": 39,
   "metadata": {},
   "outputs": [
    {
     "name": "stdout",
     "output_type": "stream",
     "text": [
      "+---+----------------------------------------------------------------------------------------------------------------------------------------------------------------------------------------------------------------------------------------------------------------------------------------------------------------------------------------------------------------------------------------------------------------------------------------------------------------------------------------------------------------------------------------------------------------------------------------------------------------------------------------------------+\n",
      "|id |features                                                                                                                                                                                                                                                                                                                                                                                                                                                                                                                                                                                                                                            |\n",
      "+---+----------------------------------------------------------------------------------------------------------------------------------------------------------------------------------------------------------------------------------------------------------------------------------------------------------------------------------------------------------------------------------------------------------------------------------------------------------------------------------------------------------------------------------------------------------------------------------------------------------------------------------------------------+\n",
      "|90 |[-0.04250526, -0.1892952, -0.15257676, 0.28640276, -0.23779795, -0.020732358, -0.22249727, 0.22112824, 0.2802945, -0.072164156, -0.06642858, 0.19114466, -0.2787563, -0.2056805, -0.21098737, -0.11140297, 0.2810952, 0.20095463, -0.13677351, 0.27268982, -0.41303036, -0.227196, 0.24080665, -0.07715228, -0.015267895, -0.070841886, 0.29441065, 0.04000657, 0.21483518, -0.17060687, 0.38557398, -0.09353783, -0.27880096, -0.012592022, -0.01872268, 0.17792389, 0.13239972, -0.06575549, -0.13465689, -0.33960453, 0.21789476, -0.25347295, -0.24299711, -0.40383884, -0.1282405, 0.16130628, -0.52292377, 0.2512495, -0.1251559, -0.30658904]|\n",
      "+---+----------------------------------------------------------------------------------------------------------------------------------------------------------------------------------------------------------------------------------------------------------------------------------------------------------------------------------------------------------------------------------------------------------------------------------------------------------------------------------------------------------------------------------------------------------------------------------------------------------------------------------------------------+\n",
      "only showing top 1 row\n",
      "\n"
     ]
    }
   ],
   "source": [
    "model_fit.userFactors.show(1, truncate=False)"
   ]
  },
  {
   "cell_type": "code",
   "execution_count": 40,
   "metadata": {},
   "outputs": [
    {
     "name": "stdout",
     "output_type": "stream",
     "text": [
      "+-------+\n",
      "|user_id|\n",
      "+-------+\n",
      "|1000061|\n",
      "|1000070|\n",
      "+-------+\n",
      "\n"
     ]
    }
   ],
   "source": [
    "# test\n",
    "trainData_df.select(model.getUserCol()).distinct().limit(2).show()\n",
    "# model.getUserCol() equivalent to trainData_df['user_id']"
   ]
  },
  {
   "cell_type": "code",
   "execution_count": 41,
   "metadata": {},
   "outputs": [],
   "source": [
    "trainData_df.createOrReplaceTempView('trainData_df_SQL')"
   ]
  },
  {
   "cell_type": "code",
   "execution_count": 42,
   "metadata": {},
   "outputs": [],
   "source": [
    "# I prefer this one. It is far better T__T\n",
    "sara = spark.sql('SELECT DISTINCT user_id \\\n",
    "           FROM trainData_df_SQL \\\n",
    "           WHERE user_id = 2093760'\n",
    "         )"
   ]
  },
  {
   "cell_type": "code",
   "execution_count": 43,
   "metadata": {},
   "outputs": [],
   "source": [
    "recom_user = model_fit.recommendForUserSubset(sara, 5)"
   ]
  },
  {
   "cell_type": "code",
   "execution_count": 44,
   "metadata": {},
   "outputs": [
    {
     "name": "stdout",
     "output_type": "stream",
     "text": [
      "+-------+----------------------------------------------------------------------------------------------------------------+\n",
      "|user_id|recommendations                                                                                                 |\n",
      "+-------+----------------------------------------------------------------------------------------------------------------+\n",
      "|2093760|[[1008936, 0.3412131], [1034510, 0.3384863], [1004028, 0.3381605], [1300642, 0.33658555], [2000819, 0.33599353]]|\n",
      "+-------+----------------------------------------------------------------------------------------------------------------+\n",
      "\n"
     ]
    }
   ],
   "source": [
    "recom_user.show(truncate=False)"
   ]
  },
  {
   "cell_type": "code",
   "execution_count": null,
   "metadata": {},
   "outputs": [],
   "source": []
  },
  {
   "cell_type": "code",
   "execution_count": null,
   "metadata": {},
   "outputs": [],
   "source": []
  }
 ],
 "metadata": {
  "kernelspec": {
   "display_name": "Python 3",
   "language": "python",
   "name": "python3"
  },
  "language_info": {
   "codemirror_mode": {
    "name": "ipython",
    "version": 3
   },
   "file_extension": ".py",
   "mimetype": "text/x-python",
   "name": "python",
   "nbconvert_exporter": "python",
   "pygments_lexer": "ipython3",
   "version": "3.6.8"
  }
 },
 "nbformat": 4,
 "nbformat_minor": 2
}
