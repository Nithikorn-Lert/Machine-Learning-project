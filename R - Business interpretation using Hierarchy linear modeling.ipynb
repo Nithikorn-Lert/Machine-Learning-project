{
 "cells": [
  {
   "cell_type": "markdown",
   "metadata": {},
   "source": [
    "This notebook was created for the purpose of self-studying in Statistics and Business interpretation.\n",
    "\n",
    "\n",
    "REF: \n",
    "\n",
    "\n",
    "[1] R for Marketing Research and Analytics (Use R!) 2015th Edition\n",
    "\n",
    "\n",
    "[2] R - Multilevel Models Lecture (Updated): https://www.youtube.com/watch?v=UvyxSqEXBwc&t=2877s\n",
    "\n",
    "[3] 正規分布に従う2次元データの作り方\n",
    "http://rplus.wb-nahce.info/rsemi_stat_basic/r_nijigendata.html"
   ]
  },
  {
   "cell_type": "markdown",
   "metadata": {},
   "source": [
    "## Hierarchical modeling (HLM) aka. Multilevel modeling\n",
    "Generally when we use linear regression, we can estimate entire sample with one equation. we can call that \"One for all\" However, one for all is not be able to achieve nested data or hierachical data, a data with some sample belong to specific cluster.\n",
    "\n",
    "Actually, there are an assumption before apply HLM algorithm.\n",
    "\n",
    "What HLM can help us?\n",
    "- missing value\n",
    "- Independence # we can model the relationships between cases\n",
    "- Homoscedascity can be ignored in a constrain\n",
    "\n",
    "\n",
    "But our data should meet an asuumptions below.\n",
    "- outliers\n",
    "- multicolinearlity\n",
    "- linearity\n",
    "- homogeineity\n",
    "\n",
    "\n",
    "\n"
   ]
  },
  {
   "cell_type": "code",
   "execution_count": 2,
   "metadata": {},
   "outputs": [],
   "source": [
    "# an example of 3 level Hierarchy\n",
    "\n",
    "#    LEVEL-1     LEVEL-2     LEVEL-3\n",
    "\n",
    "# 15 students ------|\n",
    "#                class1 ------|   \n",
    "#                            school A\n",
    "#                class2 ------|\n",
    "# 20 students ------| \n",
    "\n",
    "\n",
    "# 10 students ------|\n",
    "#                class1 ------|   \n",
    "#                            school B\n",
    "#                class2 ------|\n",
    "# 20 students ------| \n",
    "\n",
    "\n",
    "# 20 students ------|\n",
    "#                class1 ------|   \n",
    "#                            school C\n",
    "#                class2 ------|\n",
    "# 30 students ------| "
   ]
  },
  {
   "cell_type": "code",
   "execution_count": 1,
   "metadata": {},
   "outputs": [],
   "source": [
    "conjoint.df <- read.csv(\"http://goo.gl/G8knGV\")"
   ]
  },
  {
   "cell_type": "code",
   "execution_count": 2,
   "metadata": {},
   "outputs": [
    {
     "data": {
      "text/html": [
       "<ol class=list-inline>\n",
       "\t<li>3200</li>\n",
       "\t<li>6</li>\n",
       "</ol>\n"
      ],
      "text/latex": [
       "\\begin{enumerate*}\n",
       "\\item 3200\n",
       "\\item 6\n",
       "\\end{enumerate*}\n"
      ],
      "text/markdown": [
       "1. 3200\n",
       "2. 6\n",
       "\n",
       "\n"
      ],
      "text/plain": [
       "[1] 3200    6"
      ]
     },
     "metadata": {},
     "output_type": "display_data"
    },
    {
     "data": {
      "text/html": [
       "<table>\n",
       "<thead><tr><th scope=col>resp.id</th><th scope=col>rating</th><th scope=col>speed</th><th scope=col>height</th><th scope=col>const</th><th scope=col>theme</th></tr></thead>\n",
       "<tbody>\n",
       "\t<tr><td>1     </td><td>4     </td><td>40    </td><td>300   </td><td>Steel </td><td>Dragon</td></tr>\n",
       "\t<tr><td>1     </td><td>3     </td><td>50    </td><td>200   </td><td>Wood  </td><td>Dragon</td></tr>\n",
       "\t<tr><td>1     </td><td>5     </td><td>50    </td><td>300   </td><td>Wood  </td><td>Dragon</td></tr>\n",
       "\t<tr><td>1     </td><td>6     </td><td>60    </td><td>300   </td><td>Wood  </td><td>Eagle </td></tr>\n",
       "\t<tr><td>1     </td><td>4     </td><td>60    </td><td>400   </td><td>Wood  </td><td>Eagle </td></tr>\n",
       "\t<tr><td>1     </td><td>4     </td><td>50    </td><td>400   </td><td>Steel </td><td>Eagle </td></tr>\n",
       "</tbody>\n",
       "</table>\n"
      ],
      "text/latex": [
       "\\begin{tabular}{r|llllll}\n",
       " resp.id & rating & speed & height & const & theme\\\\\n",
       "\\hline\n",
       "\t 1      & 4      & 40     & 300    & Steel  & Dragon\\\\\n",
       "\t 1      & 3      & 50     & 200    & Wood   & Dragon\\\\\n",
       "\t 1      & 5      & 50     & 300    & Wood   & Dragon\\\\\n",
       "\t 1      & 6      & 60     & 300    & Wood   & Eagle \\\\\n",
       "\t 1      & 4      & 60     & 400    & Wood   & Eagle \\\\\n",
       "\t 1      & 4      & 50     & 400    & Steel  & Eagle \\\\\n",
       "\\end{tabular}\n"
      ],
      "text/markdown": [
       "\n",
       "| resp.id | rating | speed | height | const | theme |\n",
       "|---|---|---|---|---|---|\n",
       "| 1      | 4      | 40     | 300    | Steel  | Dragon |\n",
       "| 1      | 3      | 50     | 200    | Wood   | Dragon |\n",
       "| 1      | 5      | 50     | 300    | Wood   | Dragon |\n",
       "| 1      | 6      | 60     | 300    | Wood   | Eagle  |\n",
       "| 1      | 4      | 60     | 400    | Wood   | Eagle  |\n",
       "| 1      | 4      | 50     | 400    | Steel  | Eagle  |\n",
       "\n"
      ],
      "text/plain": [
       "  resp.id rating speed height const theme \n",
       "1 1       4      40    300    Steel Dragon\n",
       "2 1       3      50    200    Wood  Dragon\n",
       "3 1       5      50    300    Wood  Dragon\n",
       "4 1       6      60    300    Wood  Eagle \n",
       "5 1       4      60    400    Wood  Eagle \n",
       "6 1       4      50    400    Steel Eagle "
      ]
     },
     "metadata": {},
     "output_type": "display_data"
    }
   ],
   "source": [
    "dim(conjoint.df)\n",
    "head(conjoint.df)"
   ]
  },
  {
   "cell_type": "code",
   "execution_count": 5,
   "metadata": {},
   "outputs": [],
   "source": [
    "# Convert data to Category type\n",
    "\n",
    "conjoint.df$speed <- factor(conjoint.df$speed)\n",
    "conjoint.df$height <- factor(conjoint.df$height)\n",
    "# df[\"speed\"] = df[\"speed\"].astype(\"category\") - Python"
   ]
  },
  {
   "cell_type": "code",
   "execution_count": 6,
   "metadata": {},
   "outputs": [
    {
     "data": {
      "text/html": [
       "<table>\n",
       "<thead><tr><th scope=col>resp.id</th><th scope=col>rating</th><th scope=col>speed</th><th scope=col>height</th><th scope=col>const</th><th scope=col>theme</th></tr></thead>\n",
       "<tbody>\n",
       "\t<tr><td>1     </td><td>4     </td><td>40    </td><td>300   </td><td>Steel </td><td>Dragon</td></tr>\n",
       "\t<tr><td>1     </td><td>3     </td><td>50    </td><td>200   </td><td>Wood  </td><td>Dragon</td></tr>\n",
       "\t<tr><td>1     </td><td>5     </td><td>50    </td><td>300   </td><td>Wood  </td><td>Dragon</td></tr>\n",
       "\t<tr><td>1     </td><td>6     </td><td>60    </td><td>300   </td><td>Wood  </td><td>Eagle </td></tr>\n",
       "\t<tr><td>1     </td><td>4     </td><td>60    </td><td>400   </td><td>Wood  </td><td>Eagle </td></tr>\n",
       "\t<tr><td>1     </td><td>4     </td><td>50    </td><td>400   </td><td>Steel </td><td>Eagle </td></tr>\n",
       "</tbody>\n",
       "</table>\n"
      ],
      "text/latex": [
       "\\begin{tabular}{r|llllll}\n",
       " resp.id & rating & speed & height & const & theme\\\\\n",
       "\\hline\n",
       "\t 1      & 4      & 40     & 300    & Steel  & Dragon\\\\\n",
       "\t 1      & 3      & 50     & 200    & Wood   & Dragon\\\\\n",
       "\t 1      & 5      & 50     & 300    & Wood   & Dragon\\\\\n",
       "\t 1      & 6      & 60     & 300    & Wood   & Eagle \\\\\n",
       "\t 1      & 4      & 60     & 400    & Wood   & Eagle \\\\\n",
       "\t 1      & 4      & 50     & 400    & Steel  & Eagle \\\\\n",
       "\\end{tabular}\n"
      ],
      "text/markdown": [
       "\n",
       "| resp.id | rating | speed | height | const | theme |\n",
       "|---|---|---|---|---|---|\n",
       "| 1      | 4      | 40     | 300    | Steel  | Dragon |\n",
       "| 1      | 3      | 50     | 200    | Wood   | Dragon |\n",
       "| 1      | 5      | 50     | 300    | Wood   | Dragon |\n",
       "| 1      | 6      | 60     | 300    | Wood   | Eagle  |\n",
       "| 1      | 4      | 60     | 400    | Wood   | Eagle  |\n",
       "| 1      | 4      | 50     | 400    | Steel  | Eagle  |\n",
       "\n"
      ],
      "text/plain": [
       "  resp.id rating speed height const theme \n",
       "1 1       4      40    300    Steel Dragon\n",
       "2 1       3      50    200    Wood  Dragon\n",
       "3 1       5      50    300    Wood  Dragon\n",
       "4 1       6      60    300    Wood  Eagle \n",
       "5 1       4      60    400    Wood  Eagle \n",
       "6 1       4      50    400    Steel Eagle "
      ]
     },
     "metadata": {},
     "output_type": "display_data"
    }
   ],
   "source": [
    "head(conjoint.df)"
   ]
  },
  {
   "cell_type": "code",
   "execution_count": 7,
   "metadata": {},
   "outputs": [
    {
     "data": {
      "text/plain": [
       "    resp.id           rating       speed     height       const     \n",
       " Min.   :  1.00   Min.   : 1.000   40: 800   200:1400   Steel:1400  \n",
       " 1st Qu.: 50.75   1st Qu.: 3.000   50:1200   300:1200   Wood :1800  \n",
       " Median :100.50   Median : 5.000   60: 800   400: 600               \n",
       " Mean   :100.50   Mean   : 5.268   70: 400                          \n",
       " 3rd Qu.:150.25   3rd Qu.: 7.000                                    \n",
       " Max.   :200.00   Max.   :10.000                                    \n",
       "    theme     \n",
       " Dragon:1600  \n",
       " Eagle :1600  \n",
       "              \n",
       "              \n",
       "              \n",
       "              "
      ]
     },
     "metadata": {},
     "output_type": "display_data"
    }
   ],
   "source": [
    "summary(conjoint.df)"
   ]
  },
  {
   "cell_type": "code",
   "execution_count": 8,
   "metadata": {},
   "outputs": [],
   "source": [
    "set.seed(44)\n",
    "resp.id <- 1:200 # respondent ids\n",
    "nques <- 16 # number of conjoint ratings per respondent\n",
    "speed <- sample(as.factor(c(\"40\", \"50\", \"60\", \"70\")), size=nques, replace=TRUE)\n",
    "height <- sample(as.factor(c(\"200\", \"300\", \"400\")), size=nques, replace=TRUE)\n",
    "const <- sample(as.factor(c(\"Wood\", \"Steel\")), size= nques, replace=TRUE)\n",
    "theme <- sample(as.factor(c(\"Dragon\", \"Eagle\")), size=nques, replace=TRUE)\n"
   ]
  },
  {
   "cell_type": "code",
   "execution_count": 10,
   "metadata": {},
   "outputs": [],
   "source": [
    "profiles.df <- data.frame(speed, height, const, theme)\n",
    "profiles.model <- model.matrix(~ speed + height + const + theme, \n",
    "                               data=profiles.df)"
   ]
  },
  {
   "cell_type": "code",
   "execution_count": 39,
   "metadata": {},
   "outputs": [
    {
     "name": "stdout",
     "output_type": "stream",
     "text": [
      "package 'car' successfully unpacked and MD5 sums checked\n",
      "\n",
      "The downloaded binary packages are in\n",
      "\tC:\\Users\\user\\AppData\\Local\\Temp\\RtmpgDIO7l\\downloaded_packages\n"
     ]
    },
    {
     "name": "stderr",
     "output_type": "stream",
     "text": [
      "Loading required package: carData\n",
      "Registered S3 methods overwritten by 'car':\n",
      "  method                          from\n",
      "  influence.merMod                lme4\n",
      "  cooks.distance.influence.merMod lme4\n",
      "  dfbeta.influence.merMod         lme4\n",
      "  dfbetas.influence.merMod        lme4\n"
     ]
    }
   ],
   "source": [
    "install.packages(\"car\")\n",
    "library(car)"
   ]
  },
  {
   "cell_type": "code",
   "execution_count": 12,
   "metadata": {},
   "outputs": [
    {
     "data": {
      "text/html": [
       "<table>\n",
       "<thead><tr><th scope=col>(Intercept)</th><th scope=col>speed50</th><th scope=col>speed60</th><th scope=col>speed70</th><th scope=col>height300</th><th scope=col>height400</th><th scope=col>constWood</th><th scope=col>themeEagle</th></tr></thead>\n",
       "<tbody>\n",
       "\t<tr><td>1</td><td>0</td><td>0</td><td>0</td><td>1</td><td>0</td><td>0</td><td>1</td></tr>\n",
       "\t<tr><td>1</td><td>0</td><td>1</td><td>0</td><td>1</td><td>0</td><td>1</td><td>1</td></tr>\n",
       "\t<tr><td>1</td><td>0</td><td>1</td><td>0</td><td>0</td><td>0</td><td>0</td><td>0</td></tr>\n",
       "\t<tr><td>1</td><td>0</td><td>0</td><td>0</td><td>0</td><td>0</td><td>1</td><td>0</td></tr>\n",
       "\t<tr><td>1</td><td>1</td><td>0</td><td>0</td><td>0</td><td>0</td><td>1</td><td>0</td></tr>\n",
       "\t<tr><td>1</td><td>0</td><td>0</td><td>1</td><td>0</td><td>0</td><td>1</td><td>1</td></tr>\n",
       "</tbody>\n",
       "</table>\n"
      ],
      "text/latex": [
       "\\begin{tabular}{r|llllllll}\n",
       " (Intercept) & speed50 & speed60 & speed70 & height300 & height400 & constWood & themeEagle\\\\\n",
       "\\hline\n",
       "\t 1 & 0 & 0 & 0 & 1 & 0 & 0 & 1\\\\\n",
       "\t 1 & 0 & 1 & 0 & 1 & 0 & 1 & 1\\\\\n",
       "\t 1 & 0 & 1 & 0 & 0 & 0 & 0 & 0\\\\\n",
       "\t 1 & 0 & 0 & 0 & 0 & 0 & 1 & 0\\\\\n",
       "\t 1 & 1 & 0 & 0 & 0 & 0 & 1 & 0\\\\\n",
       "\t 1 & 0 & 0 & 1 & 0 & 0 & 1 & 1\\\\\n",
       "\\end{tabular}\n"
      ],
      "text/markdown": [
       "\n",
       "| (Intercept) | speed50 | speed60 | speed70 | height300 | height400 | constWood | themeEagle |\n",
       "|---|---|---|---|---|---|---|---|\n",
       "| 1 | 0 | 0 | 0 | 1 | 0 | 0 | 1 |\n",
       "| 1 | 0 | 1 | 0 | 1 | 0 | 1 | 1 |\n",
       "| 1 | 0 | 1 | 0 | 0 | 0 | 0 | 0 |\n",
       "| 1 | 0 | 0 | 0 | 0 | 0 | 1 | 0 |\n",
       "| 1 | 1 | 0 | 0 | 0 | 0 | 1 | 0 |\n",
       "| 1 | 0 | 0 | 1 | 0 | 0 | 1 | 1 |\n",
       "\n"
      ],
      "text/plain": [
       "  (Intercept) speed50 speed60 speed70 height300 height400 constWood themeEagle\n",
       "1 1           0       0       0       1         0         0         1         \n",
       "2 1           0       1       0       1         0         1         1         \n",
       "3 1           0       1       0       0         0         0         0         \n",
       "4 1           0       0       0       0         0         1         0         \n",
       "5 1           1       0       0       0         0         1         0         \n",
       "6 1           0       0       1       0         0         1         1         "
      ]
     },
     "metadata": {},
     "output_type": "display_data"
    }
   ],
   "source": [
    "# like multiple one hot encoder\n",
    "head(profiles.model)"
   ]
  },
  {
   "cell_type": "markdown",
   "metadata": {},
   "source": [
    "generate 2 dim data with mvrnorm package.\n",
    "\n",
    "2次元データを生成する関数はmvrnorm関数です。\n",
    "\n",
    "mvrnorm is the same method random number of normal distribution with rmorm function. The difference is 2 dimension (multivariate).\n",
    "\n",
    "正規乱数を生成するrnorm関数と同じように 2次元正規乱数を生成することができます。\n",
    "\n",
    "mvrnorm function use x and y variables ti specify mean and variance. mvrnorm関数は正規分布に従う2つの変数 x,y の平均値と分散共分散行列を入力して使います。"
   ]
  },
  {
   "cell_type": "code",
   "execution_count": 13,
   "metadata": {},
   "outputs": [
    {
     "name": "stderr",
     "output_type": "stream",
     "text": [
      "Your code contains a unicode char which cannot be displayed in your\n",
      "current locale and R will silently convert it to an escaped form when the\n",
      "R kernel executes this code. This can lead to subtle errors if you use\n",
      "such chars to do comparisons. For more information, please see\n",
      "https://github.com/IRkernel/repr/wiki/Problems-with-unicode-on-windows"
     ]
    },
    {
     "data": {
      "text/html": [
       "<table>\n",
       "<tbody>\n",
       "\t<tr><td>-3.713408 </td><td>0.9793009 </td><td>0.9423120 </td><td>2.888068  </td><td>1.395761  </td><td>0.7549029 </td><td>-1.0566552</td><td> 1.1918403</td></tr>\n",
       "\t<tr><td>-2.713566 </td><td>0.4172382 </td><td>0.4180759 </td><td>3.246932  </td><td>2.227186  </td><td>1.0977038 </td><td>-0.2194549</td><td>-2.4560941</td></tr>\n",
       "\t<tr><td>-2.444209 </td><td>0.7217000 </td><td>0.6178697 </td><td>3.096627  </td><td>2.005271  </td><td>0.6465408 </td><td>-0.6294841</td><td>-0.6445815</td></tr>\n",
       "\t<tr><td>-2.408146 </td><td>0.1857450 </td><td>1.0120016 </td><td>3.246196  </td><td>1.817452  </td><td>1.4886598 </td><td> 0.7193423</td><td>-0.4996718</td></tr>\n",
       "\t<tr><td>-3.046289 </td><td>0.6693013 </td><td>1.2576259 </td><td>2.737194  </td><td>1.520247  </td><td>0.9623886 </td><td> 0.3444106</td><td>-1.5388488</td></tr>\n",
       "\t<tr><td>-3.269573 </td><td>0.3994923 </td><td>1.2164286 </td><td>3.009205  </td><td>2.079545  </td><td>0.2153481 </td><td> 1.3327362</td><td> 1.5820937</td></tr>\n",
       "</tbody>\n",
       "</table>\n"
      ],
      "text/latex": [
       "\\begin{tabular}{llllllll}\n",
       "\t -3.713408  & 0.9793009  & 0.9423120  & 2.888068   & 1.395761   & 0.7549029  & -1.0566552 &  1.1918403\\\\\n",
       "\t -2.713566  & 0.4172382  & 0.4180759  & 3.246932   & 2.227186   & 1.0977038  & -0.2194549 & -2.4560941\\\\\n",
       "\t -2.444209  & 0.7217000  & 0.6178697  & 3.096627   & 2.005271   & 0.6465408  & -0.6294841 & -0.6445815\\\\\n",
       "\t -2.408146  & 0.1857450  & 1.0120016  & 3.246196   & 1.817452   & 1.4886598  &  0.7193423 & -0.4996718\\\\\n",
       "\t -3.046289  & 0.6693013  & 1.2576259  & 2.737194   & 1.520247   & 0.9623886  &  0.3444106 & -1.5388488\\\\\n",
       "\t -3.269573  & 0.3994923  & 1.2164286  & 3.009205   & 2.079545   & 0.2153481  &  1.3327362 &  1.5820937\\\\\n",
       "\\end{tabular}\n"
      ],
      "text/markdown": [
       "\n",
       "| -3.713408  | 0.9793009  | 0.9423120  | 2.888068   | 1.395761   | 0.7549029  | -1.0566552 |  1.1918403 |\n",
       "| -2.713566  | 0.4172382  | 0.4180759  | 3.246932   | 2.227186   | 1.0977038  | -0.2194549 | -2.4560941 |\n",
       "| -2.444209  | 0.7217000  | 0.6178697  | 3.096627   | 2.005271   | 0.6465408  | -0.6294841 | -0.6445815 |\n",
       "| -2.408146  | 0.1857450  | 1.0120016  | 3.246196   | 1.817452   | 1.4886598  |  0.7193423 | -0.4996718 |\n",
       "| -3.046289  | 0.6693013  | 1.2576259  | 2.737194   | 1.520247   | 0.9623886  |  0.3444106 | -1.5388488 |\n",
       "| -3.269573  | 0.3994923  | 1.2164286  | 3.009205   | 2.079545   | 0.2153481  |  1.3327362 |  1.5820937 |\n",
       "\n"
      ],
      "text/plain": [
       "     [,1]      [,2]      [,3]      [,4]     [,5]     [,6]      [,7]      \n",
       "[1,] -3.713408 0.9793009 0.9423120 2.888068 1.395761 0.7549029 -1.0566552\n",
       "[2,] -2.713566 0.4172382 0.4180759 3.246932 2.227186 1.0977038 -0.2194549\n",
       "[3,] -2.444209 0.7217000 0.6178697 3.096627 2.005271 0.6465408 -0.6294841\n",
       "[4,] -2.408146 0.1857450 1.0120016 3.246196 1.817452 1.4886598  0.7193423\n",
       "[5,] -3.046289 0.6693013 1.2576259 2.737194 1.520247 0.9623886  0.3444106\n",
       "[6,] -3.269573 0.3994923 1.2164286 3.009205 2.079545 0.2153481  1.3327362\n",
       "     [,8]      \n",
       "[1,]  1.1918403\n",
       "[2,] -2.4560941\n",
       "[3,] -0.6445815\n",
       "[4,] -0.4996718\n",
       "[5,] -1.5388488\n",
       "[6,]  1.5820937"
      ]
     },
     "metadata": {},
     "output_type": "display_data"
    }
   ],
   "source": [
    "# draw a unique preference weight\n",
    "\n",
    "#----------------------- Example ----------------------------\n",
    "# library(MASS)　　　　　　　　　　　　　 # MASSパッケージの読込\n",
    "# Mu <- c(20, 30)　　　　　　　　　　　　 # 平均値ベクタ\n",
    "# Sig <- matrix(c(1, 2, 3, 4), ncol=2) 　# 分散共分散行列\n",
    "# dat <- mvrnorm(5, Mu, Sig)　　　　　　 # データの生成\n",
    "# ------------------------------------------------------------\n",
    "\n",
    "# install.packages(\"MASS\")\n",
    "library(MASS)\n",
    "mu = c(-3, 0.5, 1, 3, 2, 1, 0, -0.5)\n",
    "sigma = diag(c(0.2, 0.1, 0.1, 0.1, 0.2, 0.3, 1, 1))\n",
    "weight <- mvrnorm(length(resp.id), mu, sigma)\n",
    "\n",
    "head(weight)\n",
    "\n",
    "\n",
    "# library(MASS)     # a standard library in R\n",
    "# weights <- mvrnorm(length(resp.id), \n",
    "#                    mu=c(-3, 0.5, 1, 3, 2, 1, 0, -0.5),\n",
    "#                    Sigma=diag(c(0.2, 0.1, 0.1, 0.1, 0.2, 0.3, 1, 1)))"
   ]
  },
  {
   "cell_type": "code",
   "execution_count": 14,
   "metadata": {},
   "outputs": [],
   "source": [
    "library(MASS)     # a standard library in R\n",
    "weights <- mvrnorm(length(resp.id), \n",
    "                   mu=c(-3, 0.5, 1, 3, 2, 1, 0, -0.5),\n",
    "                   Sigma=diag(c(0.2, 0.1, 0.1, 0.1, 0.2, 0.3, 1, 1)))"
   ]
  },
  {
   "cell_type": "code",
   "execution_count": 15,
   "metadata": {},
   "outputs": [],
   "source": [
    "conjoint.df <- NULL\n",
    "for (i in seq_along(resp.id)) {\n",
    "  # create one respondent's ratings of the 16 items, plus error\n",
    "  utility <- profiles.model %*% weights[i, ] + rnorm(nques)  # preference\n",
    "  rating <- as.numeric(cut(utility, 10))   # put on a 10-point scale\n",
    "  conjoint.resp <- cbind(resp.id=rep(i, nques), rating, profiles.df)\n",
    "  # and add that respondent to the total data set\n",
    "  conjoint.df <- rbind(conjoint.df, conjoint.resp)\n",
    "} "
   ]
  },
  {
   "cell_type": "code",
   "execution_count": 16,
   "metadata": {},
   "outputs": [
    {
     "data": {
      "text/plain": [
       "    resp.id           rating       speed     height       const     \n",
       " Min.   :  1.00   Min.   : 1.000   40:1200   200:1800   Steel:1400  \n",
       " 1st Qu.: 50.75   1st Qu.: 3.000   50: 600   300:1000   Wood :1800  \n",
       " Median :100.50   Median : 4.000   60: 800   400: 400               \n",
       " Mean   :100.50   Mean   : 4.749   70: 600                          \n",
       " 3rd Qu.:150.25   3rd Qu.: 6.000                                    \n",
       " Max.   :200.00   Max.   :10.000                                    \n",
       "    theme     \n",
       " Dragon:1000  \n",
       " Eagle :2200  \n",
       "              \n",
       "              \n",
       "              \n",
       "              "
      ]
     },
     "metadata": {},
     "output_type": "display_data"
    }
   ],
   "source": [
    "summary(conjoint.df)"
   ]
  },
  {
   "cell_type": "markdown",
   "metadata": {},
   "source": [
    "### Fixed effect (sample level estimation, overall estimation)"
   ]
  },
  {
   "cell_type": "code",
   "execution_count": 17,
   "metadata": {},
   "outputs": [
    {
     "data": {
      "text/plain": [
       "conjoint.df$height: 200\n",
       "[1] 4.025\n",
       "------------------------------------------------------------ \n",
       "conjoint.df$height: 300\n",
       "[1] 6.471\n",
       "------------------------------------------------------------ \n",
       "conjoint.df$height: 400\n",
       "[1] 3.7"
      ]
     },
     "metadata": {},
     "output_type": "display_data"
    },
    {
     "data": {
      "text/plain": [
       "conjoint.df$speed: 40\n",
       "[1] 3.765833\n",
       "------------------------------------------------------------ \n",
       "conjoint.df$speed: 50\n",
       "[1] 3.123333\n",
       "------------------------------------------------------------ \n",
       "conjoint.df$speed: 60\n",
       "[1] 5.17375\n",
       "------------------------------------------------------------ \n",
       "conjoint.df$speed: 70\n",
       "[1] 7.773333"
      ]
     },
     "metadata": {},
     "output_type": "display_data"
    },
    {
     "data": {
      "text/plain": [
       "conjoint.df$const: Steel\n",
       "[1] 4.902143\n",
       "------------------------------------------------------------ \n",
       "conjoint.df$const: Wood\n",
       "[1] 4.629444"
      ]
     },
     "metadata": {},
     "output_type": "display_data"
    },
    {
     "data": {
      "text/plain": [
       "conjoint.df$theme: Dragon\n",
       "[1] 5.582\n",
       "------------------------------------------------------------ \n",
       "conjoint.df$theme: Eagle\n",
       "[1] 4.37"
      ]
     },
     "metadata": {},
     "output_type": "display_data"
    }
   ],
   "source": [
    "by(conjoint.df$rating, conjoint.df$height, mean)\n",
    "by(conjoint.df$rating, conjoint.df$speed, mean)\n",
    "by(conjoint.df$rating, conjoint.df$const, mean)\n",
    "by(conjoint.df$rating, conjoint.df$theme, mean)"
   ]
  },
  {
   "cell_type": "markdown",
   "metadata": {},
   "source": [
    "Respondents prefer\n",
    "- 300 feet height\n",
    "- speed at 70 mph\n",
    "- Steel material\n",
    "- Dragon theme"
   ]
  },
  {
   "cell_type": "code",
   "execution_count": 18,
   "metadata": {},
   "outputs": [
    {
     "data": {
      "text/plain": [
       "\n",
       "Call:\n",
       "lm(formula = rating ~ speed + height + const + theme, data = conjoint.df)\n",
       "\n",
       "Residuals:\n",
       "    Min      1Q  Median      3Q     Max \n",
       "-5.3187 -1.3302  0.0419  1.1217  6.3982 \n",
       "\n",
       "Coefficients:\n",
       "            Estimate Std. Error t value Pr(>|t|)    \n",
       "(Intercept)  3.01264    0.10198  29.541  < 2e-16 ***\n",
       "speed50      0.60066    0.10886   5.518 3.71e-08 ***\n",
       "speed60      1.37211    0.09495  14.450  < 2e-16 ***\n",
       "speed70      4.11990    0.10626  38.772  < 2e-16 ***\n",
       "height300    2.66888    0.08314  32.099  < 2e-16 ***\n",
       "height400    1.42232    0.13014  10.929  < 2e-16 ***\n",
       "constWood   -0.01155    0.07528  -0.153    0.878    \n",
       "themeEagle  -0.72340    0.08082  -8.951  < 2e-16 ***\n",
       "---\n",
       "Signif. codes:  0 '***' 0.001 '**' 0.01 '*' 0.05 '.' 0.1 ' ' 1\n",
       "\n",
       "Residual standard error: 1.861 on 3192 degrees of freedom\n",
       "Multiple R-squared:  0.5196,\tAdjusted R-squared:  0.5186 \n",
       "F-statistic: 493.2 on 7 and 3192 DF,  p-value: < 2.2e-16\n"
      ]
     },
     "metadata": {},
     "output_type": "display_data"
    }
   ],
   "source": [
    "ride.lm <- lm(rating ~ speed + height + const + theme, data=conjoint.df)\n",
    "summary(ride.lm)"
   ]
  },
  {
   "cell_type": "markdown",
   "metadata": {},
   "source": [
    "The coefficientd indicate the association with preference to rating\n",
    "Respondents prefer\n",
    "- 300 feet height\n",
    "- speed at 70 mph\n",
    "- Steel material due to wood is negative coeff\n",
    "- Dragon theme due to negative value of Eagle theme \n",
    "\n",
    "----- FIXED EFFECT -----\n",
    "\n",
    "overall rating of [ Estimate ] column \n",
    "\n",
    "\n",
    "3.01264(intercept) + 4.119(speed70) + 2.66(heigh300) + ... +,\n",
    "\n",
    "-----------------------------------------------------------------------------------#\n",
    "\n",
    "Since the survey is included both of agree and disagree opinion, this make a misunderstanding to our result. Additionally, let concerns coefficient of constWood, are they have strong different preferences ??? If they are truly indifferent. we should  select between steel and wood as a nbasics od cost. => Time to use Hierarchy modeling\n"
   ]
  },
  {
   "cell_type": "markdown",
   "metadata": {},
   "source": [
    "### Random effect (individual level)"
   ]
  },
  {
   "cell_type": "code",
   "execution_count": 19,
   "metadata": {},
   "outputs": [
    {
     "name": "stdout",
     "output_type": "stream",
     "text": [
      "package 'lme4' successfully unpacked and MD5 sums checked\n"
     ]
    },
    {
     "name": "stderr",
     "output_type": "stream",
     "text": [
      "Warning message:\n",
      "\"cannot remove prior installation of package 'lme4'\"Warning message in file.copy(savedcopy, lib, recursive = TRUE):\n",
      "\"problem copying C:\\Users\\user\\Anaconda3\\envs\\r-environment\\Lib\\R\\library\\00LOCK\\lme4\\libs\\x64\\lme4.dll to C:\\Users\\user\\Anaconda3\\envs\\r-environment\\Lib\\R\\library\\lme4\\libs\\x64\\lme4.dll: Permission denied\"Warning message:\n",
      "\"restored 'lme4'\""
     ]
    },
    {
     "name": "stdout",
     "output_type": "stream",
     "text": [
      "\n",
      "The downloaded binary packages are in\n",
      "\tC:\\Users\\user\\AppData\\Local\\Temp\\RtmpgDIO7l\\downloaded_packages\n"
     ]
    }
   ],
   "source": [
    "install.packages(\"lme4\")"
   ]
  },
  {
   "cell_type": "code",
   "execution_count": 20,
   "metadata": {},
   "outputs": [
    {
     "name": "stderr",
     "output_type": "stream",
     "text": [
      "Your code contains a unicode char which cannot be displayed in your\n",
      "current locale and R will silently convert it to an escaped form when the\n",
      "R kernel executes this code. This can lead to subtle errors if you use\n",
      "such chars to do comparisons. For more information, please see\n",
      "https://github.com/IRkernel/repr/wiki/Problems-with-unicode-on-windowsLoading required package: Matrix\n"
     ]
    }
   ],
   "source": [
    "# 0 = HLM with intercept only\n",
    "# model with random intercept by respondent = (1 | resp.id)\n",
    "# lmer: hierarchical estimation\n",
    "# (1 | resp.id) stands for estimation นด a random effect of respondents to an intercept\n",
    "\n",
    "library(lme4)\n",
    "ride.hlm1 <- lmer(rating ~ speed + height + const + theme + (1 | resp.id), data = conjoint.df)"
   ]
  },
  {
   "cell_type": "code",
   "execution_count": 21,
   "metadata": {},
   "outputs": [
    {
     "data": {
      "text/plain": [
       "Linear mixed model fit by REML ['lmerMod']\n",
       "Formula: rating ~ speed + height + const + theme + (1 | resp.id)\n",
       "   Data: conjoint.df\n",
       "\n",
       "REML criterion at convergence: 12941.3\n",
       "\n",
       "Scaled residuals: \n",
       "    Min      1Q  Median      3Q     Max \n",
       "-3.0141 -0.7132 -0.0026  0.6134  3.6704 \n",
       "\n",
       "Random effects:\n",
       " Groups   Name        Variance Std.Dev.\n",
       " resp.id  (Intercept) 0.3509   0.5923  \n",
       " Residual             3.1148   1.7649  \n",
       "Number of obs: 3200, groups:  resp.id, 200\n",
       "\n",
       "Fixed effects:\n",
       "            Estimate Std. Error t value\n",
       "(Intercept)  3.01264    0.10537  28.590\n",
       "speed50      0.60066    0.10321   5.820\n",
       "speed60      1.37211    0.09003  15.241\n",
       "speed70      4.11990    0.10075  40.893\n",
       "height300    2.66888    0.07883  33.855\n",
       "height400    1.42232    0.12339  11.527\n",
       "constWood   -0.01155    0.07138  -0.162\n",
       "themeEagle  -0.72340    0.07662  -9.441\n",
       "\n",
       "Correlation of Fixed Effects:\n",
       "           (Intr) sped50 sped60 sped70 hgh300 hgh400 cnstWd\n",
       "speed50    -0.441                                          \n",
       "speed60    -0.488  0.400                                   \n",
       "speed70    -0.506  0.421  0.411                            \n",
       "height300  -0.257  0.363  0.008  0.050                     \n",
       "height400  -0.193  0.455  0.293  0.312  0.345              \n",
       "constWood  -0.393 -0.096  0.198 -0.090  0.039 -0.288       \n",
       "themeEagle -0.481 -0.038  0.014  0.277 -0.239 -0.253  0.073"
      ]
     },
     "metadata": {},
     "output_type": "display_data"
    }
   ],
   "source": [
    "summary(ride.hlm1)"
   ]
  },
  {
   "cell_type": "code",
   "execution_count": 22,
   "metadata": {},
   "outputs": [
    {
     "data": {
      "text/html": [
       "<dl class=dl-horizontal>\n",
       "\t<dt>(Intercept)</dt>\n",
       "\t\t<dd>3.01263897763575</dd>\n",
       "\t<dt>speed50</dt>\n",
       "\t\t<dd>0.60066453674123</dd>\n",
       "\t<dt>speed60</dt>\n",
       "\t\t<dd>1.37211182108627</dd>\n",
       "\t<dt>speed70</dt>\n",
       "\t\t<dd>4.11990415335465</dd>\n",
       "\t<dt>height300</dt>\n",
       "\t\t<dd>2.66887859424921</dd>\n",
       "\t<dt>height400</dt>\n",
       "\t\t<dd>1.42231629392971</dd>\n",
       "\t<dt>constWood</dt>\n",
       "\t\t<dd>-0.011552715654936</dd>\n",
       "\t<dt>themeEagle</dt>\n",
       "\t\t<dd>-0.723402555910523</dd>\n",
       "</dl>\n"
      ],
      "text/latex": [
       "\\begin{description*}\n",
       "\\item[(Intercept)] 3.01263897763575\n",
       "\\item[speed50] 0.60066453674123\n",
       "\\item[speed60] 1.37211182108627\n",
       "\\item[speed70] 4.11990415335465\n",
       "\\item[height300] 2.66887859424921\n",
       "\\item[height400] 1.42231629392971\n",
       "\\item[constWood] -0.011552715654936\n",
       "\\item[themeEagle] -0.723402555910523\n",
       "\\end{description*}\n"
      ],
      "text/markdown": [
       "(Intercept)\n",
       ":   3.01263897763575speed50\n",
       ":   0.60066453674123speed60\n",
       ":   1.37211182108627speed70\n",
       ":   4.11990415335465height300\n",
       ":   2.66887859424921height400\n",
       ":   1.42231629392971constWood\n",
       ":   -0.011552715654936themeEagle\n",
       ":   -0.723402555910523\n",
       "\n"
      ],
      "text/plain": [
       "(Intercept)     speed50     speed60     speed70   height300   height400 \n",
       " 3.01263898  0.60066454  1.37211182  4.11990415  2.66887859  1.42231629 \n",
       "  constWood  themeEagle \n",
       "-0.01155272 -0.72340256 "
      ]
     },
     "metadata": {},
     "output_type": "display_data"
    },
    {
     "data": {
      "text/html": [
       "<ol class=list-inline>\n",
       "\t<li>200</li>\n",
       "\t<li>1</li>\n",
       "</ol>\n"
      ],
      "text/latex": [
       "\\begin{enumerate*}\n",
       "\\item 200\n",
       "\\item 1\n",
       "\\end{enumerate*}\n"
      ],
      "text/markdown": [
       "1. 200\n",
       "2. 1\n",
       "\n",
       "\n"
      ],
      "text/plain": [
       "[1] 200   1"
      ]
     },
     "metadata": {},
     "output_type": "display_data"
    },
    {
     "data": {
      "text/html": [
       "<table>\n",
       "<thead><tr><th scope=col>(Intercept)</th></tr></thead>\n",
       "<tbody>\n",
       "\t<tr><td> 0.1213945997</td></tr>\n",
       "\t<tr><td>-0.0393929496</td></tr>\n",
       "\t<tr><td>-0.0393929496</td></tr>\n",
       "\t<tr><td> 1.0057261204</td></tr>\n",
       "\t<tr><td> 0.1615914870</td></tr>\n",
       "\t<tr><td> 0.0008039377</td></tr>\n",
       "</tbody>\n",
       "</table>\n"
      ],
      "text/latex": [
       "\\begin{tabular}{r|l}\n",
       " (Intercept)\\\\\n",
       "\\hline\n",
       "\t  0.1213945997\\\\\n",
       "\t -0.0393929496\\\\\n",
       "\t -0.0393929496\\\\\n",
       "\t  1.0057261204\\\\\n",
       "\t  0.1615914870\\\\\n",
       "\t  0.0008039377\\\\\n",
       "\\end{tabular}\n"
      ],
      "text/markdown": [
       "\n",
       "| (Intercept) |\n",
       "|---|\n",
       "|  0.1213945997 |\n",
       "| -0.0393929496 |\n",
       "| -0.0393929496 |\n",
       "|  1.0057261204 |\n",
       "|  0.1615914870 |\n",
       "|  0.0008039377 |\n",
       "\n"
      ],
      "text/plain": [
       "  (Intercept)  \n",
       "1  0.1213945997\n",
       "2 -0.0393929496\n",
       "3 -0.0393929496\n",
       "4  1.0057261204\n",
       "5  0.1615914870\n",
       "6  0.0008039377"
      ]
     },
     "metadata": {},
     "output_type": "display_data"
    }
   ],
   "source": [
    "# fixed effect (overall respondent)\n",
    "fixef(ride.hlm1) \n",
    "\n",
    "# random effect (individual respondent)\n",
    "dim(ranef(ride.hlm1)$resp.id)\n",
    "head(ranef(ride.hlm1)$resp.id)"
   ]
  },
  {
   "cell_type": "code",
   "execution_count": 23,
   "metadata": {},
   "outputs": [
    {
     "data": {
      "text/html": [
       "<ol class=list-inline>\n",
       "\t<li>200</li>\n",
       "\t<li>8</li>\n",
       "</ol>\n"
      ],
      "text/latex": [
       "\\begin{enumerate*}\n",
       "\\item 200\n",
       "\\item 8\n",
       "\\end{enumerate*}\n"
      ],
      "text/markdown": [
       "1. 200\n",
       "2. 8\n",
       "\n",
       "\n"
      ],
      "text/plain": [
       "[1] 200   8"
      ]
     },
     "metadata": {},
     "output_type": "display_data"
    },
    {
     "data": {
      "text/html": [
       "<table>\n",
       "<thead><tr><th scope=col>(Intercept)</th><th scope=col>speed50</th><th scope=col>speed60</th><th scope=col>speed70</th><th scope=col>height300</th><th scope=col>height400</th><th scope=col>constWood</th><th scope=col>themeEagle</th></tr></thead>\n",
       "<tbody>\n",
       "\t<tr><td>3.134034   </td><td>0.6006645  </td><td>1.372112   </td><td>4.119904   </td><td>2.668879   </td><td>1.422316   </td><td>-0.01155272</td><td>-0.7234026 </td></tr>\n",
       "\t<tr><td>2.973246   </td><td>0.6006645  </td><td>1.372112   </td><td>4.119904   </td><td>2.668879   </td><td>1.422316   </td><td>-0.01155272</td><td>-0.7234026 </td></tr>\n",
       "\t<tr><td>2.973246   </td><td>0.6006645  </td><td>1.372112   </td><td>4.119904   </td><td>2.668879   </td><td>1.422316   </td><td>-0.01155272</td><td>-0.7234026 </td></tr>\n",
       "\t<tr><td>4.018365   </td><td>0.6006645  </td><td>1.372112   </td><td>4.119904   </td><td>2.668879   </td><td>1.422316   </td><td>-0.01155272</td><td>-0.7234026 </td></tr>\n",
       "\t<tr><td>3.174230   </td><td>0.6006645  </td><td>1.372112   </td><td>4.119904   </td><td>2.668879   </td><td>1.422316   </td><td>-0.01155272</td><td>-0.7234026 </td></tr>\n",
       "\t<tr><td>3.013443   </td><td>0.6006645  </td><td>1.372112   </td><td>4.119904   </td><td>2.668879   </td><td>1.422316   </td><td>-0.01155272</td><td>-0.7234026 </td></tr>\n",
       "</tbody>\n",
       "</table>\n"
      ],
      "text/latex": [
       "\\begin{tabular}{r|llllllll}\n",
       " (Intercept) & speed50 & speed60 & speed70 & height300 & height400 & constWood & themeEagle\\\\\n",
       "\\hline\n",
       "\t 3.134034    & 0.6006645   & 1.372112    & 4.119904    & 2.668879    & 1.422316    & -0.01155272 & -0.7234026 \\\\\n",
       "\t 2.973246    & 0.6006645   & 1.372112    & 4.119904    & 2.668879    & 1.422316    & -0.01155272 & -0.7234026 \\\\\n",
       "\t 2.973246    & 0.6006645   & 1.372112    & 4.119904    & 2.668879    & 1.422316    & -0.01155272 & -0.7234026 \\\\\n",
       "\t 4.018365    & 0.6006645   & 1.372112    & 4.119904    & 2.668879    & 1.422316    & -0.01155272 & -0.7234026 \\\\\n",
       "\t 3.174230    & 0.6006645   & 1.372112    & 4.119904    & 2.668879    & 1.422316    & -0.01155272 & -0.7234026 \\\\\n",
       "\t 3.013443    & 0.6006645   & 1.372112    & 4.119904    & 2.668879    & 1.422316    & -0.01155272 & -0.7234026 \\\\\n",
       "\\end{tabular}\n"
      ],
      "text/markdown": [
       "\n",
       "| (Intercept) | speed50 | speed60 | speed70 | height300 | height400 | constWood | themeEagle |\n",
       "|---|---|---|---|---|---|---|---|\n",
       "| 3.134034    | 0.6006645   | 1.372112    | 4.119904    | 2.668879    | 1.422316    | -0.01155272 | -0.7234026  |\n",
       "| 2.973246    | 0.6006645   | 1.372112    | 4.119904    | 2.668879    | 1.422316    | -0.01155272 | -0.7234026  |\n",
       "| 2.973246    | 0.6006645   | 1.372112    | 4.119904    | 2.668879    | 1.422316    | -0.01155272 | -0.7234026  |\n",
       "| 4.018365    | 0.6006645   | 1.372112    | 4.119904    | 2.668879    | 1.422316    | -0.01155272 | -0.7234026  |\n",
       "| 3.174230    | 0.6006645   | 1.372112    | 4.119904    | 2.668879    | 1.422316    | -0.01155272 | -0.7234026  |\n",
       "| 3.013443    | 0.6006645   | 1.372112    | 4.119904    | 2.668879    | 1.422316    | -0.01155272 | -0.7234026  |\n",
       "\n"
      ],
      "text/plain": [
       "  (Intercept) speed50   speed60  speed70  height300 height400 constWood  \n",
       "1 3.134034    0.6006645 1.372112 4.119904 2.668879  1.422316  -0.01155272\n",
       "2 2.973246    0.6006645 1.372112 4.119904 2.668879  1.422316  -0.01155272\n",
       "3 2.973246    0.6006645 1.372112 4.119904 2.668879  1.422316  -0.01155272\n",
       "4 4.018365    0.6006645 1.372112 4.119904 2.668879  1.422316  -0.01155272\n",
       "5 3.174230    0.6006645 1.372112 4.119904 2.668879  1.422316  -0.01155272\n",
       "6 3.013443    0.6006645 1.372112 4.119904 2.668879  1.422316  -0.01155272\n",
       "  themeEagle\n",
       "1 -0.7234026\n",
       "2 -0.7234026\n",
       "3 -0.7234026\n",
       "4 -0.7234026\n",
       "5 -0.7234026\n",
       "6 -0.7234026"
      ]
     },
     "metadata": {},
     "output_type": "display_data"
    }
   ],
   "source": [
    "# coeff with mixed effect = Fixed effects(overall respondent) + Random effects(of each respondent)\n",
    "#  Ex. for a second intercept, Coeff with mixed effect = 2.54 = 2.485 + 0.055\n",
    "dim(coef(ride.hlm1)$resp.id)\n",
    "head(coef(ride.hlm1)$resp.id)"
   ]
  },
  {
   "cell_type": "code",
   "execution_count": 24,
   "metadata": {},
   "outputs": [
    {
     "name": "stderr",
     "output_type": "stream",
     "text": [
      "boundary (singular) fit: see ?isSingular\n"
     ]
    }
   ],
   "source": [
    "# Checking a effect of respondent to entire model \n",
    "# To increase an accuracy of our model (like parameter tunning in machine learning), \n",
    "  # we increase an interation of HML by specifying a number of iteration and shoosing a optimization method. \n",
    "\n",
    "ride.hlm2 <- lmer(rating ~ speed + height + const + theme + \n",
    "                  (speed + height + const + theme | resp.id), \n",
    "                  data = conjoint.df, \n",
    "                  control = lmerControl (optCtrl= list(maxfun =1000)))"
   ]
  },
  {
   "cell_type": "code",
   "execution_count": 25,
   "metadata": {},
   "outputs": [
    {
     "data": {
      "text/html": [
       "<dl class=dl-horizontal>\n",
       "\t<dt>(Intercept)</dt>\n",
       "\t\t<dd>3.01263897763594</dd>\n",
       "\t<dt>speed50</dt>\n",
       "\t\t<dd>0.600664536741246</dd>\n",
       "\t<dt>speed60</dt>\n",
       "\t\t<dd>1.37211182108622</dd>\n",
       "\t<dt>speed70</dt>\n",
       "\t\t<dd>4.11990415335457</dd>\n",
       "\t<dt>height300</dt>\n",
       "\t\t<dd>2.66887859424922</dd>\n",
       "\t<dt>height400</dt>\n",
       "\t\t<dd>1.42231629392975</dd>\n",
       "\t<dt>constWood</dt>\n",
       "\t\t<dd>-0.0115527156551595</dd>\n",
       "\t<dt>themeEagle</dt>\n",
       "\t\t<dd>-0.723402555910644</dd>\n",
       "</dl>\n"
      ],
      "text/latex": [
       "\\begin{description*}\n",
       "\\item[(Intercept)] 3.01263897763594\n",
       "\\item[speed50] 0.600664536741246\n",
       "\\item[speed60] 1.37211182108622\n",
       "\\item[speed70] 4.11990415335457\n",
       "\\item[height300] 2.66887859424922\n",
       "\\item[height400] 1.42231629392975\n",
       "\\item[constWood] -0.0115527156551595\n",
       "\\item[themeEagle] -0.723402555910644\n",
       "\\end{description*}\n"
      ],
      "text/markdown": [
       "(Intercept)\n",
       ":   3.01263897763594speed50\n",
       ":   0.600664536741246speed60\n",
       ":   1.37211182108622speed70\n",
       ":   4.11990415335457height300\n",
       ":   2.66887859424922height400\n",
       ":   1.42231629392975constWood\n",
       ":   -0.0115527156551595themeEagle\n",
       ":   -0.723402555910644\n",
       "\n"
      ],
      "text/plain": [
       "(Intercept)     speed50     speed60     speed70   height300   height400 \n",
       " 3.01263898  0.60066454  1.37211182  4.11990415  2.66887859  1.42231629 \n",
       "  constWood  themeEagle \n",
       "-0.01155272 -0.72340256 "
      ]
     },
     "metadata": {},
     "output_type": "display_data"
    },
    {
     "data": {
      "text/html": [
       "<ol class=list-inline>\n",
       "\t<li>200</li>\n",
       "\t<li>8</li>\n",
       "</ol>\n"
      ],
      "text/latex": [
       "\\begin{enumerate*}\n",
       "\\item 200\n",
       "\\item 8\n",
       "\\end{enumerate*}\n"
      ],
      "text/markdown": [
       "1. 200\n",
       "2. 8\n",
       "\n",
       "\n"
      ],
      "text/plain": [
       "[1] 200   8"
      ]
     },
     "metadata": {},
     "output_type": "display_data"
    },
    {
     "data": {
      "text/html": [
       "<table>\n",
       "<thead><tr><th scope=col>(Intercept)</th><th scope=col>speed50</th><th scope=col>speed60</th><th scope=col>speed70</th><th scope=col>height300</th><th scope=col>height400</th><th scope=col>constWood</th><th scope=col>themeEagle</th></tr></thead>\n",
       "<tbody>\n",
       "\t<tr><td> 0.009762053</td><td> 0.172936049</td><td>-0.03623401 </td><td>-0.03585984 </td><td> 0.1119936  </td><td>-0.2846821  </td><td>-0.5601664  </td><td> 0.51305859 </td></tr>\n",
       "\t<tr><td> 0.916336893</td><td> 0.002559828</td><td>-0.22559244 </td><td>-0.62384951 </td><td>-0.1097555  </td><td>-1.1809815  </td><td>-0.3195201  </td><td>-0.77098335 </td></tr>\n",
       "\t<tr><td>-0.894565754</td><td>-0.099757682</td><td>-0.03277686 </td><td> 0.19239842 </td><td> 0.3729035  </td><td>-0.6355823  </td><td> 1.6125366  </td><td>-0.05855913 </td></tr>\n",
       "\t<tr><td> 0.478810155</td><td>-0.624934104</td><td> 0.32824634 </td><td>-0.09911779 </td><td>-0.2040735  </td><td> 0.4189849  </td><td> 0.9781787  </td><td> 0.47087261 </td></tr>\n",
       "\t<tr><td>-0.831253391</td><td> 0.216689744</td><td> 0.14600538 </td><td> 0.50047707 </td><td> 0.2674702  </td><td> 0.2939336  </td><td>-0.4797870  </td><td> 1.43492925 </td></tr>\n",
       "\t<tr><td> 1.005896273</td><td> 0.438508795</td><td> 0.05434604 </td><td>-0.02059809 </td><td>-0.5060188  </td><td> 1.1477632  </td><td>-2.9378605  </td><td> 0.59667503 </td></tr>\n",
       "</tbody>\n",
       "</table>\n"
      ],
      "text/latex": [
       "\\begin{tabular}{r|llllllll}\n",
       " (Intercept) & speed50 & speed60 & speed70 & height300 & height400 & constWood & themeEagle\\\\\n",
       "\\hline\n",
       "\t  0.009762053 &  0.172936049 & -0.03623401  & -0.03585984  &  0.1119936   & -0.2846821   & -0.5601664   &  0.51305859 \\\\\n",
       "\t  0.916336893 &  0.002559828 & -0.22559244  & -0.62384951  & -0.1097555   & -1.1809815   & -0.3195201   & -0.77098335 \\\\\n",
       "\t -0.894565754 & -0.099757682 & -0.03277686  &  0.19239842  &  0.3729035   & -0.6355823   &  1.6125366   & -0.05855913 \\\\\n",
       "\t  0.478810155 & -0.624934104 &  0.32824634  & -0.09911779  & -0.2040735   &  0.4189849   &  0.9781787   &  0.47087261 \\\\\n",
       "\t -0.831253391 &  0.216689744 &  0.14600538  &  0.50047707  &  0.2674702   &  0.2939336   & -0.4797870   &  1.43492925 \\\\\n",
       "\t  1.005896273 &  0.438508795 &  0.05434604  & -0.02059809  & -0.5060188   &  1.1477632   & -2.9378605   &  0.59667503 \\\\\n",
       "\\end{tabular}\n"
      ],
      "text/markdown": [
       "\n",
       "| (Intercept) | speed50 | speed60 | speed70 | height300 | height400 | constWood | themeEagle |\n",
       "|---|---|---|---|---|---|---|---|\n",
       "|  0.009762053 |  0.172936049 | -0.03623401  | -0.03585984  |  0.1119936   | -0.2846821   | -0.5601664   |  0.51305859  |\n",
       "|  0.916336893 |  0.002559828 | -0.22559244  | -0.62384951  | -0.1097555   | -1.1809815   | -0.3195201   | -0.77098335  |\n",
       "| -0.894565754 | -0.099757682 | -0.03277686  |  0.19239842  |  0.3729035   | -0.6355823   |  1.6125366   | -0.05855913  |\n",
       "|  0.478810155 | -0.624934104 |  0.32824634  | -0.09911779  | -0.2040735   |  0.4189849   |  0.9781787   |  0.47087261  |\n",
       "| -0.831253391 |  0.216689744 |  0.14600538  |  0.50047707  |  0.2674702   |  0.2939336   | -0.4797870   |  1.43492925  |\n",
       "|  1.005896273 |  0.438508795 |  0.05434604  | -0.02059809  | -0.5060188   |  1.1477632   | -2.9378605   |  0.59667503  |\n",
       "\n"
      ],
      "text/plain": [
       "  (Intercept)  speed50      speed60     speed70     height300  height400 \n",
       "1  0.009762053  0.172936049 -0.03623401 -0.03585984  0.1119936 -0.2846821\n",
       "2  0.916336893  0.002559828 -0.22559244 -0.62384951 -0.1097555 -1.1809815\n",
       "3 -0.894565754 -0.099757682 -0.03277686  0.19239842  0.3729035 -0.6355823\n",
       "4  0.478810155 -0.624934104  0.32824634 -0.09911779 -0.2040735  0.4189849\n",
       "5 -0.831253391  0.216689744  0.14600538  0.50047707  0.2674702  0.2939336\n",
       "6  1.005896273  0.438508795  0.05434604 -0.02059809 -0.5060188  1.1477632\n",
       "  constWood  themeEagle \n",
       "1 -0.5601664  0.51305859\n",
       "2 -0.3195201 -0.77098335\n",
       "3  1.6125366 -0.05855913\n",
       "4  0.9781787  0.47087261\n",
       "5 -0.4797870  1.43492925\n",
       "6 -2.9378605  0.59667503"
      ]
     },
     "metadata": {},
     "output_type": "display_data"
    }
   ],
   "source": [
    "# fixed effect (overall respondent)\n",
    "fixef(ride.hlm2) \n",
    "\n",
    "# random effect (individual respondent)\n",
    "dim(ranef(ride.hlm2)$resp.id)\n",
    "head(ranef(ride.hlm2)$resp.id)"
   ]
  },
  {
   "cell_type": "code",
   "execution_count": 26,
   "metadata": {},
   "outputs": [
    {
     "data": {
      "text/html": [
       "<table>\n",
       "<thead><tr><th scope=col>(Intercept)</th><th scope=col>speed50</th><th scope=col>speed60</th><th scope=col>speed70</th><th scope=col>height300</th><th scope=col>height400</th><th scope=col>constWood</th><th scope=col>themeEagle</th></tr></thead>\n",
       "<tbody>\n",
       "\t<tr><td>3.022401   </td><td> 0.77360059</td><td>1.335878   </td><td>4.084044   </td><td>2.780872   </td><td>1.1376342  </td><td>-0.5717191 </td><td>-0.2103440 </td></tr>\n",
       "\t<tr><td>3.928976   </td><td> 0.60322437</td><td>1.146519   </td><td>3.496055   </td><td>2.559123   </td><td>0.2413348  </td><td>-0.3310728 </td><td>-1.4943859 </td></tr>\n",
       "\t<tr><td>2.118073   </td><td> 0.50090685</td><td>1.339335   </td><td>4.312303   </td><td>3.041782   </td><td>0.7867340  </td><td> 1.6009838 </td><td>-0.7819617 </td></tr>\n",
       "\t<tr><td>3.491449   </td><td>-0.02426957</td><td>1.700358   </td><td>4.020786   </td><td>2.464805   </td><td>1.8413012  </td><td> 0.9666260 </td><td>-0.2525299 </td></tr>\n",
       "\t<tr><td>2.181386   </td><td> 0.81735428</td><td>1.518117   </td><td>4.620381   </td><td>2.936349   </td><td>1.7162499  </td><td>-0.4913397 </td><td> 0.7115267 </td></tr>\n",
       "\t<tr><td>4.018535   </td><td> 1.03917333</td><td>1.426458   </td><td>4.099306   </td><td>2.162860   </td><td>2.5700795  </td><td>-2.9494132 </td><td>-0.1267275 </td></tr>\n",
       "</tbody>\n",
       "</table>\n"
      ],
      "text/latex": [
       "\\begin{tabular}{r|llllllll}\n",
       " (Intercept) & speed50 & speed60 & speed70 & height300 & height400 & constWood & themeEagle\\\\\n",
       "\\hline\n",
       "\t 3.022401    &  0.77360059 & 1.335878    & 4.084044    & 2.780872    & 1.1376342   & -0.5717191  & -0.2103440 \\\\\n",
       "\t 3.928976    &  0.60322437 & 1.146519    & 3.496055    & 2.559123    & 0.2413348   & -0.3310728  & -1.4943859 \\\\\n",
       "\t 2.118073    &  0.50090685 & 1.339335    & 4.312303    & 3.041782    & 0.7867340   &  1.6009838  & -0.7819617 \\\\\n",
       "\t 3.491449    & -0.02426957 & 1.700358    & 4.020786    & 2.464805    & 1.8413012   &  0.9666260  & -0.2525299 \\\\\n",
       "\t 2.181386    &  0.81735428 & 1.518117    & 4.620381    & 2.936349    & 1.7162499   & -0.4913397  &  0.7115267 \\\\\n",
       "\t 4.018535    &  1.03917333 & 1.426458    & 4.099306    & 2.162860    & 2.5700795   & -2.9494132  & -0.1267275 \\\\\n",
       "\\end{tabular}\n"
      ],
      "text/markdown": [
       "\n",
       "| (Intercept) | speed50 | speed60 | speed70 | height300 | height400 | constWood | themeEagle |\n",
       "|---|---|---|---|---|---|---|---|\n",
       "| 3.022401    |  0.77360059 | 1.335878    | 4.084044    | 2.780872    | 1.1376342   | -0.5717191  | -0.2103440  |\n",
       "| 3.928976    |  0.60322437 | 1.146519    | 3.496055    | 2.559123    | 0.2413348   | -0.3310728  | -1.4943859  |\n",
       "| 2.118073    |  0.50090685 | 1.339335    | 4.312303    | 3.041782    | 0.7867340   |  1.6009838  | -0.7819617  |\n",
       "| 3.491449    | -0.02426957 | 1.700358    | 4.020786    | 2.464805    | 1.8413012   |  0.9666260  | -0.2525299  |\n",
       "| 2.181386    |  0.81735428 | 1.518117    | 4.620381    | 2.936349    | 1.7162499   | -0.4913397  |  0.7115267  |\n",
       "| 4.018535    |  1.03917333 | 1.426458    | 4.099306    | 2.162860    | 2.5700795   | -2.9494132  | -0.1267275  |\n",
       "\n"
      ],
      "text/plain": [
       "  (Intercept) speed50     speed60  speed70  height300 height400 constWood \n",
       "1 3.022401     0.77360059 1.335878 4.084044 2.780872  1.1376342 -0.5717191\n",
       "2 3.928976     0.60322437 1.146519 3.496055 2.559123  0.2413348 -0.3310728\n",
       "3 2.118073     0.50090685 1.339335 4.312303 3.041782  0.7867340  1.6009838\n",
       "4 3.491449    -0.02426957 1.700358 4.020786 2.464805  1.8413012  0.9666260\n",
       "5 2.181386     0.81735428 1.518117 4.620381 2.936349  1.7162499 -0.4913397\n",
       "6 4.018535     1.03917333 1.426458 4.099306 2.162860  2.5700795 -2.9494132\n",
       "  themeEagle\n",
       "1 -0.2103440\n",
       "2 -1.4943859\n",
       "3 -0.7819617\n",
       "4 -0.2525299\n",
       "5  0.7115267\n",
       "6 -0.1267275"
      ]
     },
     "metadata": {},
     "output_type": "display_data"
    }
   ],
   "source": [
    "# coeff with mixed effect = Fixed effects(overall respondent) + Random effects(of individual respondent)\n",
    "head(coef(ride.hlm2)$resp.id)"
   ]
  },
  {
   "cell_type": "code",
   "execution_count": 27,
   "metadata": {},
   "outputs": [
    {
     "data": {
      "text/html": [
       "<table>\n",
       "<thead><tr><th></th><th scope=col>(Intercept)</th><th scope=col>speed50</th><th scope=col>speed60</th><th scope=col>speed70</th><th scope=col>height300</th><th scope=col>height400</th><th scope=col>constWood</th><th scope=col>themeEagle</th></tr></thead>\n",
       "<tbody>\n",
       "\t<tr><th scope=row>6</th><td>4.018535  </td><td>1.039173  </td><td>1.426458  </td><td>4.099306  </td><td>2.16286   </td><td>2.57008   </td><td>-2.949413 </td><td>-0.1267275</td></tr>\n",
       "</tbody>\n",
       "</table>\n"
      ],
      "text/latex": [
       "\\begin{tabular}{r|llllllll}\n",
       "  & (Intercept) & speed50 & speed60 & speed70 & height300 & height400 & constWood & themeEagle\\\\\n",
       "\\hline\n",
       "\t6 & 4.018535   & 1.039173   & 1.426458   & 4.099306   & 2.16286    & 2.57008    & -2.949413  & -0.1267275\\\\\n",
       "\\end{tabular}\n"
      ],
      "text/markdown": [
       "\n",
       "| <!--/--> | (Intercept) | speed50 | speed60 | speed70 | height300 | height400 | constWood | themeEagle |\n",
       "|---|---|---|---|---|---|---|---|---|\n",
       "| 6 | 4.018535   | 1.039173   | 1.426458   | 4.099306   | 2.16286    | 2.57008    | -2.949413  | -0.1267275 |\n",
       "\n"
      ],
      "text/plain": [
       "  (Intercept) speed50  speed60  speed70  height300 height400 constWood\n",
       "6 4.018535    1.039173 1.426458 4.099306 2.16286   2.57008   -2.949413\n",
       "  themeEagle\n",
       "6 -0.1267275"
      ]
     },
     "metadata": {},
     "output_type": "display_data"
    }
   ],
   "source": [
    "# Preference of respondent 6\n",
    "respondent_6 <- 6\n",
    "coef(ride.hlm2)$resp.id[respondent_6, ]"
   ]
  },
  {
   "cell_type": "markdown",
   "metadata": {},
   "source": [
    "Business interpretation: As indicated above, respondent 6 prefers \n",
    "- speed at 70mph\n",
    "- steel construction material (-2.9 for wood means he/she strongly dislikes a wood construction material)\n",
    "- Dragon theme (-0.126 for eagle theme) \n",
    "\n"
   ]
  },
  {
   "cell_type": "code",
   "execution_count": 28,
   "metadata": {
    "scrolled": false
   },
   "outputs": [
    {
     "data": {
      "image/png": "[encoded data removed]",
      "text/plain": [
       "Plot with title \"Histogram of speed70_result\""
      ]
     },
     "metadata": {},
     "output_type": "display_data"
    },
    {
     "data": {
      "image/png": "[encoded data removed]",
      "text/plain": [
       "Plot with title \"Histogram of themeEagle_result\""
      ]
     },
     "metadata": {},
     "output_type": "display_data"
    }
   ],
   "source": [
    "# Let's see the difference across respondents\n",
    "\n",
    "intercept_result <- coef(ride.hlm2) $resp.id[,1]\n",
    "speed50_result <- coef(ride.hlm2) $resp.id $speed50\n",
    "speed60_result <- coef(ride.hlm2) $resp.id $speed60\n",
    "speed70_result <- coef(ride.hlm2) $resp.id $speed70\n",
    "height300_result <- coef(ride.hlm2) $resp.id $height300\n",
    "height400_result <- coef(ride.hlm2) $resp.id $height400\n",
    "constWood_result <- coef(ride.hlm2) $resp.id $constWood\n",
    "themeEagle_result <- coef(ride.hlm2) $resp.id $themeEagle\n",
    "\n",
    "par(mfrow=c(2,2))\n",
    "par(bg=\"gray\") \n",
    "\n",
    "hist(intercept_result, breaks = 10, col=\"skyblue\")\n",
    "hist(speed50_result, breaks = 10, col=\"skyblue\")\n",
    "\n",
    "hist(speed60_result, breaks = 10, col=\"skyblue\")\n",
    "hist(speed70_result, breaks = 10, col=\"skyblue\")\n",
    "\n",
    "hist(height300_result, breaks = 10, col=\"skyblue\")\n",
    "hist(height400_result, breaks = 10, col=\"skyblue\")\n",
    "\n",
    "hist(constWood_result, breaks = 10, col=\"skyblue\")\n",
    "hist(themeEagle_result, breaks = 10, col=\"skyblue\")"
   ]
  },
  {
   "cell_type": "markdown",
   "metadata": {},
   "source": [
    "In conclusion, we have created the individual level modeling to investigate a customer's preference. According to the result, we can use theme to map and group an customer to discover more relationship such as in case of we have respondent information, respondent 1 and 2 are strongly prefer speed 70, high 300 and dislike wood. \n",
    "\n",
    "We can try to discover\n",
    "- Are they the same generation ?\n",
    "- What is the their gender?\n",
    "- foreign or domestic\n",
    "\n",
    "We should add the respondent information section in our survey to map them to ID and discover what is their preference.\n"
   ]
  }
 ],
 "metadata": {
  "kernelspec": {
   "display_name": "R",
   "language": "R",
   "name": "ir"
  },
  "language_info": {
   "codemirror_mode": "r",
   "file_extension": ".r",
   "mimetype": "text/x-r-source",
   "name": "R",
   "pygments_lexer": "r",
   "version": "3.6.1"
  }
 },
 "nbformat": 4,
 "nbformat_minor": 2
}
