{
 "cells": [
  {
   "cell_type": "code",
   "execution_count": 0,
   "metadata": {
    "colab": {},
    "colab_type": "code",
    "id": "VhEf7ESzCN4i"
   },
   "outputs": [],
   "source": [
    "'''\n",
    "REF: Srinivas Duvvuri, Bikramaditya Singhal - Spark for Data Science-Packt Publishing (2016)\n",
    "'''"
   ]
  },
  {
   "cell_type": "code",
   "execution_count": 0,
   "metadata": {
    "colab": {},
    "colab_type": "code",
    "id": "rRIH3g8QP8sf"
   },
   "outputs": [],
   "source": [
    "!apt-get install openjdk-8-jdk-headless -qq > /dev/null\n",
    "!wget -q http://apache.osuosl.org/spark/spark-2.4.3/spark-2.4.3-bin-hadoop2.7.tgz\n",
    "!tar xf spark-2.4.3-bin-hadoop2.7.tgz\n",
    "!pip install -q findspark\n",
    "\n",
    "import os\n",
    "os.environ[\"JAVA_HOME\"] = \"/usr/lib/jvm/java-8-openjdk-amd64\"\n",
    "os.environ[\"SPARK_HOME\"] = \"/content/spark-2.4.3-bin-hadoop2.7\""
   ]
  },
  {
   "cell_type": "code",
   "execution_count": 0,
   "metadata": {
    "colab": {
     "base_uri": "https://localhost:8080/",
     "height": 199
    },
    "colab_type": "code",
    "executionInfo": {
     "elapsed": 31218,
     "status": "ok",
     "timestamp": 1559195425122,
     "user": {
      "displayName": "Nithikorn Lertchanvuth",
      "photoUrl": "",
      "userId": "04129684781089266387"
     },
     "user_tz": -420
    },
    "id": "rX3kHMSuZeSs",
    "outputId": "69d4088c-f884-4316-8b79-ef1b20cd6d54"
   },
   "outputs": [
    {
     "name": "stdout",
     "output_type": "stream",
     "text": [
      "\u001b[?25l\r",
      "\u001b[K     |▎                               | 10kB 9.5MB/s eta 0:00:01\r",
      "\u001b[K     |▋                               | 20kB 2.6MB/s eta 0:00:01\r",
      "\u001b[K     |█                               | 30kB 3.7MB/s eta 0:00:01\r",
      "\u001b[K     |█▎                              | 40kB 2.3MB/s eta 0:00:01\r",
      "\u001b[K     |█▋                              | 51kB 2.8MB/s eta 0:00:01\r",
      "\u001b[K     |██                              | 61kB 3.3MB/s eta 0:00:01\r",
      "\u001b[K     |██▎                             | 71kB 3.8MB/s eta 0:00:01\r",
      "\u001b[K     |██▋                             | 81kB 4.3MB/s eta 0:00:01\r",
      "\u001b[K     |███                             | 92kB 4.8MB/s eta 0:00:01\r",
      "\u001b[K     |███▎                            | 102kB 3.6MB/s eta 0:00:01\r",
      "\u001b[K     |███▋                            | 112kB 3.6MB/s eta 0:00:01\r",
      "\u001b[K     |████                            | 122kB 3.6MB/s eta 0:00:01\r",
      "\u001b[K     |████▎                           | 133kB 3.6MB/s eta 0:00:01\r",
      "\u001b[K     |████▋                           | 143kB 3.6MB/s eta 0:00:01\r",
      "\u001b[K     |█████                           | 153kB 3.6MB/s eta 0:00:01\r",
      "\u001b[K     |█████▎                          | 163kB 3.6MB/s eta 0:00:01\r",
      "\u001b[K     |█████▋                          | 174kB 3.6MB/s eta 0:00:01\r",
      "\u001b[K     |██████                          | 184kB 3.6MB/s eta 0:00:01\r",
      "\u001b[K     |██████▎                         | 194kB 3.6MB/s eta 0:00:01\r",
      "\u001b[K     |██████▋                         | 204kB 3.6MB/s eta 0:00:01\r",
      "\u001b[K     |███████                         | 215kB 3.6MB/s eta 0:00:01\r",
      "\u001b[K     |███████▎                        | 225kB 3.6MB/s eta 0:00:01\r",
      "\u001b[K     |███████▋                        | 235kB 3.6MB/s eta 0:00:01\r",
      "\u001b[K     |████████                        | 245kB 3.6MB/s eta 0:00:01\r",
      "\u001b[K     |████████▎                       | 256kB 3.6MB/s eta 0:00:01\r",
      "\u001b[K     |████████▋                       | 266kB 3.6MB/s eta 0:00:01\r",
      "\u001b[K     |█████████                       | 276kB 3.6MB/s eta 0:00:01\r",
      "\u001b[K     |█████████▎                      | 286kB 3.6MB/s eta 0:00:01\r",
      "\u001b[K     |█████████▋                      | 296kB 3.6MB/s eta 0:00:01\r",
      "\u001b[K     |██████████                      | 307kB 3.6MB/s eta 0:00:01\r",
      "\u001b[K     |██████████▎                     | 317kB 3.6MB/s eta 0:00:01\r",
      "\u001b[K     |██████████▋                     | 327kB 3.6MB/s eta 0:00:01\r",
      "\u001b[K     |███████████                     | 337kB 3.6MB/s eta 0:00:01\r",
      "\u001b[K     |███████████▎                    | 348kB 3.6MB/s eta 0:00:01\r",
      "\u001b[K     |███████████▋                    | 358kB 3.6MB/s eta 0:00:01\r",
      "\u001b[K     |████████████                    | 368kB 3.6MB/s eta 0:00:01\r",
      "\u001b[K     |████████████▎                   | 378kB 3.6MB/s eta 0:00:01\r",
      "\u001b[K     |████████████▋                   | 389kB 3.6MB/s eta 0:00:01\r",
      "\u001b[K     |█████████████                   | 399kB 3.6MB/s eta 0:00:01\r",
      "\u001b[K     |█████████████▎                  | 409kB 3.6MB/s eta 0:00:01\r",
      "\u001b[K     |█████████████▋                  | 419kB 3.6MB/s eta 0:00:01\r",
      "\u001b[K     |██████████████                  | 430kB 3.6MB/s eta 0:00:01\r",
      "\u001b[K     |██████████████▎                 | 440kB 3.6MB/s eta 0:00:01\r",
      "\u001b[K     |██████████████▋                 | 450kB 3.6MB/s eta 0:00:01\r",
      "\u001b[K     |███████████████                 | 460kB 3.6MB/s eta 0:00:01\r",
      "\u001b[K     |███████████████▎                | 471kB 3.6MB/s eta 0:00:01\r",
      "\u001b[K     |███████████████▋                | 481kB 3.6MB/s eta 0:00:01\r",
      "\u001b[K     |████████████████                | 491kB 3.6MB/s eta 0:00:01\r",
      "\u001b[K     |████████████████▎               | 501kB 3.6MB/s eta 0:00:01\r",
      "\u001b[K     |████████████████▋               | 512kB 3.6MB/s eta 0:00:01\r",
      "\u001b[K     |█████████████████               | 522kB 3.6MB/s eta 0:00:01\r",
      "\u001b[K     |█████████████████▎              | 532kB 3.6MB/s eta 0:00:01\r",
      "\u001b[K     |█████████████████▋              | 542kB 3.6MB/s eta 0:00:01\r",
      "\u001b[K     |██████████████████              | 552kB 3.6MB/s eta 0:00:01\r",
      "\u001b[K     |██████████████████▎             | 563kB 3.6MB/s eta 0:00:01\r",
      "\u001b[K     |██████████████████▋             | 573kB 3.6MB/s eta 0:00:01\r",
      "\u001b[K     |███████████████████             | 583kB 3.6MB/s eta 0:00:01\r",
      "\u001b[K     |███████████████████▎            | 593kB 3.6MB/s eta 0:00:01\r",
      "\u001b[K     |███████████████████▋            | 604kB 3.6MB/s eta 0:00:01\r",
      "\u001b[K     |████████████████████            | 614kB 3.6MB/s eta 0:00:01\r",
      "\u001b[K     |████████████████████▎           | 624kB 3.6MB/s eta 0:00:01\r",
      "\u001b[K     |████████████████████▋           | 634kB 3.6MB/s eta 0:00:01\r",
      "\u001b[K     |█████████████████████           | 645kB 3.6MB/s eta 0:00:01\r",
      "\u001b[K     |█████████████████████▎          | 655kB 3.6MB/s eta 0:00:01\r",
      "\u001b[K     |█████████████████████▋          | 665kB 3.6MB/s eta 0:00:01\r",
      "\u001b[K     |██████████████████████          | 675kB 3.6MB/s eta 0:00:01\r",
      "\u001b[K     |██████████████████████▎         | 686kB 3.6MB/s eta 0:00:01\r",
      "\u001b[K     |██████████████████████▋         | 696kB 3.6MB/s eta 0:00:01\r",
      "\u001b[K     |███████████████████████         | 706kB 3.6MB/s eta 0:00:01\r",
      "\u001b[K     |███████████████████████▎        | 716kB 3.6MB/s eta 0:00:01\r",
      "\u001b[K     |███████████████████████▋        | 727kB 3.6MB/s eta 0:00:01\r",
      "\u001b[K     |████████████████████████        | 737kB 3.6MB/s eta 0:00:01\r",
      "\u001b[K     |████████████████████████▎       | 747kB 3.6MB/s eta 0:00:01\r",
      "\u001b[K     |████████████████████████▋       | 757kB 3.6MB/s eta 0:00:01\r",
      "\u001b[K     |████████████████████████▉       | 768kB 3.6MB/s eta 0:00:01\r",
      "\u001b[K     |█████████████████████████▏      | 778kB 3.6MB/s eta 0:00:01\r",
      "\u001b[K     |█████████████████████████▌      | 788kB 3.6MB/s eta 0:00:01\r",
      "\u001b[K     |█████████████████████████▉      | 798kB 3.6MB/s eta 0:00:01\r",
      "\u001b[K     |██████████████████████████▏     | 808kB 3.6MB/s eta 0:00:01\r",
      "\u001b[K     |██████████████████████████▌     | 819kB 3.6MB/s eta 0:00:01\r",
      "\u001b[K     |██████████████████████████▉     | 829kB 3.6MB/s eta 0:00:01\r",
      "\u001b[K     |███████████████████████████▏    | 839kB 3.6MB/s eta 0:00:01\r",
      "\u001b[K     |███████████████████████████▌    | 849kB 3.6MB/s eta 0:00:01\r",
      "\u001b[K     |███████████████████████████▉    | 860kB 3.6MB/s eta 0:00:01\r",
      "\u001b[K     |████████████████████████████▏   | 870kB 3.6MB/s eta 0:00:01\r",
      "\u001b[K     |████████████████████████████▌   | 880kB 3.6MB/s eta 0:00:01\r",
      "\u001b[K     |████████████████████████████▉   | 890kB 3.6MB/s eta 0:00:01\r",
      "\u001b[K     |█████████████████████████████▏  | 901kB 3.6MB/s eta 0:00:01\r",
      "\u001b[K     |█████████████████████████████▌  | 911kB 3.6MB/s eta 0:00:01\r",
      "\u001b[K     |█████████████████████████████▉  | 921kB 3.6MB/s eta 0:00:01\r",
      "\u001b[K     |██████████████████████████████▏ | 931kB 3.6MB/s eta 0:00:01\r",
      "\u001b[K     |██████████████████████████████▌ | 942kB 3.6MB/s eta 0:00:01\r",
      "\u001b[K     |██████████████████████████████▉ | 952kB 3.6MB/s eta 0:00:01\r",
      "\u001b[K     |███████████████████████████████▏| 962kB 3.6MB/s eta 0:00:01\r",
      "\u001b[K     |███████████████████████████████▌| 972kB 3.6MB/s eta 0:00:01\r",
      "\u001b[K     |███████████████████████████████▉| 983kB 3.6MB/s eta 0:00:01\r",
      "\u001b[K     |████████████████████████████████| 993kB 3.6MB/s \n",
      "\u001b[?25h  Building wheel for PyDrive (setup.py) ... \u001b[?25l\u001b[?25hdone\n",
      "\n",
      "WARNING: The TensorFlow contrib module will not be included in TensorFlow 2.0.\n",
      "For more information, please see:\n",
      "  * https://github.com/tensorflow/community/blob/master/rfcs/20180907-contrib-sunset.md\n",
      "  * https://github.com/tensorflow/addons\n",
      "If you depend on functionality not listed there, please file an issue.\n",
      "\n",
      "1l20_0PCVSm_ZTLzWOIT8OAElqE-WXQkV\n"
     ]
    }
   ],
   "source": [
    "# # Code to read csv file into Colaboratory:\n",
    "# !pip install -U -q PyDrive\n",
    "# from pydrive.auth import GoogleAuth\n",
    "# from pydrive.drive import GoogleDrive\n",
    "# from google.colab import auth\n",
    "# from oauth2client.client import GoogleCredentials\n",
    "\n",
    "# # Authenticate and create the PyDrive client.\n",
    "# auth.authenticate_user()\n",
    "# gauth = GoogleAuth()\n",
    "# gauth.credentials = GoogleCredentials.get_application_default()\n",
    "# drive = GoogleDrive(gauth)\n",
    "\n",
    "# link = 'https://drive.google.com/open?id=1l20_0PCVSm_ZTLzWOIT8OAElqE-WXQkV'\n",
    "\n",
    "# fluff, id = link.split('=')\n",
    "# print (id) # Verify that you have everything after '='\n",
    "# downloaded = drive.CreateFile({'id':id}) \n",
    "# downloaded.GetContentFile('carlendar.txt') "
   ]
  },
  {
   "cell_type": "code",
   "execution_count": 0,
   "metadata": {
    "colab": {},
    "colab_type": "code",
    "id": "aQyUg6ryP9-t"
   },
   "outputs": [],
   "source": [
    "import findspark\n",
    "findspark.init()\n",
    "\n",
    "from pyspark.sql import SparkSession\n",
    "# spark = SparkSession.builder.master(\"local[*]\").getOrCreate()"
   ]
  },
  {
   "cell_type": "code",
   "execution_count": 17,
   "metadata": {
    "colab": {
     "base_uri": "https://localhost:8080/",
     "height": 227
    },
    "colab_type": "code",
    "executionInfo": {
     "elapsed": 10018,
     "status": "error",
     "timestamp": 1559635857345,
     "user": {
      "displayName": "Nithikorn Lertchanvuth",
      "photoUrl": "",
      "userId": "04129684781089266387"
     },
     "user_tz": -420
    },
    "id": "jZWHNkT9b-eB",
    "outputId": "8da55adf-518d-48a7-dfda-cc6862417f96"
   },
   "outputs": [
    {
     "ename": "ValueError",
     "evalue": "ignored",
     "output_type": "error",
     "traceback": [
      "\u001b[0;31m---------------------------------------------------------------------------\u001b[0m",
      "\u001b[0;31mValueError\u001b[0m                                Traceback (most recent call last)",
      "\u001b[0;32m<ipython-input-17-14490ac5ac59>\u001b[0m in \u001b[0;36m<module>\u001b[0;34m()\u001b[0m\n\u001b[1;32m      1\u001b[0m \u001b[0;32mimport\u001b[0m \u001b[0mpyspark\u001b[0m \u001b[0;32mas\u001b[0m \u001b[0msp\u001b[0m\u001b[0;34m\u001b[0m\u001b[0;34m\u001b[0m\u001b[0m\n\u001b[0;32m----> 2\u001b[0;31m \u001b[0msc\u001b[0m \u001b[0;34m=\u001b[0m \u001b[0msp\u001b[0m\u001b[0;34m.\u001b[0m\u001b[0mSparkContext\u001b[0m\u001b[0;34m(\u001b[0m\u001b[0mappName\u001b[0m \u001b[0;34m=\u001b[0m \u001b[0;34m'myapp'\u001b[0m\u001b[0;34m)\u001b[0m \u001b[0;31m# Execute SparkContext\u001b[0m\u001b[0;34m\u001b[0m\u001b[0;34m\u001b[0m\u001b[0m\n\u001b[0m",
      "\u001b[0;32m/content/spark-2.4.3-bin-hadoop2.7/python/pyspark/context.py\u001b[0m in \u001b[0;36m__init__\u001b[0;34m(self, master, appName, sparkHome, pyFiles, environment, batchSize, serializer, conf, gateway, jsc, profiler_cls)\u001b[0m\n\u001b[1;32m    131\u001b[0m                     \" note this option will be removed in Spark 3.0\")\n\u001b[1;32m    132\u001b[0m \u001b[0;34m\u001b[0m\u001b[0m\n\u001b[0;32m--> 133\u001b[0;31m         \u001b[0mSparkContext\u001b[0m\u001b[0;34m.\u001b[0m\u001b[0m_ensure_initialized\u001b[0m\u001b[0;34m(\u001b[0m\u001b[0mself\u001b[0m\u001b[0;34m,\u001b[0m \u001b[0mgateway\u001b[0m\u001b[0;34m=\u001b[0m\u001b[0mgateway\u001b[0m\u001b[0;34m,\u001b[0m \u001b[0mconf\u001b[0m\u001b[0;34m=\u001b[0m\u001b[0mconf\u001b[0m\u001b[0;34m)\u001b[0m\u001b[0;34m\u001b[0m\u001b[0;34m\u001b[0m\u001b[0m\n\u001b[0m\u001b[1;32m    134\u001b[0m         \u001b[0;32mtry\u001b[0m\u001b[0;34m:\u001b[0m\u001b[0;34m\u001b[0m\u001b[0;34m\u001b[0m\u001b[0m\n\u001b[1;32m    135\u001b[0m             self._do_init(master, appName, sparkHome, pyFiles, environment, batchSize, serializer,\n",
      "\u001b[0;32m/content/spark-2.4.3-bin-hadoop2.7/python/pyspark/context.py\u001b[0m in \u001b[0;36m_ensure_initialized\u001b[0;34m(cls, instance, gateway, conf)\u001b[0m\n\u001b[1;32m    330\u001b[0m                         \u001b[0;34m\" created by %s at %s:%s \"\u001b[0m\u001b[0;34m\u001b[0m\u001b[0;34m\u001b[0m\u001b[0m\n\u001b[1;32m    331\u001b[0m                         % (currentAppName, currentMaster,\n\u001b[0;32m--> 332\u001b[0;31m                             callsite.function, callsite.file, callsite.linenum))\n\u001b[0m\u001b[1;32m    333\u001b[0m                 \u001b[0;32melse\u001b[0m\u001b[0;34m:\u001b[0m\u001b[0;34m\u001b[0m\u001b[0;34m\u001b[0m\u001b[0m\n\u001b[1;32m    334\u001b[0m                     \u001b[0mSparkContext\u001b[0m\u001b[0;34m.\u001b[0m\u001b[0m_active_spark_context\u001b[0m \u001b[0;34m=\u001b[0m \u001b[0minstance\u001b[0m\u001b[0;34m\u001b[0m\u001b[0;34m\u001b[0m\u001b[0m\n",
      "\u001b[0;31mValueError\u001b[0m: Cannot run multiple SparkContexts at once; existing SparkContext(app=myapp, master=local[*]) created by __init__ at <ipython-input-3-14490ac5ac59>:2 "
     ]
    }
   ],
   "source": [
    "import pyspark as sp\n",
    "sc = sp.SparkContext(appName = 'myapp') # Execute SparkContext"
   ]
  },
  {
   "cell_type": "code",
   "execution_count": 0,
   "metadata": {
    "colab": {},
    "colab_type": "code",
    "id": "A8wkh6NKqFc6"
   },
   "outputs": [],
   "source": [
    "type(sc)"
   ]
  },
  {
   "cell_type": "markdown",
   "metadata": {
    "colab_type": "text",
    "id": "A7dFymMru5Xd"
   },
   "source": [
    "#### Parallelize"
   ]
  },
  {
   "cell_type": "code",
   "execution_count": 0,
   "metadata": {
    "colab": {},
    "colab_type": "code",
    "id": "SwV_1Q_8bDdC"
   },
   "outputs": [],
   "source": [
    "# Parallelize: using external data to create an RDD \n",
    "numRDD = sc.parallelize([1,2,3,4], 2)"
   ]
  },
  {
   "cell_type": "code",
   "execution_count": 0,
   "metadata": {
    "colab": {},
    "colab_type": "code",
    "id": "y0Hx52HZvcBY"
   },
   "outputs": [],
   "source": [
    "type(numRDD)"
   ]
  },
  {
   "cell_type": "code",
   "execution_count": 0,
   "metadata": {
    "colab": {},
    "colab_type": "code",
    "id": "SB0f7y0SRIXT"
   },
   "outputs": [],
   "source": [
    "numRDD.first()"
   ]
  },
  {
   "cell_type": "code",
   "execution_count": 0,
   "metadata": {
    "colab": {},
    "colab_type": "code",
    "id": "jb2_jW7oRNsY"
   },
   "outputs": [],
   "source": [
    "numRDD.map(lambda x: x*x).collect()"
   ]
  },
  {
   "cell_type": "code",
   "execution_count": 0,
   "metadata": {
    "colab": {},
    "colab_type": "code",
    "id": "jcE-nbvcRUjo"
   },
   "outputs": [],
   "source": [
    "numRDD.map(lambda x : x * x).reduce(lambda a, b: a+b)\n"
   ]
  },
  {
   "cell_type": "code",
   "execution_count": 0,
   "metadata": {
    "colab": {},
    "colab_type": "code",
    "id": "QxYi7grIRiJQ"
   },
   "outputs": [],
   "source": []
  }
 ],
 "metadata": {
  "accelerator": "TPU",
  "colab": {
   "name": "Core Apache Spark_2.ipynb",
   "provenance": [],
   "version": "0.3.2"
  },
  "kernelspec": {
   "display_name": "Python 3",
   "language": "python",
   "name": "python3"
  },
  "language_info": {
   "codemirror_mode": {
    "name": "ipython",
    "version": 3
   },
   "file_extension": ".py",
   "mimetype": "text/x-python",
   "name": "python",
   "nbconvert_exporter": "python",
   "pygments_lexer": "ipython3",
   "version": "3.6.8"
  }
 },
 "nbformat": 4,
 "nbformat_minor": 1
}
